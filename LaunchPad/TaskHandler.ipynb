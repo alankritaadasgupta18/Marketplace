{
 "cells": [
  {
   "cell_type": "code",
   "execution_count": 3,
   "id": "5f25a512-4dc1-4a74-a7e7-dea20e8ead68",
   "metadata": {
    "scrolled": true
   },
   "outputs": [
    {
     "name": "stdout",
     "output_type": "stream",
     "text": [
      "Executing: git fetch origin\n",
      "Error executing 'git fetch origin': fatal: could not read Username for 'https://github.com': No such device or address\n",
      "Executing: git merge --strategy=recursive -X theirs origin/main\n",
      "Output: Already up to date.\n",
      "\n",
      "Non-error message from 'git merge --strategy=recursive -X theirs origin/main': Already up to date.\n",
      "Repository is in an inconsistent state.\n"
     ]
    }
   ],
   "source": [
    "import papermill as pm\n",
    "import sys\n",
    "from concurrent.futures import ThreadPoolExecutor, as_completed\n",
    "import nbformat\n",
    "from LP_helper import should_run_task, autoGit\n",
    "try:\n",
    "    autoGit('pull')\n",
    "except:\n",
    "    print('test failed')"
   ]
  },
  {
   "cell_type": "code",
   "execution_count": 8,
   "id": "26d47cab-15b4-4d1b-ad1c-b69846121698",
   "metadata": {},
   "outputs": [],
   "source": [
    "# pip install papermill"
   ]
  },
  {
   "cell_type": "code",
   "execution_count": 9,
   "id": "4796f276-b96b-436e-be80-4c512ff6ce8a",
   "metadata": {},
   "outputs": [],
   "source": [
    "notebooks = [\n",
    "#     {\"path\": \"ConfigAutoGitDemon.ipynb\", \"kernel\": \"python310\" , 'frequency':'daily'},\n",
    "    {\"path\": \"SchedulesDemon.ipynb\", \"kernel\": \"python310\" , 'frequency':None},\n",
    "#     {\"path\": \"DataPushDemon.ipynb\", \"kernel\": \"python310\" , 'frequency':None},\n",
    "    {\"path\": \"DqrDemon.ipynb\", \"kernel\": \"python310\" , 'frequency':None},\n",
    "\n",
    "    \n",
    "]"
   ]
  },
  {
   "cell_type": "code",
   "execution_count": 10,
   "id": "d0e60c80-3e5d-4193-84df-4e0e3b59eb1f",
   "metadata": {
    "scrolled": true
   },
   "outputs": [
    {
     "name": "stdout",
     "output_type": "stream",
     "text": [
      "ConfigAutoGitDemon.ipynb daily True\n",
      "SchedulesDemon.ipynb None True\n",
      "DataPushDemon.ipynb None True\n",
      "[<Future at 0x7f99102b8340 state=running>, <Future at 0x7f99c0565240 state=running>, <Future at 0x7f99102baa10 state=running>, <Future at 0x7f99102b9f90 state=pending>]\n"
     ]
    },
    {
     "name": "stderr",
     "output_type": "stream",
     "text": [
      "Executing:   0%|          | 0/15 [00:00<?, ?cell/s]\n",
      "\n",
      "Executing:   0%|          | 0/12 [00:00<?, ?cell/s]\u001b[A\u001b[A\n",
      "Executing:   0%|          | 0/22 [00:00<?, ?cell/s]\u001b[A[IPKernelApp] WARNING | File not found: '/home/mnizam1/.local/share/jupyter/kernels/dsw_startup.py'\n",
      "[IPKernelApp] WARNING | File not found: '/home/mnizam1/.local/share/jupyter/kernels/dsw_startup.py'\n",
      "[IPKernelApp] WARNING | File not found: '/home/mnizam1/.local/share/jupyter/kernels/dsw_startup.py'\n",
      "Executing:  47%|████▋     | 7/15 [00:01<00:01,  5.93cell/s]"
     ]
    },
    {
     "name": "stdout",
     "output_type": "stream",
     "text": [
      "Generating public/private rsa key pair.\n",
      "/home/mnizam1/.ssh/id_rsa already exists.\n",
      "Overwrite (y/n)? "
     ]
    },
    {
     "name": "stderr",
     "output_type": "stream",
     "text": [
      "Executing: 100%|██████████| 15/15 [00:02<00:00,  6.71cell/s]\n"
     ]
    },
    {
     "name": "stdout",
     "output_type": "stream",
     "text": [
      "DqrDemon.ipynb None True\n"
     ]
    },
    {
     "name": "stderr",
     "output_type": "stream",
     "text": [
      "Executing:   0%|          | 0/60 [00:00<?, ?cell/s]\n",
      "\n",
      "Executing:   8%|▊         | 1/12 [00:02<00:25,  2.33s/cell]\u001b[A\u001b[A\n",
      "Executing:   5%|▍         | 1/22 [00:02<00:51,  2.46s/cell]\u001b[A\n",
      "\n",
      "Executing:  17%|█▋        | 2/12 [00:02<00:10,  1.05s/cell]\u001b[A\u001b[A\n",
      "Executing:   9%|▉         | 2/22 [00:02<00:21,  1.10s/cell]\u001b[A[IPKernelApp] WARNING | File not found: '/home/mnizam1/.local/share/jupyter/kernels/dsw_startup.py'\n",
      "\n",
      "\n",
      "Executing:  33%|███▎      | 4/12 [00:03<00:04,  1.72cell/s]\u001b[A\u001b[A\n",
      "\n",
      "Executing: 100%|██████████| 12/12 [00:04<00:00,  2.78cell/s][A\u001b[A\n",
      "Executing:  17%|█▋        | 10/60 [00:03<00:09,  5.02cell/s]Kernel died while waiting for execute reply.\n",
      "Executing:  22%|██▏       | 13/60 [00:05<00:18,  2.52cell/s]\n"
     ]
    },
    {
     "name": "stdout",
     "output_type": "stream",
     "text": [
      "Error executing the notebook DqrDemon.ipynb with kernel python310: Kernel died\n",
      "Execution failed for DqrDemon.ipynb\n"
     ]
    },
    {
     "name": "stderr",
     "output_type": "stream",
     "text": [
      "\n",
      "Executing:  27%|██▋       | 6/22 [00:22<01:04,  4.05s/cell]\u001b[A\n",
      "Executing:  45%|████▌     | 10/22 [00:22<00:24,  2.00s/cell]\u001b[A\n",
      "Executing: 100%|██████████| 22/22 [00:23<00:00,  1.07s/cell]\u001b[A"
     ]
    },
    {
     "name": "stdout",
     "output_type": "stream",
     "text": [
      "All notebooks have been processed.\n"
     ]
    },
    {
     "name": "stderr",
     "output_type": "stream",
     "text": [
      "\n"
     ]
    }
   ],
   "source": [
    "# Function to execute a notebook\n",
    "def execute_notebook(notebook):\n",
    "    notebook_path = notebook['path']\n",
    "    kernel_name = notebook['kernel']\n",
    "    frequency = notebook['frequency']\n",
    "    notebook_name = notebook_path.split('.')[0]\n",
    "    output_path = f\"demon_output/output_{notebook_name}.ipynb\"\n",
    "    \n",
    "    try:\n",
    "        print(notebook_path, frequency,should_run_task(notebook_path, frequency))\n",
    "        if should_run_task(notebook_path, frequency):\n",
    "            \n",
    "            pm.execute_notebook(\n",
    "                notebook_path,\n",
    "                output_path,  # Output notebook with a timestamp to make it unique\n",
    "                kernel_name=kernel_name\n",
    "            )\n",
    "            return True, output_path\n",
    "        return False, notebook_path\n",
    "    except Exception as e:\n",
    "        print(f\"Error executing the notebook {notebook_path} with kernel {kernel_name}: {e}\")\n",
    "        \n",
    "        # Ensure the error message is modified in the output notebook\n",
    "        with open(output_path) as f:\n",
    "            nb = nbformat.read(f, as_version=4)\n",
    "        \n",
    "        for cell in nb.cells:\n",
    "            if cell.cell_type == 'markdown' and 'Execution using papermill encountered an exception here and stopped:' in cell.source:\n",
    "                cell.source = cell.source.replace('Execution using papermill encountered an exception here and stopped:', 'Execution using LaunchPad encountered an exception here and stopped:')\n",
    "        \n",
    "        with open(output_path, 'w', encoding='utf-8') as f:\n",
    "            nbformat.write(nb, f)\n",
    "\n",
    "        return False, notebook_path\n",
    "\n",
    "# Function to log the failure of a notebook\n",
    "def log_failure(notebook_name):\n",
    "    print(f\"Execution failed for {notebook_name}\")\n",
    "\n",
    "# Execute notebooks in parallel\n",
    "with ThreadPoolExecutor(max_workers=3) as executor:\n",
    "    futures = [executor.submit(execute_notebook, notebook) for notebook in notebooks]\n",
    "    print(futures)\n",
    "    for future in as_completed(futures):\n",
    "        success, notebook_path = future.result()\n",
    "        if not success:\n",
    "            log_failure(notebook_path)\n",
    "\n",
    "print(\"All notebooks have been processed.\")\n"
   ]
  },
  {
   "cell_type": "code",
   "execution_count": null,
   "id": "eaecbdfe-0707-4d9f-8a24-c1cbe5e6278c",
   "metadata": {},
   "outputs": [],
   "source": []
  },
  {
   "cell_type": "code",
   "execution_count": null,
   "id": "00df07c1-8f06-49d6-8f9a-61f450e31ddf",
   "metadata": {},
   "outputs": [],
   "source": []
  },
  {
   "cell_type": "code",
   "execution_count": null,
   "id": "ad1679f1-90ea-4690-aad6-7b0a4d6af39a",
   "metadata": {},
   "outputs": [],
   "source": []
  },
  {
   "cell_type": "code",
   "execution_count": null,
   "id": "6129680b-3f5c-4b4c-90f0-585ee9012501",
   "metadata": {},
   "outputs": [],
   "source": []
  }
 ],
 "metadata": {
  "kernelspec": {
   "display_name": "01. Python 3.10 (General DS)",
   "language": "python",
   "name": "python310"
  },
  "language_info": {
   "codemirror_mode": {
    "name": "ipython",
    "version": 3
   },
   "file_extension": ".py",
   "mimetype": "text/x-python",
   "name": "python",
   "nbconvert_exporter": "python",
   "pygments_lexer": "ipython3",
   "version": "3.10.8"
  }
 },
 "nbformat": 4,
 "nbformat_minor": 5
}
