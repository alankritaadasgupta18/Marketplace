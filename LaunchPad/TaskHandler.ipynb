{
 "cells": [
  {
   "cell_type": "code",
   "execution_count": 1,
   "id": "5f25a512-4dc1-4a74-a7e7-dea20e8ead68",
   "metadata": {
    "scrolled": true
   },
   "outputs": [],
   "source": [
    "import papermill as pm\n",
    "import sys\n",
    "from concurrent.futures import ThreadPoolExecutor, as_completed\n",
    "import nbformat\n",
    "from LP_helper import should_run_task, autoGit\n",
    "try:\n",
    "    autoGit('pull')\n",
    "except:\n",
    "    print('test failed')"
   ]
  },
  {
   "cell_type": "code",
   "execution_count": null,
   "id": "26d47cab-15b4-4d1b-ad1c-b69846121698",
   "metadata": {},
   "outputs": [],
   "source": [
    "# pip install papermill"
   ]
  },
  {
   "cell_type": "code",
   "execution_count": 2,
   "id": "4796f276-b96b-436e-be80-4c512ff6ce8a",
   "metadata": {},
   "outputs": [],
   "source": [
    "notebooks = [\n",
    "    {\"path\": \"ConfigAutoGitDemon.ipynb\", \"kernel\": \"python310\" , 'frequency':'daily'},\n",
    "    {\"path\": \"SchedulesDemon.ipynb\", \"kernel\": \"python310\" , 'frequency':None},\n",
    "#     {\"path\": \"DataPushDemon.ipynb\", \"kernel\": \"python310\" , 'frequency':None},\n",
    "    {\"path\": \"DqrDemon.ipynb\", \"kernel\": \"python310\" , 'frequency':None},\n",
    "\n",
    "    \n",
    "]"
   ]
  },
  {
   "cell_type": "code",
   "execution_count": 4,
   "id": "d0e60c80-3e5d-4193-84df-4e0e3b59eb1f",
   "metadata": {
    "scrolled": true
   },
   "outputs": [
    {
     "name": "stderr",
     "output_type": "stream",
     "text": [
      "\n",
      "xecuting:   0%|          | 0/65 [00:56<?, ?cell/s]"
     ]
    },
    {
     "name": "stdout",
     "output_type": "stream",
     "text": [
      "SchedulesDemon.ipynb None True\n",
      "DqrDemon.ipynb None True\n",
      "[<Future at 0x7f1d6959b220 state=running>, <Future at 0x7f1d6959b460 state=running>]\n"
     ]
    },
    {
     "name": "stderr",
     "output_type": "stream",
     "text": [
      "\n",
      "\u001b[A\n",
      "\n",
      "\u001b[A\u001b[A[IPKernelApp] WARNING | File not found: '/home/kshiva19/.local/share/jupyter/kernels/dsw_startup.py'\n",
      "[IPKernelApp] WARNING | File not found: '/home/kshiva19/.local/share/jupyter/kernels/dsw_startup.py'\n",
      "\n",
      "\u001b[A\n",
      "\u001b[A\n",
      "\n",
      "\u001b[A\u001b[A\n",
      "\n",
      "\u001b[A\u001b[A\n",
      "\u001b[A\n",
      "\n",
      "\u001b[A\u001b[A\n",
      "\n",
      "\u001b[A\u001b[A\n",
      "\u001b[A\n",
      "\n",
      "\u001b[A\u001b[A\n",
      "\n",
      "\u001b[A\u001b[A\n",
      "\n",
      "\u001b[A\u001b[A\n",
      "\n",
      "\u001b[A\u001b[A\n",
      "\n",
      "\u001b[A\u001b[A\n",
      "\n",
      "\u001b[A\u001b[A\n",
      "\n",
      "\u001b[A\u001b[A\n",
      "\n",
      "\u001b[A\u001b[A\n",
      "\n",
      "\u001b[A\u001b[A\n",
      "\n",
      "\u001b[A\u001b[A\n",
      "\n",
      "\u001b[A\u001b[A\n",
      "\n",
      "\u001b[A\u001b[A[IPKernelApp] WARNING | File not found: '/home/kshiva19/.local/share/jupyter/kernels/dsw_startup.py'\n",
      "\n",
      "\n",
      "\u001b[A\u001b[A\n",
      "\n",
      "\u001b[A\u001b[A\n",
      "\n",
      "\u001b[A\u001b[A\n",
      "\n",
      "\u001b[A\u001b[A\n",
      "\n",
      "\u001b[A\u001b[A\n",
      "\n",
      "\u001b[A\u001b[A\n",
      "\n",
      "\u001b[A\u001b[A\n",
      "\n",
      "\n",
      "\n",
      "Executing:  47%|████▋     | 9/19 [00:34<00:38,  3.88s/cell]"
     ]
    },
    {
     "name": "stdout",
     "output_type": "stream",
     "text": [
      "Error executing the notebook SchedulesDemon.ipynb with kernel python310: \n",
      "---------------------------------------------------------------------------\n",
      "Exception encountered at \"In [7]\":\n",
      "---------------------------------------------------------------------------\n",
      "UnboundLocalError                         Traceback (most recent call last)\n",
      "Cell In[7], line 1\n",
      "----> 1 list(map(lambda x: postSchedulerToDqrRequest(x, dashboard), onPreCheck))\n",
      "\n",
      "Cell In[7], line 1, in <lambda>(x)\n",
      "----> 1 list(map(lambda x: postSchedulerToDqrRequest(x, dashboard), onPreCheck))\n",
      "\n",
      "File /nfs/nfs_dsw_phx2_prod/kshiva19/LP_multiple_parameters/LaunchPad_TaskHandler/Launch pad/LP_helper.py:1583, in postSchedulerToDqrRequest(preCheck, dashboard)\n",
      "   1581 print(f'status: {status}')\n",
      "   1582 # parameters_json = html.unescape(json.dumps(parameters))\n",
      "-> 1583 parameters_json = html.escape(parameters_json)\n",
      "   1584 print(\"\\n\")\n",
      "   1585 print(f'json param:{parameters_json}')\n",
      "\n",
      "UnboundLocalError: local variable 'parameters_json' referenced before assignment\n",
      "\n",
      "Execution failed for SchedulesDemon.ipynb\n",
      "All notebooks have been processed.\n"
     ]
    },
    {
     "name": "stderr",
     "output_type": "stream",
     "text": [
      "\n"
     ]
    }
   ],
   "source": [
    "# Function to execute a notebook\n",
    "def execute_notebook(notebook):\n",
    "    notebook_path = notebook['path']\n",
    "    kernel_name = notebook['kernel']\n",
    "    frequency = notebook['frequency']\n",
    "    notebook_name = notebook_path.split('.')[0]\n",
    "    output_path = f\"demon_output/output_{notebook_name}.ipynb\"\n",
    "    \n",
    "    try:\n",
    "        print(notebook_path, frequency,should_run_task(notebook_path, frequency))\n",
    "        if should_run_task(notebook_path, frequency):\n",
    "            \n",
    "            pm.execute_notebook(\n",
    "                notebook_path,\n",
    "                output_path,  # Output notebook with a timestamp to make it unique\n",
    "                kernel_name=kernel_name\n",
    "            )\n",
    "            return True, output_path\n",
    "        return False, notebook_path\n",
    "    except Exception as e:\n",
    "        print(f\"Error executing the notebook {notebook_path} with kernel {kernel_name}: {e}\")\n",
    "        \n",
    "        # Ensure the error message is modified in the output notebook\n",
    "        with open(output_path) as f:\n",
    "            nb = nbformat.read(f, as_version=4)\n",
    "        \n",
    "        for cell in nb.cells:\n",
    "            if cell.cell_type == 'markdown' and 'Execution using papermill encountered an exception here and stopped:' in cell.source:\n",
    "                cell.source = cell.source.replace('Execution using papermill encountered an exception here and stopped:', 'Execution using LaunchPad encountered an exception here and stopped:')\n",
    "        \n",
    "        with open(output_path, 'w', encoding='utf-8') as f:\n",
    "            nbformat.write(nb, f)\n",
    "\n",
    "        return False, notebook_path\n",
    "\n",
    "# Function to log the failure of a notebook\n",
    "def log_failure(notebook_name):\n",
    "    print(f\"Execution failed for {notebook_name}\")\n",
    "\n",
    "# Execute notebooks in parallel\n",
    "with ThreadPoolExecutor(max_workers=3) as executor:\n",
    "    futures = [executor.submit(execute_notebook, notebook) for notebook in notebooks]\n",
    "    print(futures)\n",
    "    for future in as_completed(futures):\n",
    "        success, notebook_path = future.result()\n",
    "        if not success:\n",
    "            log_failure(notebook_path)\n",
    "\n",
    "print(\"All notebooks have been processed.\")\n"
   ]
  },
  {
   "cell_type": "code",
   "execution_count": null,
   "id": "eaecbdfe-0707-4d9f-8a24-c1cbe5e6278c",
   "metadata": {},
   "outputs": [],
   "source": []
  },
  {
   "cell_type": "code",
   "execution_count": null,
   "id": "00df07c1-8f06-49d6-8f9a-61f450e31ddf",
   "metadata": {},
   "outputs": [],
   "source": []
  },
  {
   "cell_type": "code",
   "execution_count": null,
   "id": "ad1679f1-90ea-4690-aad6-7b0a4d6af39a",
   "metadata": {},
   "outputs": [],
   "source": []
  },
  {
   "cell_type": "code",
   "execution_count": null,
   "id": "6129680b-3f5c-4b4c-90f0-585ee9012501",
   "metadata": {},
   "outputs": [],
   "source": []
  }
 ],
 "metadata": {
  "kernelspec": {
   "display_name": "01. Python 3.10 (General DS)",
   "language": "python",
   "name": "python310"
  },
  "language_info": {
   "codemirror_mode": {
    "name": "ipython",
    "version": 3
   },
   "file_extension": ".py",
   "mimetype": "text/x-python",
   "name": "python",
   "nbconvert_exporter": "python",
   "pygments_lexer": "ipython3",
   "version": "3.10.8"
  }
 },
 "nbformat": 4,
 "nbformat_minor": 5
}
