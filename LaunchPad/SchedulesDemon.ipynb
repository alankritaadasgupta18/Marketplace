{
 "cells": [
  {
   "cell_type": "code",
   "execution_count": 1,
   "id": "b7e9010f-2479-47bc-92f9-74748873fffb",
   "metadata": {
    "papermill": {
     "duration": 1.33268,
     "end_time": "2024-07-24T09:23:18.036474",
     "exception": false,
     "start_time": "2024-07-24T09:23:16.703794",
     "status": "completed"
    },
    "tags": []
   },
   "outputs": [],
   "source": [
    "import pypostmaster\n",
    "import getpass\n",
    "from queryrunner_client import *\n",
    "from queryrunner_client import QueryRunnerException\n",
    "import numpy as np\n",
    "import pandas as pd\n",
    "from pandas.io import gbq\n",
    "import pytz\n",
    "from datetime import datetime, timedelta, tzinfo\n",
    "import time\n",
    "import warnings\n",
    "import matplotlib.pyplot as plt\n",
    "import seaborn as sns\n",
    "from dateutil.relativedelta import relativedelta\n",
    "import docx\n",
    "from docx import Document\n",
    "from docxtpl import DocxTemplate, InlineImage\n",
    "from docx.shared import Inches\n",
    "import jinja2\n",
    "import math\n",
    "import yaml\n",
    "import os\n",
    "import signal\n",
    "\n",
    "import gspread\n",
    "from oauth2client.service_account import ServiceAccountCredentials\n",
    "from pydrive.auth import GoogleAuth\n",
    "from pydrive.drive import GoogleDrive\n",
    "import uuid\n",
    "import json\n",
    "from google.cloud import bigquery\n",
    "import base64\n",
    "import nbformat\n",
    "from IPython import get_ipython\n",
    "import shutil\n",
    "import subprocess\n",
    "import random\n",
    "from croniter import croniter\n",
    "\n",
    "\n",
    "ipython = get_ipython()"
   ]
  },
  {
   "cell_type": "code",
   "execution_count": 2,
   "id": "b6044b99-5bcb-4d16-8e90-11ab383acf5b",
   "metadata": {
    "papermill": {
     "duration": 0.098757,
     "end_time": "2024-07-24T09:23:18.139777",
     "exception": false,
     "start_time": "2024-07-24T09:23:18.041020",
     "status": "completed"
    },
    "tags": []
   },
   "outputs": [],
   "source": [
    "from LP_helper import ymlParser \n",
    "from LP_helper import validateDriveAccess\n",
    "from LP_helper import runBQuery\n",
    "from LP_helper import getNextID\n",
    "from LP_helper import getDateFromShortName\n",
    "from LP_helper import getDqrRequest\n",
    "from LP_helper import isDqrRequestAvailable\n",
    "from LP_helper import executeNotebookCell\n",
    "from LP_helper import postDqrCompleted\n",
    "from LP_helper import sendDqrMail\n",
    "from LP_helper import postDqrScriptFail\n",
    "from LP_helper import CreateDqrLogger\n",
    "from LP_helper import resetDqrLongRunningTask\n",
    "from LP_helper import maxDqrTaskChecker\n",
    "from LP_helper import resetDqrForTesting\n",
    "from LP_helper import postDqrAutoLog\n",
    "from LP_helper import Fail_mail\n",
    "\n",
    "\n",
    "from LP_helper import uploadFileToDrive\n",
    "from LP_helper import getQueryUUID\n",
    "from LP_helper import getEncodedImg\n",
    "\n",
    "from LP_helper import getDpvQueryReportID\n",
    "from LP_helper import getDataPushRequest\n",
    "from LP_helper import triggerDataPush\n",
    "from LP_helper import getDataPushReportRequest\n",
    "from LP_helper import postDpvCompleted\n",
    "from LP_helper import sendDpvMail\n",
    "\n",
    "from LP_helper import getHistoricalScheduler\n",
    "from LP_helper import isScheduled\n",
    "from LP_helper import nextRunin\n",
    "from LP_helper import SchedulesToPrecheck\n",
    "from LP_helper import getThisWeekStartEnd\n",
    "from LP_helper import getSchedulerForPreCheck\n",
    "from LP_helper import postReportRequest\n",
    "from LP_helper import postSchedulerToDqrRequest\n",
    "\n",
    "from LP_helper import getData"
   ]
  },
  {
   "cell_type": "markdown",
   "id": "639601e6-1d52-44f9-81e7-c826b07a81f4",
   "metadata": {
    "papermill": {
     "duration": 0.003768,
     "end_time": "2024-07-24T09:23:18.148094",
     "exception": false,
     "start_time": "2024-07-24T09:23:18.144326",
     "status": "completed"
    },
    "tags": []
   },
   "source": [
    "# Schedule to Pre-Check"
   ]
  },
  {
   "cell_type": "code",
   "execution_count": 3,
   "id": "c10c6c6d-44e3-4718-b5e5-8d1b9008951a",
   "metadata": {
    "papermill": {
     "duration": 2.392862,
     "end_time": "2024-07-24T09:23:20.544578",
     "exception": false,
     "start_time": "2024-07-24T09:23:18.151716",
     "status": "completed"
    },
    "scrolled": true,
    "tags": []
   },
   "outputs": [
    {
     "data": {
      "text/html": [
       "<div>\n",
       "<style scoped>\n",
       "    .dataframe tbody tr th:only-of-type {\n",
       "        vertical-align: middle;\n",
       "    }\n",
       "\n",
       "    .dataframe tbody tr th {\n",
       "        vertical-align: top;\n",
       "    }\n",
       "\n",
       "    .dataframe thead th {\n",
       "        text-align: right;\n",
       "    }\n",
       "</style>\n",
       "<table border=\"1\" class=\"dataframe\">\n",
       "  <thead>\n",
       "    <tr style=\"text-align: right;\">\n",
       "      <th></th>\n",
       "      <th>scheduler_id</th>\n",
       "      <th>created_at</th>\n",
       "      <th>updated_at</th>\n",
       "      <th>last_executed_at</th>\n",
       "      <th>is_active</th>\n",
       "      <th>dqr_name</th>\n",
       "      <th>run_on</th>\n",
       "      <th>run_condition</th>\n",
       "      <th>run_status</th>\n",
       "      <th>email_address</th>\n",
       "      <th>query_run_condition</th>\n",
       "      <th>getRunId_querybuilder</th>\n",
       "      <th>cron_minute</th>\n",
       "      <th>cron_hour</th>\n",
       "      <th>cron_day</th>\n",
       "      <th>cron_month</th>\n",
       "      <th>cron_weekday</th>\n",
       "      <th>dashboard</th>\n",
       "      <th>parameters</th>\n",
       "      <th>cronEcpresssion</th>\n",
       "    </tr>\n",
       "  </thead>\n",
       "  <tbody>\n",
       "    <tr>\n",
       "      <th>0</th>\n",
       "      <td>3</td>\n",
       "      <td>2024-05-14 14:36:45</td>\n",
       "      <td>2024-12-12 08:02:36</td>\n",
       "      <td>2024-12-12 13:32:35</td>\n",
       "      <td>1</td>\n",
       "      <td>France Rides Old</td>\n",
       "      <td>Any</td>\n",
       "      <td>Recurring; Until Complete</td>\n",
       "      <td>None</td>\n",
       "      <td>mnizam1@ext.uber.com</td>\n",
       "      <td>Fresh Run all</td>\n",
       "      <td>None</td>\n",
       "      <td>0</td>\n",
       "      <td>12</td>\n",
       "      <td>*</td>\n",
       "      <td>*</td>\n",
       "      <td>4</td>\n",
       "      <td>gi_gss</td>\n",
       "      <td>None</td>\n",
       "      <td>0 12 * * 4</td>\n",
       "    </tr>\n",
       "    <tr>\n",
       "      <th>1</th>\n",
       "      <td>84</td>\n",
       "      <td>2024-11-21 08:47:34</td>\n",
       "      <td>2024-12-12 08:02:37</td>\n",
       "      <td>2024-12-12 13:32:36</td>\n",
       "      <td>1</td>\n",
       "      <td>US Eats Ensemble</td>\n",
       "      <td>mnizam1</td>\n",
       "      <td>Recurring;Until Complete</td>\n",
       "      <td>None</td>\n",
       "      <td>mnizam1@ext.uber.com</td>\n",
       "      <td>Run by UUID if a fresh run is available within...</td>\n",
       "      <td>uCidl3haP</td>\n",
       "      <td>0</td>\n",
       "      <td>13</td>\n",
       "      <td>*</td>\n",
       "      <td>*</td>\n",
       "      <td>4</td>\n",
       "      <td>gi_gss</td>\n",
       "      <td>None</td>\n",
       "      <td>0 13 * * 4</td>\n",
       "    </tr>\n",
       "    <tr>\n",
       "      <th>2</th>\n",
       "      <td>86</td>\n",
       "      <td>2024-11-21 13:30:31</td>\n",
       "      <td>2024-12-12 08:05:44</td>\n",
       "      <td>2024-12-12 13:35:43</td>\n",
       "      <td>1</td>\n",
       "      <td>US Eats Ensemble</td>\n",
       "      <td>vjayap</td>\n",
       "      <td>Recurring;Until Complete</td>\n",
       "      <td>None</td>\n",
       "      <td>vjayap@ext.uber.com</td>\n",
       "      <td>Fresh Run all</td>\n",
       "      <td>uCidl3haP</td>\n",
       "      <td>35</td>\n",
       "      <td>13</td>\n",
       "      <td>*</td>\n",
       "      <td>*</td>\n",
       "      <td>4</td>\n",
       "      <td>gi_gss</td>\n",
       "      <td>None</td>\n",
       "      <td>35 13 * * 4</td>\n",
       "    </tr>\n",
       "    <tr>\n",
       "      <th>3</th>\n",
       "      <td>100</td>\n",
       "      <td>2024-12-10 10:33:28</td>\n",
       "      <td>2024-12-10 11:35:16</td>\n",
       "      <td>2024-12-10 17:05:15</td>\n",
       "      <td>1</td>\n",
       "      <td>Australia Eats</td>\n",
       "      <td>kshiva19</td>\n",
       "      <td>Once</td>\n",
       "      <td>None</td>\n",
       "      <td>kshiva19@ext.uber.com</td>\n",
       "      <td>Run by UUID if a fresh run is available within...</td>\n",
       "      <td></td>\n",
       "      <td>3</td>\n",
       "      <td>17</td>\n",
       "      <td>*</td>\n",
       "      <td>*</td>\n",
       "      <td>2</td>\n",
       "      <td>gi_gss</td>\n",
       "      <td>{\"query_id\": \"\"}</td>\n",
       "      <td>3 17 * * 2</td>\n",
       "    </tr>\n",
       "    <tr>\n",
       "      <th>4</th>\n",
       "      <td>101</td>\n",
       "      <td>2024-12-10 17:12:26</td>\n",
       "      <td>2024-12-11 11:20:02</td>\n",
       "      <td>2024-12-11 16:50:01</td>\n",
       "      <td>1</td>\n",
       "      <td>US Eats Ensemble</td>\n",
       "      <td>kshiva19</td>\n",
       "      <td>Once</td>\n",
       "      <td>None</td>\n",
       "      <td>kshiva19@ext.uber.com</td>\n",
       "      <td>Fresh Run all</td>\n",
       "      <td>uCidl3haP</td>\n",
       "      <td>50</td>\n",
       "      <td>16</td>\n",
       "      <td>*</td>\n",
       "      <td>*</td>\n",
       "      <td>3</td>\n",
       "      <td>gi_gss</td>\n",
       "      <td>{\"query_id\": \"uCidl3haP\"}</td>\n",
       "      <td>50 16 * * 3</td>\n",
       "    </tr>\n",
       "    <tr>\n",
       "      <th>5</th>\n",
       "      <td>106</td>\n",
       "      <td>2024-12-16 10:25:58</td>\n",
       "      <td>2024-12-16 04:57:04</td>\n",
       "      <td>2024-12-16 10:27:02</td>\n",
       "      <td>1</td>\n",
       "      <td>Testing</td>\n",
       "      <td>kshiva19</td>\n",
       "      <td>Once</td>\n",
       "      <td>None</td>\n",
       "      <td>kshiva19@ext.uber.com</td>\n",
       "      <td>Run by UUID if a fresh run is available within...</td>\n",
       "      <td>None</td>\n",
       "      <td>27</td>\n",
       "      <td>10</td>\n",
       "      <td>*</td>\n",
       "      <td>*</td>\n",
       "      <td>1</td>\n",
       "      <td>test</td>\n",
       "      <td>{\"text1\": \"launchpad\", \"text2\": \"launchpad par...</td>\n",
       "      <td>27 10 * * 1</td>\n",
       "    </tr>\n",
       "  </tbody>\n",
       "</table>\n",
       "</div>"
      ],
      "text/plain": [
       "   scheduler_id          created_at          updated_at    last_executed_at  \\\n",
       "0             3 2024-05-14 14:36:45 2024-12-12 08:02:36 2024-12-12 13:32:35   \n",
       "1            84 2024-11-21 08:47:34 2024-12-12 08:02:37 2024-12-12 13:32:36   \n",
       "2            86 2024-11-21 13:30:31 2024-12-12 08:05:44 2024-12-12 13:35:43   \n",
       "3           100 2024-12-10 10:33:28 2024-12-10 11:35:16 2024-12-10 17:05:15   \n",
       "4           101 2024-12-10 17:12:26 2024-12-11 11:20:02 2024-12-11 16:50:01   \n",
       "5           106 2024-12-16 10:25:58 2024-12-16 04:57:04 2024-12-16 10:27:02   \n",
       "\n",
       "   is_active          dqr_name    run_on              run_condition  \\\n",
       "0          1  France Rides Old       Any  Recurring; Until Complete   \n",
       "1          1  US Eats Ensemble   mnizam1   Recurring;Until Complete   \n",
       "2          1  US Eats Ensemble    vjayap   Recurring;Until Complete   \n",
       "3          1    Australia Eats  kshiva19                       Once   \n",
       "4          1  US Eats Ensemble  kshiva19                       Once   \n",
       "5          1           Testing  kshiva19                       Once   \n",
       "\n",
       "  run_status          email_address  \\\n",
       "0       None   mnizam1@ext.uber.com   \n",
       "1       None   mnizam1@ext.uber.com   \n",
       "2       None    vjayap@ext.uber.com   \n",
       "3       None  kshiva19@ext.uber.com   \n",
       "4       None  kshiva19@ext.uber.com   \n",
       "5       None  kshiva19@ext.uber.com   \n",
       "\n",
       "                                 query_run_condition getRunId_querybuilder  \\\n",
       "0                                      Fresh Run all                  None   \n",
       "1  Run by UUID if a fresh run is available within...             uCidl3haP   \n",
       "2                                      Fresh Run all             uCidl3haP   \n",
       "3  Run by UUID if a fresh run is available within...                         \n",
       "4                                      Fresh Run all             uCidl3haP   \n",
       "5  Run by UUID if a fresh run is available within...                  None   \n",
       "\n",
       "  cron_minute cron_hour cron_day cron_month cron_weekday dashboard  \\\n",
       "0           0        12        *          *            4    gi_gss   \n",
       "1           0        13        *          *            4    gi_gss   \n",
       "2          35        13        *          *            4    gi_gss   \n",
       "3           3        17        *          *            2    gi_gss   \n",
       "4          50        16        *          *            3    gi_gss   \n",
       "5          27        10        *          *            1      test   \n",
       "\n",
       "                                          parameters cronEcpresssion  \n",
       "0                                               None      0 12 * * 4  \n",
       "1                                               None      0 13 * * 4  \n",
       "2                                               None     35 13 * * 4  \n",
       "3                                   {\"query_id\": \"\"}      3 17 * * 2  \n",
       "4                          {\"query_id\": \"uCidl3haP\"}     50 16 * * 3  \n",
       "5  {\"text1\": \"launchpad\", \"text2\": \"launchpad par...     27 10 * * 1  "
      ]
     },
     "execution_count": 3,
     "metadata": {},
     "output_type": "execute_result"
    }
   ],
   "source": [
    "historicalScheduler = getHistoricalScheduler()\n",
    "df = pd.DataFrame(historicalScheduler)\n",
    "df"
   ]
  },
  {
   "cell_type": "code",
   "execution_count": 6,
   "id": "5d4aa961-a9e1-404f-9230-f576fc98e719",
   "metadata": {
    "papermill": {
     "duration": 0.012586,
     "end_time": "2024-07-24T09:23:20.561997",
     "exception": false,
     "start_time": "2024-07-24T09:23:20.549411",
     "status": "completed"
    },
    "tags": []
   },
   "outputs": [
    {
     "name": "stdout",
     "output_type": "stream",
     "text": [
      "False France Rides Old gi_gss\n",
      "3 days, 1:31:37.861584\n",
      "False US Eats Ensemble gi_gss\n",
      "3 days, 2:31:37.861078\n",
      "False US Eats Ensemble gi_gss\n",
      "3 days, 3:06:37.860563\n",
      "False Australia Eats gi_gss\n",
      "1 day, 6:34:37.860066\n",
      "False US Eats Ensemble gi_gss\n",
      "2 days, 6:21:37.859554\n",
      "False Testing test\n",
      "6 days, 23:58:37.859046\n"
     ]
    }
   ],
   "source": [
    "for schedule in historicalScheduler:\n",
    "    status = isScheduled(schedule['last_executed_at'], schedule['cronEcpresssion'])\n",
    "    \n",
    "    if status: \n",
    "        print(schedule)\n",
    "        SchedulesToPrecheck(schedule)\n",
    "    print(status, schedule['dqr_name'],schedule['dashboard'])\n",
    "    dashboard = schedule['dashboard']\n",
    "    nextRunin(schedule['cronEcpresssion'])\n",
    "    "
   ]
  },
  {
   "cell_type": "markdown",
   "id": "cd0965d8-061b-485b-970c-a693b8d069f9",
   "metadata": {
    "papermill": {
     "duration": 0.003979,
     "end_time": "2024-07-24T09:23:20.570237",
     "exception": false,
     "start_time": "2024-07-24T09:23:20.566258",
     "status": "completed"
    },
    "tags": []
   },
   "source": [
    "# Pre-Check to DQR request"
   ]
  },
  {
   "cell_type": "code",
   "execution_count": 24,
   "id": "1c1a2e83-1e6f-445c-8a18-14ba9f6de7d6",
   "metadata": {
    "papermill": {
     "duration": 2.200785,
     "end_time": "2024-07-24T09:23:22.774819",
     "exception": false,
     "start_time": "2024-07-24T09:23:20.574034",
     "status": "completed"
    },
    "scrolled": true,
    "tags": []
   },
   "outputs": [
    {
     "name": "stdout",
     "output_type": "stream",
     "text": [
      "\n",
      "            SELECT * FROM launchpad_schedular_on_pre_check_dev\n",
      "            WHERE run_status != 'Completed'\n",
      "            AND (\n",
      "                past_checked_at IS NULL OR \n",
      "                past_checked_at < '2024-12-16 10:07:06'\n",
      "            )\n",
      "        \n",
      "   pre_check_id  scheduler_id          created_at          updated_at  \\\n",
      "0           184           106 2024-12-16 04:57:03 2024-12-16 04:57:03   \n",
      "\n",
      "  getRunId_querybuilder run_status runIds past_checked_at  \\\n",
      "0                  None                              None   \n",
      "\n",
      "                                          parameters  \n",
      "0  {\"text1\": \"launchpad\", \"text2\": \"launchpad par...  \n"
     ]
    },
    {
     "data": {
      "text/plain": [
       "[{'pre_check_id': 184,\n",
       "  'scheduler_id': 106,\n",
       "  'created_at': Timestamp('2024-12-16 04:57:03'),\n",
       "  'updated_at': Timestamp('2024-12-16 04:57:03'),\n",
       "  'getRunId_querybuilder': None,\n",
       "  'run_status': '',\n",
       "  'runIds': '',\n",
       "  'past_checked_at': None,\n",
       "  'parameters': '{\"text1\": \"launchpad\", \"text2\": \"launchpad parameter\", \"c_code\": \"Hh9w3g6hR\", \"c_name\": \"onEk0k6nx\"}'}]"
      ]
     },
     "execution_count": 24,
     "metadata": {},
     "output_type": "execute_result"
    }
   ],
   "source": [
    "onPreCheck = getSchedulerForPreCheck()\n",
    "onPreCheck\n"
   ]
  },
  {
   "cell_type": "code",
   "execution_count": 7,
   "id": "e7b929df",
   "metadata": {},
   "outputs": [],
   "source": [
    "# from pandas import Timestamp\n",
    "\n",
    "# onPreCheck = [{'pre_check_id': 184,\n",
    "#   'scheduler_id': 106,\n",
    "#   'created_at': Timestamp('2024-12-16 04:57:03'),\n",
    "#   'updated_at': Timestamp('2024-12-16 04:57:03'),\n",
    "#   'getRunId_querybuilder': None,\n",
    "#   'run_status': '',\n",
    "#   'runIds': '',\n",
    "#   'past_checked_at': None,\n",
    "#   'parameters': '{\"text1\": \"launchpad\", \"text2\": \"launchpad parameter\", \"c_code\": \"Hh9w3g6hR\", \"c_name\": \"onEk0k6nx\"}'}]"
   ]
  },
  {
   "cell_type": "code",
   "execution_count": 8,
   "id": "7497ffaf",
   "metadata": {
    "scrolled": false
   },
   "outputs": [
    {
     "name": "stdout",
     "output_type": "stream",
     "text": [
      "param keys: ['text1', 'text2', 'c_code', 'c_name']\n",
      "  variable_name  exec_type      column_name\n",
      "0        c_name  qb_report  competitor_name\n",
      "1        c_code  qb_report     country_code\n",
      "2         text1       text             None\n",
      "3         text2       text             None\n",
      "text_params = {'text1': 'launchpad', 'text2': 'launchpad parameter'}\n",
      "qb_report_params = {'c_code': 'Hh9w3g6hR', 'c_name': 'onEk0k6nx'}\n",
      "Decoded Text Parameters: {'text1': 'launchpad', 'text2': 'launchpad parameter'}\n"
     ]
    },
    {
     "name": "stderr",
     "output_type": "stream",
     "text": [
      "12/16/2024 04:58:30 AM \u001b[92m Obtained utoken email from file \u001b[0m\n",
      "12/16/2024 04:58:30 AM \u001b[92m Obtained utoken from utoken cli \u001b[0m\n",
      "12/16/2024 04:58:30 AM \u001b[93m Could not obtain utoken from cli: b'/bin/sh: 1: usso: not found\\n'\n",
      "Trying to obtain from file \u001b[0m\n",
      "12/16/2024 04:58:30 AM \u001b[92m Obtained utoken for user \u001b[0m\n",
      "12/16/2024 04:58:30 AM \u001b[93m Fetching metadata for Report Hh9w3g6hR \u001b[0m\n",
      "12/16/2024 04:58:30 AM \u001b[92m Loaded object metadata. \u001b[0m\n",
      "12/16/2024 04:58:30 AM Send tier_metadata {'report_id': 'Hh9w3g6hR'} to Queryrunner V2.\n"
     ]
    },
    {
     "name": "stdout",
     "output_type": "stream",
     "text": [
      "Query executed successfully.\n"
     ]
    },
    {
     "name": "stderr",
     "output_type": "stream",
     "text": [
      "12/16/2024 04:58:30 AM \u001b[93m [Polling] 5ce68005-a8ee-45e0-92c4-bcf44fb3a969 \u001b[0m\n",
      "12/16/2024 04:58:30 AM \u001b[93m [Status] created \u001b[0m\n",
      "12/16/2024 04:58:31 AM \u001b[93m [Status] started auth check \u001b[0m\n",
      "12/16/2024 04:58:32 AM \u001b[93m [Status] started execution \u001b[0m\n",
      "12/16/2024 04:58:36 AM \u001b[93m [Status] completed success \u001b[0m\n",
      "12/16/2024 04:58:36 AM \u001b[92m [Query Success] completed success \u001b[0m\n",
      "12/16/2024 04:58:37 AM \u001b[92m Obtained utoken email from file \u001b[0m\n",
      "12/16/2024 04:58:37 AM \u001b[92m Obtained utoken from utoken cli \u001b[0m\n",
      "12/16/2024 04:58:37 AM \u001b[93m Could not obtain utoken from cli: b'/bin/sh: 1: usso: not found\\n'\n",
      "Trying to obtain from file \u001b[0m\n",
      "12/16/2024 04:58:37 AM \u001b[92m Obtained utoken for user \u001b[0m\n",
      "12/16/2024 04:58:37 AM \u001b[93m Fetching metadata for Report onEk0k6nx \u001b[0m\n",
      "12/16/2024 04:58:37 AM \u001b[92m Loaded object metadata. \u001b[0m\n",
      "12/16/2024 04:58:37 AM Send tier_metadata {'report_id': 'onEk0k6nx'} to Queryrunner V2.\n"
     ]
    },
    {
     "name": "stdout",
     "output_type": "stream",
     "text": [
      "Query executed successfully.\n"
     ]
    },
    {
     "name": "stderr",
     "output_type": "stream",
     "text": [
      "12/16/2024 04:58:37 AM \u001b[93m [Polling] 705d777a-222f-42b7-a1e2-258f8a66844f \u001b[0m\n",
      "12/16/2024 04:58:37 AM \u001b[93m [Status] created \u001b[0m\n",
      "12/16/2024 04:58:38 AM \u001b[93m [Status] finished auth check \u001b[0m\n",
      "12/16/2024 04:58:39 AM \u001b[93m [Status] started execution \u001b[0m\n",
      "12/16/2024 04:58:47 AM \u001b[93m [Status] completed success \u001b[0m\n",
      "12/16/2024 04:58:47 AM \u001b[92m [Query Success] completed success \u001b[0m\n"
     ]
    },
    {
     "name": "stdout",
     "output_type": "stream",
     "text": [
      "status: Completed\n",
      "\n",
      "\n",
      "json param:{&quot;text1&quot;: &quot;launchpad&quot;, &quot;text2&quot;: &quot;launchpad parameter&quot;, &quot;c_code&quot;: &quot;\\\\N, NOR, SVK, VEN, SGP, BRB, GHA, USA, EST, FRA, ECU, KOR, AUS, JOR, PRT, JPN, NIC, CHE, SAU, DNK, ESP, NGA, ARE, HRV, AUT, SLV, SVN, FIN, CIV, ARG, UGA, LBN, DOM, URY, PRY, GTM, ZAF, SWE, MEX, REU, PAK, MAC, GBR, GRC, US, UKR, HUN, PAN, MAR, LTU, ALA, ITA, GB, JAM, NPL, TTO, TUR, CAN, POL, TZA, BOL, SRB, BRA, MUS, NLD, BGD, LKA, CHL, BEL, IRL, HKG, QAT, NZL, PER, ROU, IND, COL, HND, TWN, CZE, DEU, BHR, KEN, EGY, GLP, CRI, KWT&quot;, &quot;c_name&quot;: &quot;Bite Squad, KFC, Mr. Delivery, 99, HelloFresh, Pizza Hut, OrderUp, Costco, Deliveroo, Waymo, Bolt, My Taxi, Go-Jek, inDrive, Domino&#x27;s Pizza, Free Now, Yelp, Yandex, Walmart, Ride Austin, Subway, Dunkin&#x27; Donuts, Uber Pass, Starbucks, Fresh Direct, Yango, Drizly, DemaeCan, DoorDash, Good Eggs, Order Up, Rite Aid, Bird, Wolt, Ritual, 5cd16a998fa0e3b107bf919b453e4d8e7c2a8865, Rakuten Delivery, Eat24, kapten, Instacart Canada, Marley Spoon, Ola, Menulog, DiDi Food, Favor, Heb, Amazon Restaurants, Rappi, McDonald&#x27;s, Juno, Cabify, Beat, LevelUp, Skip the Dishes, Slice, Chipotle, ezCater, Instacart, DiDi, Via, Grab, OrderIn, Chow Now, Bring Me That, Kroger, eBay, Amazon, ASAP, goPuff, Glovo, Peapod, Wawa, iFood, Seamless, Uber, CornerShop, WaitrApp, Caviar, Swiggy, GrubHub, Lime, Delivery Hero, Papa John&#x27;s, Lyft Scooters, delivery.com, Lyft, EatStreet, 7-Eleven, JUMP, Gett, CVS, Uber Eats, Gorillas, Taxify, Addison Lee, Fasten, Menu, Walgreens, Postmates, Just Eat, Zomato, Foodpanda, Foodora&quot;}\n",
      "Query executed successfully.\n",
      "\n",
      "\n",
      "ran update query\n",
      "\n",
      "\n",
      "into dqr\n",
      "\n",
      "\n",
      "ran scheduler query\n",
      "{'text1': 'launchpad', 'text2': 'launchpad parameter', 'c_code': '\\\\N, NOR, SVK, VEN, SGP, BRB, GHA, USA, EST, FRA, ECU, KOR, AUS, JOR, PRT, JPN, NIC, CHE, SAU, DNK, ESP, NGA, ARE, HRV, AUT, SLV, SVN, FIN, CIV, ARG, UGA, LBN, DOM, URY, PRY, GTM, ZAF, SWE, MEX, REU, PAK, MAC, GBR, GRC, US, UKR, HUN, PAN, MAR, LTU, ALA, ITA, GB, JAM, NPL, TTO, TUR, CAN, POL, TZA, BOL, SRB, BRA, MUS, NLD, BGD, LKA, CHL, BEL, IRL, HKG, QAT, NZL, PER, ROU, IND, COL, HND, TWN, CZE, DEU, BHR, KEN, EGY, GLP, CRI, KWT', 'c_name': \"Bite Squad, KFC, Mr. Delivery, 99, HelloFresh, Pizza Hut, OrderUp, Costco, Deliveroo, Waymo, Bolt, My Taxi, Go-Jek, inDrive, Domino's Pizza, Free Now, Yelp, Yandex, Walmart, Ride Austin, Subway, Dunkin' Donuts, Uber Pass, Starbucks, Fresh Direct, Yango, Drizly, DemaeCan, DoorDash, Good Eggs, Order Up, Rite Aid, Bird, Wolt, Ritual, 5cd16a998fa0e3b107bf919b453e4d8e7c2a8865, Rakuten Delivery, Eat24, kapten, Instacart Canada, Marley Spoon, Ola, Menulog, DiDi Food, Favor, Heb, Amazon Restaurants, Rappi, McDonald's, Juno, Cabify, Beat, LevelUp, Skip the Dishes, Slice, Chipotle, ezCater, Instacart, DiDi, Via, Grab, OrderIn, Chow Now, Bring Me That, Kroger, eBay, Amazon, ASAP, goPuff, Glovo, Peapod, Wawa, iFood, Seamless, Uber, CornerShop, WaitrApp, Caviar, Swiggy, GrubHub, Lime, Delivery Hero, Papa John's, Lyft Scooters, delivery.com, Lyft, EatStreet, 7-Eleven, JUMP, Gett, CVS, Uber Eats, Gorillas, Taxify, Addison Lee, Fasten, Menu, Walgreens, Postmates, Just Eat, Zomato, Foodpanda, Foodora\"}\n",
      "Query executed successfully.\n",
      "MySQL connection is closed\n"
     ]
    },
    {
     "data": {
      "text/plain": [
       "[True]"
      ]
     },
     "execution_count": 8,
     "metadata": {},
     "output_type": "execute_result"
    }
   ],
   "source": [
    "list(map(lambda x: postSchedulerToDqrRequest(x, dashboard), onPreCheck))\n"
   ]
  },
  {
   "cell_type": "code",
   "execution_count": null,
   "id": "77c98447",
   "metadata": {},
   "outputs": [],
   "source": []
  },
  {
   "cell_type": "code",
   "execution_count": null,
   "id": "c5a300ca",
   "metadata": {},
   "outputs": [],
   "source": []
  },
  {
   "cell_type": "code",
   "execution_count": null,
   "id": "977a4ddb",
   "metadata": {},
   "outputs": [],
   "source": []
  },
  {
   "cell_type": "code",
   "execution_count": null,
   "id": "c45f3826",
   "metadata": {},
   "outputs": [],
   "source": []
  },
  {
   "cell_type": "code",
   "execution_count": null,
   "id": "96cd0250",
   "metadata": {},
   "outputs": [],
   "source": []
  },
  {
   "cell_type": "code",
   "execution_count": 8,
   "id": "efde180b-824e-4278-bdeb-6595ee954c3a",
   "metadata": {
    "papermill": {
     "duration": 0.009677,
     "end_time": "2024-07-24T09:23:22.790701",
     "exception": false,
     "start_time": "2024-07-24T09:23:22.781024",
     "status": "completed"
    },
    "scrolled": true,
    "tags": []
   },
   "outputs": [],
   "source": [
    "# list(map(postSchedulerToDqrRequest, onPreCheck,dashboard))"
   ]
  },
  {
   "cell_type": "code",
   "execution_count": null,
   "id": "da13c25d-bc59-47b9-97c5-80a3135b5458",
   "metadata": {
    "papermill": {
     "duration": 0.033207,
     "end_time": "2024-07-24T09:23:22.829021",
     "exception": false,
     "start_time": "2024-07-24T09:23:22.795814",
     "status": "completed"
    },
    "tags": []
   },
   "outputs": [],
   "source": [
    "parameters = {'query_id': 'uCidl3haP'}\n",
    "param_type = {'query_id': 'qb_report'}"
   ]
  },
  {
   "cell_type": "code",
   "execution_count": null,
   "id": "843b1aaa-8051-425f-81c3-f7106798fcd4",
   "metadata": {
    "papermill": {
     "duration": 0.005818,
     "end_time": "2024-07-24T09:23:22.839014",
     "exception": false,
     "start_time": "2024-07-24T09:23:22.833196",
     "status": "completed"
    },
    "tags": []
   },
   "outputs": [],
   "source": [
    "param_type = {'query_id': ['qb_report','run_id']}"
   ]
  },
  {
   "cell_type": "code",
   "execution_count": null,
   "id": "476a866d-495b-4b36-b3bb-6b0d805e34e1",
   "metadata": {
    "papermill": {
     "duration": 0.004315,
     "end_time": "2024-07-24T09:23:22.868380",
     "exception": false,
     "start_time": "2024-07-24T09:23:22.864065",
     "status": "completed"
    },
    "tags": []
   },
   "outputs": [],
   "source": []
  },
  {
   "cell_type": "code",
   "execution_count": null,
   "id": "1b1c7d02-25d9-453a-afb8-62b5701b6d38",
   "metadata": {
    "papermill": {
     "duration": 0.004214,
     "end_time": "2024-07-24T09:23:22.876559",
     "exception": false,
     "start_time": "2024-07-24T09:23:22.872345",
     "status": "completed"
    },
    "tags": []
   },
   "outputs": [],
   "source": []
  }
 ],
 "metadata": {
  "kernelspec": {
   "display_name": "01. Python 3.10 (General DS)",
   "language": "python",
   "name": "python310"
  },
  "language_info": {
   "codemirror_mode": {
    "name": "ipython",
    "version": 3
   },
   "file_extension": ".py",
   "mimetype": "text/x-python",
   "name": "python",
   "nbconvert_exporter": "python",
   "pygments_lexer": "ipython3",
   "version": "3.10.8"
  },
  "papermill": {
   "default_parameters": {},
   "duration": 7.524318,
   "end_time": "2024-07-24T09:23:23.399935",
   "environment_variables": {},
   "exception": null,
   "input_path": "SchedulesDemon.ipynb",
   "output_path": "SchedulesDemon.ipynb",
   "parameters": {},
   "start_time": "2024-07-24T09:23:15.875617",
   "version": "2.6.0"
  }
 },
 "nbformat": 4,
 "nbformat_minor": 5
}
