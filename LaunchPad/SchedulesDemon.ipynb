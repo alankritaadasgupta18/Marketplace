{
 "cells": [
  {
   "cell_type": "code",
   "execution_count": 41,
   "id": "b7e9010f-2479-47bc-92f9-74748873fffb",
   "metadata": {
    "papermill": {
     "duration": 1.33268,
     "end_time": "2024-07-24T09:23:18.036474",
     "exception": false,
     "start_time": "2024-07-24T09:23:16.703794",
     "status": "completed"
    },
    "tags": []
   },
   "outputs": [],
   "source": [
    "import pypostmaster\n",
    "import getpass\n",
    "from queryrunner_client import *\n",
    "from queryrunner_client import QueryRunnerException\n",
    "import numpy as np\n",
    "import pandas as pd\n",
    "from pandas.io import gbq\n",
    "import pytz\n",
    "from datetime import datetime, timedelta, tzinfo\n",
    "import time\n",
    "import warnings\n",
    "import matplotlib.pyplot as plt\n",
    "import seaborn as sns\n",
    "from dateutil.relativedelta import relativedelta\n",
    "import docx\n",
    "from docx import Document\n",
    "from docxtpl import DocxTemplate, InlineImage\n",
    "from docx.shared import Inches\n",
    "import jinja2\n",
    "import math\n",
    "import yaml\n",
    "import os\n",
    "import signal\n",
    "\n",
    "import gspread\n",
    "from oauth2client.service_account import ServiceAccountCredentials\n",
    "from pydrive.auth import GoogleAuth\n",
    "from pydrive.drive import GoogleDrive\n",
    "import uuid\n",
    "import json\n",
    "from google.cloud import bigquery\n",
    "import base64\n",
    "import nbformat\n",
    "from IPython import get_ipython\n",
    "import shutil\n",
    "import subprocess\n",
    "import random\n",
    "from croniter import croniter\n",
    "\n",
    "\n",
    "ipython = get_ipython()"
   ]
  },
  {
   "cell_type": "code",
   "execution_count": 42,
   "id": "b6044b99-5bcb-4d16-8e90-11ab383acf5b",
   "metadata": {
    "papermill": {
     "duration": 0.098757,
     "end_time": "2024-07-24T09:23:18.139777",
     "exception": false,
     "start_time": "2024-07-24T09:23:18.041020",
     "status": "completed"
    },
    "tags": []
   },
   "outputs": [],
   "source": [
    "from LP_helper import ymlParser \n",
    "from LP_helper import validateDriveAccess\n",
    "from LP_helper import runBQuery\n",
    "from LP_helper import getNextID\n",
    "from LP_helper import getDateFromShortName\n",
    "from LP_helper import getDqrRequest\n",
    "from LP_helper import isDqrRequestAvailable\n",
    "from LP_helper import executeNotebookCell\n",
    "from LP_helper import postDqrCompleted\n",
    "from LP_helper import sendDqrMail\n",
    "from LP_helper import postDqrScriptFail\n",
    "from LP_helper import CreateDqrLogger\n",
    "from LP_helper import resetDqrLongRunningTask\n",
    "from LP_helper import maxDqrTaskChecker\n",
    "from LP_helper import resetDqrForTesting\n",
    "from LP_helper import postDqrAutoLog\n",
    "from LP_helper import Fail_mail\n",
    "\n",
    "\n",
    "from LP_helper import uploadFileToDrive\n",
    "from LP_helper import getQueryUUID\n",
    "from LP_helper import getEncodedImg\n",
    "\n",
    "from LP_helper import getDpvQueryReportID\n",
    "from LP_helper import getDataPushRequest\n",
    "from LP_helper import triggerDataPush\n",
    "from LP_helper import getDataPushReportRequest\n",
    "from LP_helper import postDpvCompleted\n",
    "from LP_helper import sendDpvMail\n",
    "\n",
    "from LP_helper import getHistoricalScheduler\n",
    "from LP_helper import isScheduled\n",
    "from LP_helper import nextRunin\n",
    "from LP_helper import SchedulesToPrecheck\n",
    "from LP_helper import getThisWeekStartEnd\n",
    "from LP_helper import getSchedulerForPreCheck\n",
    "from LP_helper import postReportRequest\n",
    "from LP_helper import postSchedulerToDqrRequest\n",
    "\n",
    "from LP_helper import getData"
   ]
  },
  {
   "cell_type": "markdown",
   "id": "639601e6-1d52-44f9-81e7-c826b07a81f4",
   "metadata": {
    "papermill": {
     "duration": 0.003768,
     "end_time": "2024-07-24T09:23:18.148094",
     "exception": false,
     "start_time": "2024-07-24T09:23:18.144326",
     "status": "completed"
    },
    "tags": []
   },
   "source": [
    "# Schedule to Pre-Check"
   ]
  },
  {
   "cell_type": "code",
   "execution_count": 43,
   "id": "c10c6c6d-44e3-4718-b5e5-8d1b9008951a",
   "metadata": {
    "papermill": {
     "duration": 2.392862,
     "end_time": "2024-07-24T09:23:20.544578",
     "exception": false,
     "start_time": "2024-07-24T09:23:18.151716",
     "status": "completed"
    },
    "scrolled": true,
    "tags": []
   },
   "outputs": [
    {
     "data": {
      "text/html": [
       "<div>\n",
       "<style scoped>\n",
       "    .dataframe tbody tr th:only-of-type {\n",
       "        vertical-align: middle;\n",
       "    }\n",
       "\n",
       "    .dataframe tbody tr th {\n",
       "        vertical-align: top;\n",
       "    }\n",
       "\n",
       "    .dataframe thead th {\n",
       "        text-align: right;\n",
       "    }\n",
       "</style>\n",
       "<table border=\"1\" class=\"dataframe\">\n",
       "  <thead>\n",
       "    <tr style=\"text-align: right;\">\n",
       "      <th></th>\n",
       "      <th>scheduler_id</th>\n",
       "      <th>created_at</th>\n",
       "      <th>updated_at</th>\n",
       "      <th>last_executed_at</th>\n",
       "      <th>is_active</th>\n",
       "      <th>dqr_name</th>\n",
       "      <th>run_on</th>\n",
       "      <th>run_condition</th>\n",
       "      <th>run_status</th>\n",
       "      <th>email_address</th>\n",
       "      <th>query_run_condition</th>\n",
       "      <th>getRunId_querybuilder</th>\n",
       "      <th>cron_minute</th>\n",
       "      <th>cron_hour</th>\n",
       "      <th>cron_day</th>\n",
       "      <th>cron_month</th>\n",
       "      <th>cron_weekday</th>\n",
       "      <th>dashboard</th>\n",
       "      <th>parameters</th>\n",
       "      <th>cronEcpresssion</th>\n",
       "    </tr>\n",
       "  </thead>\n",
       "  <tbody>\n",
       "    <tr>\n",
       "      <th>0</th>\n",
       "      <td>114</td>\n",
       "      <td>2025-01-27 10:37:04</td>\n",
       "      <td>2025-01-30 05:32:13</td>\n",
       "      <td>2025-01-30 11:02:12</td>\n",
       "      <td>1</td>\n",
       "      <td>Manual_Handled_NPI_method2_NPI_premier</td>\n",
       "      <td>mrajor</td>\n",
       "      <td>Recurring;Until Complete</td>\n",
       "      <td>None</td>\n",
       "      <td>mrajor@ext.uber.com</td>\n",
       "      <td>None</td>\n",
       "      <td>None</td>\n",
       "      <td>0</td>\n",
       "      <td>11</td>\n",
       "      <td>*</td>\n",
       "      <td>*</td>\n",
       "      <td>*</td>\n",
       "      <td>Marketplace Ops</td>\n",
       "      <td>{}</td>\n",
       "      <td>0 11 * * *</td>\n",
       "    </tr>\n",
       "  </tbody>\n",
       "</table>\n",
       "</div>"
      ],
      "text/plain": [
       "   scheduler_id          created_at          updated_at    last_executed_at  \\\n",
       "0           114 2025-01-27 10:37:04 2025-01-30 05:32:13 2025-01-30 11:02:12   \n",
       "\n",
       "   is_active                                dqr_name  run_on  \\\n",
       "0          1  Manual_Handled_NPI_method2_NPI_premier  mrajor   \n",
       "\n",
       "              run_condition run_status        email_address  \\\n",
       "0  Recurring;Until Complete       None  mrajor@ext.uber.com   \n",
       "\n",
       "  query_run_condition getRunId_querybuilder cron_minute cron_hour cron_day  \\\n",
       "0                None                  None           0        11        *   \n",
       "\n",
       "  cron_month cron_weekday        dashboard parameters cronEcpresssion  \n",
       "0          *            *  Marketplace Ops         {}      0 11 * * *  "
      ]
     },
     "execution_count": 43,
     "metadata": {},
     "output_type": "execute_result"
    }
   ],
   "source": [
    "historicalScheduler = getHistoricalScheduler()\n",
    "df = pd.DataFrame(historicalScheduler)\n",
    "df"
   ]
  },
  {
   "cell_type": "code",
   "execution_count": 44,
   "id": "5d4aa961-a9e1-404f-9230-f576fc98e719",
   "metadata": {
    "papermill": {
     "duration": 0.012586,
     "end_time": "2024-07-24T09:23:20.561997",
     "exception": false,
     "start_time": "2024-07-24T09:23:20.549411",
     "status": "completed"
    },
    "scrolled": true,
    "tags": []
   },
   "outputs": [
    {
     "name": "stdout",
     "output_type": "stream",
     "text": [
      "False Manual_Handled_NPI_method2_NPI_premier Marketplace Ops\n",
      "0:57:01.762118\n",
      "{}\n"
     ]
    }
   ],
   "source": [
    "dashboard_dict = {} \n",
    "for schedule in historicalScheduler:\n",
    "    status = isScheduled(schedule['last_executed_at'], schedule['cronEcpresssion'])\n",
    "    \n",
    "    if status: \n",
    "        print(schedule)\n",
    "        SchedulesToPrecheck(schedule)\n",
    "        # dashboard_list.append(schedule['dashboard'])\n",
    "        dashboard_dict[schedule['scheduler_id']] = schedule['dashboard']\n",
    "    print(status, schedule['dqr_name'],schedule['dashboard'])\n",
    "    dashboard = schedule['dashboard']\n",
    "    # dashboard_list.append(dashboard)\n",
    "    nextRunin(schedule['cronEcpresssion'])\n",
    "print(dashboard_dict)\n",
    "    "
   ]
  },
  {
   "cell_type": "markdown",
   "id": "cd0965d8-061b-485b-970c-a693b8d069f9",
   "metadata": {
    "papermill": {
     "duration": 0.003979,
     "end_time": "2024-07-24T09:23:20.570237",
     "exception": false,
     "start_time": "2024-07-24T09:23:20.566258",
     "status": "completed"
    },
    "tags": []
   },
   "source": [
    "# Pre-Check to DQR request"
   ]
  },
  {
   "cell_type": "code",
   "execution_count": 45,
   "id": "1c1a2e83-1e6f-445c-8a18-14ba9f6de7d6",
   "metadata": {
    "papermill": {
     "duration": 2.200785,
     "end_time": "2024-07-24T09:23:22.774819",
     "exception": false,
     "start_time": "2024-07-24T09:23:20.574034",
     "status": "completed"
    },
    "scrolled": true,
    "tags": []
   },
   "outputs": [
    {
     "name": "stdout",
     "output_type": "stream",
     "text": [
      "\n",
      "            SELECT * FROM launchpad_schedular_on_pre_check_dev\n",
      "            WHERE run_status != 'Completed'\n",
      "            AND (\n",
      "                past_checked_at IS NULL OR \n",
      "                past_checked_at < '2025-01-31 09:43:04'\n",
      "            )\n",
      "        \n",
      "   pre_check_id  scheduler_id          created_at          updated_at  \\\n",
      "0           234           119 2025-01-31 04:32:13 2025-01-31 04:32:13   \n",
      "\n",
      "  getRunId_querybuilder run_status runIds past_checked_at parameters  \n",
      "0                  None                              None         {}  \n"
     ]
    },
    {
     "data": {
      "text/plain": [
       "[{'pre_check_id': 234,\n",
       "  'scheduler_id': 119,\n",
       "  'created_at': Timestamp('2025-01-31 04:32:13'),\n",
       "  'updated_at': Timestamp('2025-01-31 04:32:13'),\n",
       "  'getRunId_querybuilder': None,\n",
       "  'run_status': '',\n",
       "  'runIds': '',\n",
       "  'past_checked_at': None,\n",
       "  'parameters': '{}'}]"
      ]
     },
     "execution_count": 45,
     "metadata": {},
     "output_type": "execute_result"
    }
   ],
   "source": [
    "onPreCheck = getSchedulerForPreCheck()\n",
    "onPreCheck\n"
   ]
  },
  {
   "cell_type": "code",
   "execution_count": 39,
   "id": "e7b929df",
   "metadata": {},
   "outputs": [],
   "source": [
    "# from pandas import Timestamp\n",
    "# onPreCheck = [{'pre_check_id': 220,\n",
    "#   'scheduler_id': 120,\n",
    "#   'created_at': Timestamp('2025-01-30 17:26:06'),\n",
    "#   'updated_at': Timestamp('2025-01-30 17:26:06'),\n",
    "#   'getRunId_querybuilder': None,\n",
    "#   'run_status': '',\n",
    "#   'runIds': '',\n",
    "#   'past_checked_at': None,\n",
    "#   'parameters': '{\"run_id\": \"\"}'},\n",
    "#  {'pre_check_id': 221,\n",
    "#   'scheduler_id': 121,\n",
    "#   'created_at': Timestamp('2025-01-30 17:26:07'),\n",
    "#   'updated_at': Timestamp('2025-01-30 17:26:07'),\n",
    "#   'getRunId_querybuilder': None,\n",
    "#   'run_status': '',\n",
    "#   'runIds': '',\n",
    "#   'past_checked_at': None,\n",
    "#   'parameters': '{\"text1\": \"launchpad\", \"text2\": \"launchpad parameter\", \"c_code\": \"Hh9w3g6hR\", \"c_name\": \"onEk0k6nx\"}'}]\n",
    "# onPreCheck = [{'pre_check_id': 184,\n",
    "#   'scheduler_id': 106,\n",
    "#   'created_at': Timestamp('2024-12-16 04:57:03'),\n",
    "#   'updated_at': Timestamp('2024-12-16 04:57:03'),\n",
    "#   'getRunId_querybuilder': None,\n",
    "#   'run_status': '',\n",
    "#   'runIds': '',\n",
    "#   'past_checked_at': None,\n",
    "#   'parameters': '{\"text1\": \"launchpad\", \"text2\": \"launchpad parameter\", \"c_code\": \"Hh9w3g6hR\", \"c_name\": \"onEk0k6nx\"}'}]"
   ]
  },
  {
   "cell_type": "code",
   "execution_count": 47,
   "id": "7497ffaf",
   "metadata": {
    "scrolled": true
   },
   "outputs": [
    {
     "name": "stdout",
     "output_type": "stream",
     "text": [
      "param keys: []\n",
      "status: Completed\n",
      "\n",
      "\n",
      "json param:{}\n",
      "Query executed successfully.\n",
      "{}\n",
      "Query executed successfully.\n",
      "MySQL connection is closed\n"
     ]
    },
    {
     "data": {
      "text/plain": [
       "[True]"
      ]
     },
     "execution_count": 47,
     "metadata": {},
     "output_type": "execute_result"
    }
   ],
   "source": [
    "list(map(lambda x: postSchedulerToDqrRequest(x, dashboard), onPreCheck))\n",
    "# list(map(lambda x: postSchedulerToDqrRequest(x, dashboard_dict.get(x['scheduler_id'], 'default_dashboard')), onPreCheck))"
   ]
  },
  {
   "cell_type": "code",
   "execution_count": null,
   "id": "77c98447",
   "metadata": {},
   "outputs": [],
   "source": []
  },
  {
   "cell_type": "code",
   "execution_count": null,
   "id": "c5a300ca",
   "metadata": {},
   "outputs": [],
   "source": []
  },
  {
   "cell_type": "code",
   "execution_count": null,
   "id": "977a4ddb",
   "metadata": {},
   "outputs": [],
   "source": []
  },
  {
   "cell_type": "code",
   "execution_count": null,
   "id": "c45f3826",
   "metadata": {},
   "outputs": [],
   "source": []
  },
  {
   "cell_type": "code",
   "execution_count": null,
   "id": "96cd0250",
   "metadata": {},
   "outputs": [],
   "source": []
  },
  {
   "cell_type": "code",
   "execution_count": 8,
   "id": "efde180b-824e-4278-bdeb-6595ee954c3a",
   "metadata": {
    "papermill": {
     "duration": 0.009677,
     "end_time": "2024-07-24T09:23:22.790701",
     "exception": false,
     "start_time": "2024-07-24T09:23:22.781024",
     "status": "completed"
    },
    "scrolled": true,
    "tags": []
   },
   "outputs": [],
   "source": [
    "# list(map(postSchedulerToDqrRequest, onPreCheck,dashboard))"
   ]
  },
  {
   "cell_type": "code",
   "execution_count": null,
   "id": "da13c25d-bc59-47b9-97c5-80a3135b5458",
   "metadata": {
    "papermill": {
     "duration": 0.033207,
     "end_time": "2024-07-24T09:23:22.829021",
     "exception": false,
     "start_time": "2024-07-24T09:23:22.795814",
     "status": "completed"
    },
    "tags": []
   },
   "outputs": [],
   "source": [
    "parameters = {'query_id': 'uCidl3haP'}\n",
    "param_type = {'query_id': 'qb_report'}"
   ]
  },
  {
   "cell_type": "code",
   "execution_count": null,
   "id": "843b1aaa-8051-425f-81c3-f7106798fcd4",
   "metadata": {
    "papermill": {
     "duration": 0.005818,
     "end_time": "2024-07-24T09:23:22.839014",
     "exception": false,
     "start_time": "2024-07-24T09:23:22.833196",
     "status": "completed"
    },
    "tags": []
   },
   "outputs": [],
   "source": [
    "param_type = {'query_id': ['qb_report','run_id']}"
   ]
  },
  {
   "cell_type": "code",
   "execution_count": null,
   "id": "476a866d-495b-4b36-b3bb-6b0d805e34e1",
   "metadata": {
    "papermill": {
     "duration": 0.004315,
     "end_time": "2024-07-24T09:23:22.868380",
     "exception": false,
     "start_time": "2024-07-24T09:23:22.864065",
     "status": "completed"
    },
    "tags": []
   },
   "outputs": [],
   "source": []
  },
  {
   "cell_type": "code",
   "execution_count": null,
   "id": "1b1c7d02-25d9-453a-afb8-62b5701b6d38",
   "metadata": {
    "papermill": {
     "duration": 0.004214,
     "end_time": "2024-07-24T09:23:22.876559",
     "exception": false,
     "start_time": "2024-07-24T09:23:22.872345",
     "status": "completed"
    },
    "tags": []
   },
   "outputs": [],
   "source": []
  }
 ],
 "metadata": {
  "kernelspec": {
   "display_name": "01. Python 3.10 (General DS)",
   "language": "python",
   "name": "python310"
  },
  "language_info": {
   "codemirror_mode": {
    "name": "ipython",
    "version": 3
   },
   "file_extension": ".py",
   "mimetype": "text/x-python",
   "name": "python",
   "nbconvert_exporter": "python",
   "pygments_lexer": "ipython3",
   "version": "3.10.8"
  },
  "papermill": {
   "default_parameters": {},
   "duration": 7.524318,
   "end_time": "2024-07-24T09:23:23.399935",
   "environment_variables": {},
   "exception": null,
   "input_path": "SchedulesDemon.ipynb",
   "output_path": "SchedulesDemon.ipynb",
   "parameters": {},
   "start_time": "2024-07-24T09:23:15.875617",
   "version": "2.6.0"
  }
 },
 "nbformat": 4,
 "nbformat_minor": 5
}
