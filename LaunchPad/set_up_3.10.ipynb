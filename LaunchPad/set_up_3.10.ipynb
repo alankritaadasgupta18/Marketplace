{
 "cells": [
  {
   "cell_type": "code",
   "execution_count": null,
   "id": "8c7f53a7-5fd8-493f-9366-6db7bb046266",
   "metadata": {},
   "outputs": [],
   "source": [
    "pip install --upgrade google-auth-oauthlib google-auth-httplib2 google-api-python-client"
   ]
  },
  {
   "cell_type": "code",
   "execution_count": null,
   "id": "df0a0f69-7b71-4fd0-a6bf-bcd925604472",
   "metadata": {},
   "outputs": [],
   "source": [
    "pip install --upgrade matplotlib seaborn python-docx docxtpl pypostmaster bigquery db-dtypes gspread gspread_dataframe python-dotenv oauth2client pydrive croniter"
   ]
  },
  {
   "cell_type": "code",
   "execution_count": null,
   "id": "ca9337b6-3fc9-4321-a0d4-c4b5733052f3",
   "metadata": {},
   "outputs": [],
   "source": [
    "pip install mysql-connector-python"
   ]
  },
  {
   "cell_type": "code",
   "execution_count": 3,
   "id": "ddc27cfc-eb0f-461b-b067-008479f65893",
   "metadata": {},
   "outputs": [],
   "source": [
    "pip install papermill"
   ]
  },
  {
   "cell_type": "code",
   "execution_count": null,
   "id": "800f7bbe-57d8-4ce4-ae90-3d0841c605c3",
   "metadata": {},
   "outputs": [],
   "source": [
    "pip install pypostmaster"
   ]
  },
  {
   "cell_type": "code",
   "execution_count": null,
   "id": "37a62230-4f11-4997-ba16-a917b5082199",
   "metadata": {},
   "outputs": [],
   "source": []
  },
  {
   "cell_type": "code",
   "execution_count": null,
   "id": "69d563b5-7436-4a80-b63a-2dca54e68fc9",
   "metadata": {},
   "outputs": [],
   "source": []
  },
  {
   "cell_type": "code",
   "execution_count": null,
   "id": "0098df12-6d17-4355-ab41-efedaa5c6042",
   "metadata": {},
   "outputs": [],
   "source": []
  }
 ],
 "metadata": {
  "kernelspec": {
   "display_name": "01. Python 3.10 (General DS)",
   "language": "python",
   "name": "python310"
  },
  "language_info": {
   "codemirror_mode": {
    "name": "ipython",
    "version": 3
   },
   "file_extension": ".py",
   "mimetype": "text/x-python",
   "name": "python",
   "nbconvert_exporter": "python",
   "pygments_lexer": "ipython3",
   "version": "3.10.8"
  }
 },
 "nbformat": 4,
 "nbformat_minor": 5
}
