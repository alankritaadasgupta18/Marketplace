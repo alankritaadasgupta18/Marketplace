{
 "cells": [
  {
   "cell_type": "code",
   "execution_count": null,
   "id": "5cd6c6fb-1fcb-4f75-9153-5977319a9aba",
   "metadata": {},
   "outputs": [],
   "source": [
    "pip install --upgrade bigquery gspread db-dtypes"
   ]
  },
  {
   "cell_type": "code",
   "execution_count": null,
   "id": "344459f8-69bb-4535-b8ab-ff3e09260347",
   "metadata": {},
   "outputs": [],
   "source": [
    "pip install mysql-connector-python"
   ]
  },
  {
   "cell_type": "code",
   "execution_count": null,
   "id": "05ef7be0-1aa4-4ba7-94f2-10c1874ead0d",
   "metadata": {},
   "outputs": [],
   "source": [
    "pip install papermill "
   ]
  },
  {
   "cell_type": "code",
   "execution_count": null,
   "id": "b456db0c-7096-4839-bd4c-9ec6874bd502",
   "metadata": {},
   "outputs": [],
   "source": []
  }
 ],
 "metadata": {
  "kernelspec": {
   "display_name": "04. Python 3.6 (General DS)",
   "language": "python",
   "name": "python3"
  },
  "language_info": {
   "codemirror_mode": {
    "name": "ipython",
    "version": 3
   },
   "file_extension": ".py",
   "mimetype": "text/x-python",
   "name": "python",
   "nbconvert_exporter": "python",
   "pygments_lexer": "ipython3",
   "version": "3.6.4"
  }
 },
 "nbformat": 4,
 "nbformat_minor": 5
}
