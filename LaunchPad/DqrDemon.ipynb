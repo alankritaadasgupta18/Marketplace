{
 "cells": [
  {
   "cell_type": "code",
   "execution_count": 52,
   "id": "efff26eb-2eac-49f6-83da-4b080a03f896",
   "metadata": {
    "papermill": {
     "duration": 1.424595,
     "end_time": "2024-07-24T09:23:09.877414",
     "exception": false,
     "start_time": "2024-07-24T09:23:08.452819",
     "status": "completed"
    },
    "tags": []
   },
   "outputs": [
    {
     "name": "stderr",
     "output_type": "stream",
     "text": [
      "01/21/2025 06:02:03 AM \u001b[92m Obtained utoken email from file \u001b[0m\n",
      "01/21/2025 06:02:03 AM \u001b[92m Obtained utoken from utoken cli \u001b[0m\n"
     ]
    }
   ],
   "source": [
    "import pypostmaster\n",
    "import getpass\n",
    "from queryrunner_client import *\n",
    "from queryrunner_client import QueryRunnerException\n",
    "import numpy as np\n",
    "import pandas as pd\n",
    "from pandas.io import gbq\n",
    "import pytz\n",
    "from datetime import datetime, timedelta, tzinfo\n",
    "import time\n",
    "import warnings\n",
    "import matplotlib.pyplot as plt\n",
    "import seaborn as sns \n",
    "from dateutil.relativedelta import relativedelta\n",
    "import docx\n",
    "from docx import Document\n",
    "from docxtpl import DocxTemplate, InlineImage\n",
    "from docx.shared import Inches\n",
    "import jinja2\n",
    "import math\n",
    "import yaml\n",
    "import os\n",
    "import signal\n",
    "\n",
    "import gspread\n",
    "from oauth2client.service_account import ServiceAccountCredentials\n",
    "from pydrive.auth import GoogleAuth\n",
    "from pydrive.drive import GoogleDrive\n",
    "import uuid\n",
    "import json\n",
    "from google.cloud import bigquery\n",
    "import base64\n",
    "import nbformat\n",
    "from IPython import get_ipython\n",
    "import shutil\n",
    "\n",
    "import mysql.connector\n",
    "from mysql.connector import Error\n",
    "\n",
    "ipython = get_ipython()\n",
    "username = getpass.getuser()\n",
    "try:\n",
    "    user_email = os.getenv('USER_EMAIL_ID')\n",
    "except:\n",
    "    user_email = username+\"@ext.uber.com\"\n",
    "qr = Client(user_email=user_email)"
   ]
  },
  {
   "cell_type": "code",
   "execution_count": 53,
   "id": "497d4aba",
   "metadata": {
    "papermill": {
     "duration": 0.013614,
     "end_time": "2024-07-24T09:23:09.901233",
     "exception": false,
     "start_time": "2024-07-24T09:23:09.887619",
     "status": "completed"
    },
    "tags": []
   },
   "outputs": [],
   "source": [
    "logger_id = None"
   ]
  },
  {
   "cell_type": "code",
   "execution_count": 54,
   "id": "b573a418",
   "metadata": {
    "papermill": {
     "duration": 0.222929,
     "end_time": "2024-07-24T09:23:10.131716",
     "exception": false,
     "start_time": "2024-07-24T09:23:09.908787",
     "status": "completed"
    },
    "tags": []
   },
   "outputs": [],
   "source": [
    "from LP_helper import ymlParser\n",
    "from LP_helper import validateDriveAccess\n",
    "from LP_helper import runBQuery\n",
    "from LP_helper import getNextID\n",
    "from LP_helper import getDateFromShortName\n",
    "from LP_helper import getDqrRequest\n",
    "from LP_helper import isDqrRequestAvailable\n",
    "from LP_helper import executeNotebookCell\n",
    "from LP_helper import postDqrCompleted\n",
    "from LP_helper import sendDqrMail\n",
    "from LP_helper import sendDqrMail_completion\n",
    "from LP_helper import postDqrScriptFail\n",
    "from LP_helper import CreateDqrLogger\n",
    "from LP_helper import resetDqrLongRunningTask\n",
    "from LP_helper import maxDqrTaskChecker\n",
    "from LP_helper import resetDqrForTesting\n",
    "from LP_helper import postDqrAutoLog\n",
    "# from LP_helper import postDqrAutoLog_dev\n",
    "from LP_helper import Fail_mail\n",
    "from LP_helper import completed_mail\n",
    "\n",
    "\n",
    "from LP_helper import uploadFileToDrive\n",
    "from LP_helper import getQueryUUID\n",
    "from LP_helper import getEncodedImg\n",
    "from LP_helper import autoGit\n",
    "from LP_helper import canPickUpTask\n"
   ]
  },
  {
   "cell_type": "code",
   "execution_count": 55,
   "id": "26a1d51f-ab8c-422c-ad74-4913e623a132",
   "metadata": {
    "papermill": {
     "duration": 0.033514,
     "end_time": "2024-07-24T09:23:10.228064",
     "exception": false,
     "start_time": "2024-07-24T09:23:10.194550",
     "status": "completed"
    },
    "tags": []
   },
   "outputs": [],
   "source": [
    "username = getpass.getuser()\n",
    "try:\n",
    "    user_email = os.getenv('USER_EMAIL_ID')\n",
    "except:\n",
    "    user_email = username+\"@ext.uber.com\"\n",
    "\n",
    "config = ymlParser(file='config.yaml')\n",
    "masterConfig = ymlParser(file='config.yaml')"
   ]
  },
  {
   "cell_type": "code",
   "execution_count": 56,
   "id": "67b8f63c-2069-4622-a45e-c9e8cd7a70d6",
   "metadata": {
    "papermill": {
     "duration": 2.298875,
     "end_time": "2024-07-24T09:23:12.539719",
     "exception": false,
     "start_time": "2024-07-24T09:23:10.240844",
     "status": "completed"
    },
    "scrolled": true,
    "tags": []
   },
   "outputs": [
    {
     "data": {
      "text/plain": [
       "True"
      ]
     },
     "execution_count": 56,
     "metadata": {},
     "output_type": "execute_result"
    }
   ],
   "source": [
    "status = resetDqrLongRunningTask()\n",
    "status"
   ]
  },
  {
   "cell_type": "markdown",
   "id": "f490bf96",
   "metadata": {},
   "source": [
    "## MySQL DB Config"
   ]
  },
  {
   "cell_type": "code",
   "execution_count": 57,
   "id": "686b5eee",
   "metadata": {},
   "outputs": [],
   "source": [
    "db_config = {\n",
    "    'user': 's_launchpad_te_launchpad_gss0',\n",
    "    'password': 'ZrAmgGxBbM4GtWQMmmLo40H7w4SZBkn5',\n",
    "    'host': '127.5.14.180',\n",
    "    'port': 17025,\n",
    "    'database': 'launchpad_test_1_mysql_db',\n",
    "    'autocommit': True,\n",
    "    'sql_mode': 'STRICT_TRANS_TABLES'\n",
    "}\n"
   ]
  },
  {
   "cell_type": "markdown",
   "id": "623c98ff-f1b9-4ab5-aec9-397d985085d7",
   "metadata": {
    "papermill": {
     "duration": 0.007791,
     "end_time": "2024-07-24T09:23:12.555685",
     "exception": false,
     "start_time": "2024-07-24T09:23:12.547894",
     "status": "completed"
    },
    "tags": []
   },
   "source": [
    "# For Testing code "
   ]
  },
  {
   "cell_type": "code",
   "execution_count": 58,
   "id": "d7bf92ca-f405-4627-a4e9-18b95092bf81",
   "metadata": {
    "papermill": {
     "duration": 0.011566,
     "end_time": "2024-07-24T09:23:12.574935",
     "exception": false,
     "start_time": "2024-07-24T09:23:12.563369",
     "status": "completed"
    },
    "tags": []
   },
   "outputs": [
    {
     "name": "stdout",
     "output_type": "stream",
     "text": [
      "Query executed successfully.\n"
     ]
    }
   ],
   "source": [
    "# resetDqrForTesting(956)"
   ]
  },
  {
   "cell_type": "markdown",
   "id": "e588083e-8f1f-4dde-bb6d-3fa60c2c617b",
   "metadata": {
    "papermill": {
     "duration": 0.007558,
     "end_time": "2024-07-24T09:23:12.589939",
     "exception": false,
     "start_time": "2024-07-24T09:23:12.582381",
     "status": "completed"
    },
    "tags": []
   },
   "source": [
    "# End Testing"
   ]
  },
  {
   "cell_type": "code",
   "execution_count": 59,
   "id": "b7c1fa64",
   "metadata": {
    "papermill": {
     "duration": 2.525812,
     "end_time": "2024-07-24T09:23:15.122941",
     "exception": false,
     "start_time": "2024-07-24T09:23:12.597129",
     "status": "completed"
    },
    "tags": []
   },
   "outputs": [
    {
     "name": "stdout",
     "output_type": "stream",
     "text": [
      "try\n",
      "True {'task_id': 956, 'created_at': Timestamp('2025-01-20 11:12:01'), 'dqr_name': 'Testing', 'run_on': 'kshiva19', 'run_condition': 'Once', 'run_status': '', 'updated_at': Timestamp('2025-01-21 11:32:04'), 'dqr_link': 'None', 'email_address': 'kshiva19@ext.uber.com', 'query_run_condition': None, 'run_id': None, 'dashboard': 'test', 'parameters': '{\"text1\": \"launchpad\", \"text2\": \"launchpad parameter\", \"c_code\": \"LTU, ESP, TZA, NIC, MAC, REU, JPN, FRA, PAK, TUR, PRY, TTO, HRV, NGA, MUS, CZE, SVK, HKG, BHR, ZAF, DEU, AUT, VEN, UGA, AUS, BRA, IND, COL, KOR, GHA, BRB, TWN, MEX, HND, LKA, SWE, QAT, BOL, SRB, CIV, GB, FIN, PAN, MAR, DOM, USA, SAU, SGP, ARG, LBN, GBR, GRC, CHE, NLD, BGD, KEN, CRI, ECU, CAN, POL, DNK, PRT, PER, NZL, URY, US, UKR, GLP, HUN, \\\\\\\\N, NOR, KWT, SVN, SLV, ITA, GTM, CHL, BEL, IRL, EST, ROU, JOR, EGY, NPL, JAM, ARE\", \"c_name\": \"OrderUp, Lyft Scooters, Rappi, McDonald\\'s, Rakuten Delivery, ASAP, delivery.com, inDrive, WaitrApp, Ritual, 5cd16a998fa0e3b107bf919b453e4d8e7c2a8865, Walmart, Fasten, Walgreens, Slice, JUMP, OrderIn, Glovo, Order Up, Good Eggs, goPuff, LevelUp, Peapod, My Taxi, Go-Jek, Gorillas, Uber Pass, Domino\\'s Pizza, Juno, Heb, Wawa, iFood, Menulog, DiDi Food, Delivery Hero, Deliveroo, Uber, Starbucks, Ola, Seamless, Bird, Wolt, Lime, Menu, CornerShop, Lyft, Papa John\\'s, Chipotle, ezCater, Zomato, Just Eat, Fresh Direct, Yango, eBay, GrubHub, Instacart, Yandex, Postmates, Bite Squad, KFC, Amazon, kapten, Instacart Canada, Marley Spoon, Beat, Cabify, Bring Me That, Pizza Hut, Drizly, DemaeCan, Gett, CVS, Caviar, Swiggy, Amazon Restaurants, Favor, Kroger, HelloFresh, DoorDash, Skip the Dishes, Chow Now, Uber Eats, Via, Grab, Addison Lee, Foodora, Subway, Dunkin\\' Donuts, Foodpanda, Eat24, Rite Aid, DiDi, EatStreet, 7-Eleven, Taxify, Costco, Free Now, Yelp, Ride Austin, 99, Waymo, Bolt, Mr. Delivery\"}'} 956\n",
      "['kshiva19']\n",
      "956\n",
      "Testing\n",
      "df\n",
      "     run_on dqr_name  rank_value\n",
      "0  kshiva19  Testing           1\n",
      "no empty here\n",
      "     run_on dqr_name  rank_value  rank\n",
      "0  kshiva19  Testing           1     1\n",
      "1\n"
     ]
    }
   ],
   "source": [
    "# maxDqrTaskChecker(username)\n",
    "try:\n",
    "    status, requestConfig, task_id =  canPickUpTask(config)\n",
    "    # status, requestConfig, task_id =  getDqrRequest(config)\n",
    "except Exception as e:\n",
    "    Fail_mail('Getting the Request for the DQR sheet : '+str(e))\n",
    "    status, requestConfig, task_id = False, '',0"
   ]
  },
  {
   "cell_type": "code",
   "execution_count": 60,
   "id": "ee150462",
   "metadata": {
    "papermill": {
     "duration": 0.013116,
     "end_time": "2024-07-24T09:23:15.144912",
     "exception": false,
     "start_time": "2024-07-24T09:23:15.131796",
     "status": "completed"
    },
    "scrolled": true,
    "tags": []
   },
   "outputs": [
    {
     "data": {
      "text/plain": [
       "(True,\n",
       " {'task_id': 956,\n",
       "  'created_at': Timestamp('2025-01-20 11:12:01'),\n",
       "  'dqr_name': 'Testing',\n",
       "  'run_on': 'kshiva19',\n",
       "  'run_condition': 'Once',\n",
       "  'run_status': '',\n",
       "  'updated_at': Timestamp('2025-01-21 11:32:04'),\n",
       "  'dqr_link': 'None',\n",
       "  'email_address': 'kshiva19@ext.uber.com',\n",
       "  'query_run_condition': None,\n",
       "  'run_id': None,\n",
       "  'dashboard': 'test',\n",
       "  'parameters': '{\"text1\": \"launchpad\", \"text2\": \"launchpad parameter\", \"c_code\": \"LTU, ESP, TZA, NIC, MAC, REU, JPN, FRA, PAK, TUR, PRY, TTO, HRV, NGA, MUS, CZE, SVK, HKG, BHR, ZAF, DEU, AUT, VEN, UGA, AUS, BRA, IND, COL, KOR, GHA, BRB, TWN, MEX, HND, LKA, SWE, QAT, BOL, SRB, CIV, GB, FIN, PAN, MAR, DOM, USA, SAU, SGP, ARG, LBN, GBR, GRC, CHE, NLD, BGD, KEN, CRI, ECU, CAN, POL, DNK, PRT, PER, NZL, URY, US, UKR, GLP, HUN, \\\\\\\\N, NOR, KWT, SVN, SLV, ITA, GTM, CHL, BEL, IRL, EST, ROU, JOR, EGY, NPL, JAM, ARE\", \"c_name\": \"OrderUp, Lyft Scooters, Rappi, McDonald\\'s, Rakuten Delivery, ASAP, delivery.com, inDrive, WaitrApp, Ritual, 5cd16a998fa0e3b107bf919b453e4d8e7c2a8865, Walmart, Fasten, Walgreens, Slice, JUMP, OrderIn, Glovo, Order Up, Good Eggs, goPuff, LevelUp, Peapod, My Taxi, Go-Jek, Gorillas, Uber Pass, Domino\\'s Pizza, Juno, Heb, Wawa, iFood, Menulog, DiDi Food, Delivery Hero, Deliveroo, Uber, Starbucks, Ola, Seamless, Bird, Wolt, Lime, Menu, CornerShop, Lyft, Papa John\\'s, Chipotle, ezCater, Zomato, Just Eat, Fresh Direct, Yango, eBay, GrubHub, Instacart, Yandex, Postmates, Bite Squad, KFC, Amazon, kapten, Instacart Canada, Marley Spoon, Beat, Cabify, Bring Me That, Pizza Hut, Drizly, DemaeCan, Gett, CVS, Caviar, Swiggy, Amazon Restaurants, Favor, Kroger, HelloFresh, DoorDash, Skip the Dishes, Chow Now, Uber Eats, Via, Grab, Addison Lee, Foodora, Subway, Dunkin\\' Donuts, Foodpanda, Eat24, Rite Aid, DiDi, EatStreet, 7-Eleven, Taxify, Costco, Free Now, Yelp, Ride Austin, 99, Waymo, Bolt, Mr. Delivery\"}'},\n",
       " 956)"
      ]
     },
     "execution_count": 60,
     "metadata": {},
     "output_type": "execute_result"
    }
   ],
   "source": [
    "status, requestConfig, task_id"
   ]
  },
  {
   "cell_type": "code",
   "execution_count": 61,
   "id": "314f9f7b",
   "metadata": {},
   "outputs": [],
   "source": [
    "import json\n",
    "import html\n",
    "\n",
    "# parameters_dict = json.loads(requestConfig['parameters'])\n",
    "if status:\n",
    "    unescaped_parameters = html.unescape(requestConfig['parameters'])\n",
    "        \n",
    "    parameters_dict = json.loads(unescaped_parameters)\n",
    "    requestConfig['parameters'] =parameters_dict\n",
    "    parameters_dict"
   ]
  },
  {
   "cell_type": "code",
   "execution_count": 62,
   "id": "00fabd99",
   "metadata": {
    "scrolled": true
   },
   "outputs": [
    {
     "data": {
      "text/plain": [
       "{'task_id': 956,\n",
       " 'created_at': Timestamp('2025-01-20 11:12:01'),\n",
       " 'dqr_name': 'Testing',\n",
       " 'run_on': 'kshiva19',\n",
       " 'run_condition': 'Once',\n",
       " 'run_status': '',\n",
       " 'updated_at': Timestamp('2025-01-21 11:32:04'),\n",
       " 'dqr_link': 'None',\n",
       " 'email_address': 'kshiva19@ext.uber.com',\n",
       " 'query_run_condition': None,\n",
       " 'run_id': None,\n",
       " 'dashboard': 'test',\n",
       " 'parameters': {'text1': 'launchpad',\n",
       "  'text2': 'launchpad parameter',\n",
       "  'c_code': 'LTU, ESP, TZA, NIC, MAC, REU, JPN, FRA, PAK, TUR, PRY, TTO, HRV, NGA, MUS, CZE, SVK, HKG, BHR, ZAF, DEU, AUT, VEN, UGA, AUS, BRA, IND, COL, KOR, GHA, BRB, TWN, MEX, HND, LKA, SWE, QAT, BOL, SRB, CIV, GB, FIN, PAN, MAR, DOM, USA, SAU, SGP, ARG, LBN, GBR, GRC, CHE, NLD, BGD, KEN, CRI, ECU, CAN, POL, DNK, PRT, PER, NZL, URY, US, UKR, GLP, HUN, \\\\N, NOR, KWT, SVN, SLV, ITA, GTM, CHL, BEL, IRL, EST, ROU, JOR, EGY, NPL, JAM, ARE',\n",
       "  'c_name': \"OrderUp, Lyft Scooters, Rappi, McDonald's, Rakuten Delivery, ASAP, delivery.com, inDrive, WaitrApp, Ritual, 5cd16a998fa0e3b107bf919b453e4d8e7c2a8865, Walmart, Fasten, Walgreens, Slice, JUMP, OrderIn, Glovo, Order Up, Good Eggs, goPuff, LevelUp, Peapod, My Taxi, Go-Jek, Gorillas, Uber Pass, Domino's Pizza, Juno, Heb, Wawa, iFood, Menulog, DiDi Food, Delivery Hero, Deliveroo, Uber, Starbucks, Ola, Seamless, Bird, Wolt, Lime, Menu, CornerShop, Lyft, Papa John's, Chipotle, ezCater, Zomato, Just Eat, Fresh Direct, Yango, eBay, GrubHub, Instacart, Yandex, Postmates, Bite Squad, KFC, Amazon, kapten, Instacart Canada, Marley Spoon, Beat, Cabify, Bring Me That, Pizza Hut, Drizly, DemaeCan, Gett, CVS, Caviar, Swiggy, Amazon Restaurants, Favor, Kroger, HelloFresh, DoorDash, Skip the Dishes, Chow Now, Uber Eats, Via, Grab, Addison Lee, Foodora, Subway, Dunkin' Donuts, Foodpanda, Eat24, Rite Aid, DiDi, EatStreet, 7-Eleven, Taxify, Costco, Free Now, Yelp, Ride Austin, 99, Waymo, Bolt, Mr. Delivery\"}}"
      ]
     },
     "execution_count": 62,
     "metadata": {},
     "output_type": "execute_result"
    }
   ],
   "source": [
    "requestConfig"
   ]
  },
  {
   "cell_type": "code",
   "execution_count": 63,
   "id": "48c4c229",
   "metadata": {},
   "outputs": [],
   "source": [
    "if status:\n",
    "    for key in parameters_dict:\n",
    "        exec(f'{key} = parameters_dict[key]')"
   ]
  },
  {
   "cell_type": "code",
   "execution_count": 64,
   "id": "c4968043",
   "metadata": {
    "papermill": {
     "duration": 0.169412,
     "end_time": "2024-07-24T09:23:15.321732",
     "exception": true,
     "start_time": "2024-07-24T09:23:15.152320",
     "status": "failed"
    },
    "tags": []
   },
   "outputs": [
    {
     "name": "stdout",
     "output_type": "stream",
     "text": [
      "True\n",
      "into query\n",
      "Query executed successfully.\n"
     ]
    }
   ],
   "source": [
    "isDqrRequestAvailable(status,task_id)\n",
    "# if status:\n",
    "#    autoGit('pull')"
   ]
  },
  {
   "cell_type": "code",
   "execution_count": 65,
   "id": "10065b42",
   "metadata": {
    "papermill": {
     "duration": null,
     "end_time": null,
     "exception": null,
     "start_time": null,
     "status": "pending"
    },
    "tags": []
   },
   "outputs": [],
   "source": [
    "# try:\n",
    "reportName = requestConfig['dqr_name']  \n",
    "config = ymlParser(file='config.yaml')\n",
    "configName = config['reportMap'][reportName]\n",
    "reportConfig = config[configName]\n",
    "if reportConfig['isDocOutput']:\n",
    "    driveFolder = reportConfig['drive']\n",
    "notebook_name = reportConfig['CodeFile']\n",
    "# except Exception as e:\n",
    "    "
   ]
  },
  {
   "cell_type": "code",
   "execution_count": 66,
   "id": "7321dba3",
   "metadata": {
    "papermill": {
     "duration": null,
     "end_time": null,
     "exception": null,
     "start_time": null,
     "status": "pending"
    },
    "tags": []
   },
   "outputs": [
    {
     "data": {
      "text/plain": [
       "'Testing'"
      ]
     },
     "execution_count": 66,
     "metadata": {},
     "output_type": "execute_result"
    }
   ],
   "source": [
    "reportName"
   ]
  },
  {
   "cell_type": "code",
   "execution_count": 67,
   "id": "c3af10df-6284-4cfa-aa0d-66cd9367d90a",
   "metadata": {},
   "outputs": [
    {
     "data": {
      "text/plain": [
       "({'task_id': 956,\n",
       "  'created_at': Timestamp('2025-01-20 11:12:01'),\n",
       "  'dqr_name': 'Testing',\n",
       "  'run_on': 'kshiva19',\n",
       "  'run_condition': 'Once',\n",
       "  'run_status': '',\n",
       "  'updated_at': Timestamp('2025-01-21 11:32:04'),\n",
       "  'dqr_link': 'None',\n",
       "  'email_address': 'kshiva19@ext.uber.com',\n",
       "  'query_run_condition': None,\n",
       "  'run_id': None,\n",
       "  'dashboard': 'test',\n",
       "  'parameters': {'text1': 'launchpad',\n",
       "   'text2': 'launchpad parameter',\n",
       "   'c_code': 'LTU, ESP, TZA, NIC, MAC, REU, JPN, FRA, PAK, TUR, PRY, TTO, HRV, NGA, MUS, CZE, SVK, HKG, BHR, ZAF, DEU, AUT, VEN, UGA, AUS, BRA, IND, COL, KOR, GHA, BRB, TWN, MEX, HND, LKA, SWE, QAT, BOL, SRB, CIV, GB, FIN, PAN, MAR, DOM, USA, SAU, SGP, ARG, LBN, GBR, GRC, CHE, NLD, BGD, KEN, CRI, ECU, CAN, POL, DNK, PRT, PER, NZL, URY, US, UKR, GLP, HUN, \\\\N, NOR, KWT, SVN, SLV, ITA, GTM, CHL, BEL, IRL, EST, ROU, JOR, EGY, NPL, JAM, ARE',\n",
       "   'c_name': \"OrderUp, Lyft Scooters, Rappi, McDonald's, Rakuten Delivery, ASAP, delivery.com, inDrive, WaitrApp, Ritual, 5cd16a998fa0e3b107bf919b453e4d8e7c2a8865, Walmart, Fasten, Walgreens, Slice, JUMP, OrderIn, Glovo, Order Up, Good Eggs, goPuff, LevelUp, Peapod, My Taxi, Go-Jek, Gorillas, Uber Pass, Domino's Pizza, Juno, Heb, Wawa, iFood, Menulog, DiDi Food, Delivery Hero, Deliveroo, Uber, Starbucks, Ola, Seamless, Bird, Wolt, Lime, Menu, CornerShop, Lyft, Papa John's, Chipotle, ezCater, Zomato, Just Eat, Fresh Direct, Yango, eBay, GrubHub, Instacart, Yandex, Postmates, Bite Squad, KFC, Amazon, kapten, Instacart Canada, Marley Spoon, Beat, Cabify, Bring Me That, Pizza Hut, Drizly, DemaeCan, Gett, CVS, Caviar, Swiggy, Amazon Restaurants, Favor, Kroger, HelloFresh, DoorDash, Skip the Dishes, Chow Now, Uber Eats, Via, Grab, Addison Lee, Foodora, Subway, Dunkin' Donuts, Foodpanda, Eat24, Rite Aid, DiDi, EatStreet, 7-Eleven, Taxify, Costco, Free Now, Yelp, Ride Austin, 99, Waymo, Bolt, Mr. Delivery\"}},\n",
       " 'kshiva19')"
      ]
     },
     "execution_count": 67,
     "metadata": {},
     "output_type": "execute_result"
    }
   ],
   "source": [
    "\n",
    "requestConfig,username"
   ]
  },
  {
   "cell_type": "code",
   "execution_count": 68,
   "id": "7ed8390d",
   "metadata": {
    "papermill": {
     "duration": null,
     "end_time": null,
     "exception": null,
     "start_time": null,
     "status": "pending"
    },
    "tags": []
   },
   "outputs": [
    {
     "name": "stdout",
     "output_type": "stream",
     "text": [
      "Query executed successfully.\n",
      "3274\n"
     ]
    }
   ],
   "source": [
    "try:\n",
    "    logger_id = CreateDqrLogger(requestConfig,username)\n",
    "except Exception as e:\n",
    "    postLog('Error while creating logger : '+str(e), LogType='ERROR')\n",
    "    postDqrScriptFail(task_id, logger_id)\n",
    "    print(e)"
   ]
  },
  {
   "cell_type": "code",
   "execution_count": 69,
   "id": "b199d61b-e1f5-4c99-a95e-8c467d03a5f9",
   "metadata": {
    "papermill": {
     "duration": null,
     "end_time": null,
     "exception": null,
     "start_time": null,
     "status": "pending"
    },
    "tags": []
   },
   "outputs": [
    {
     "data": {
      "text/plain": [
       "{'task_id': 956, 'logger_id': 3274}"
      ]
     },
     "execution_count": 69,
     "metadata": {},
     "output_type": "execute_result"
    }
   ],
   "source": [
    "runConfig = {'task_id':task_id, 'logger_id':logger_id}\n",
    "runConfig"
   ]
  },
  {
   "cell_type": "code",
   "execution_count": 70,
   "id": "9dc4f583",
   "metadata": {
    "papermill": {
     "duration": null,
     "end_time": null,
     "exception": null,
     "start_time": null,
     "status": "pending"
    },
    "tags": []
   },
   "outputs": [],
   "source": [
    "try:\n",
    "    sheetAccess,driveAccess =  validateDriveAccess(isSheetAccess = False, isDriveAccess=True)\n",
    "except Exception as e:\n",
    "    Fail_mail('Google Authentication Failed : '+str(e))\n"
   ]
  },
  {
   "cell_type": "code",
   "execution_count": 71,
   "id": "d75368a2-da3c-4f9e-87df-b81c4a8fc21b",
   "metadata": {
    "papermill": {
     "duration": null,
     "end_time": null,
     "exception": null,
     "start_time": null,
     "status": "pending"
    },
    "tags": []
   },
   "outputs": [],
   "source": [
    "\n",
    "def getData(report,DqrName = reportName, parameters ={},requestConfig = requestConfig):\n",
    "    try:\n",
    "        user_email = os.getenv('USER_EMAIL_ID')\n",
    "    except:\n",
    "        user_email = username+\"@ext.uber.com\"\n",
    "    qr = Client(user_email=user_email)\n",
    "    timeIST = datetime.now()+timedelta(minutes=30, hours=5)\n",
    "    timeIST = timeIST.strftime(\"%Y-%m-%d %H:%M:%S\")\n",
    "    parameter_json = json.dumps(parameters)\n",
    "    status, queryrunner_uuid = getQueryUUID(report,parameter_json,requestConfig['query_run_condition'], postLog=postLog)\n",
    "    \n",
    "    if status:\n",
    "        postLog('Starting running Query using UUID : {} '.format(queryrunner_uuid))\n",
    "        cursor = qr.get_result(queryrunner_uuid,user_email)\n",
    "    \n",
    "    else:\n",
    "        postLog('Starting running the Queryreport : {} with the parameters : {}'.format(report,str(parameter_json)))\n",
    "        cursor = qr.execute_report(report, parameters=parameters)#, datacenter='phx2')   \n",
    "    \n",
    "    \n",
    "    uuid = cursor.execution_uuid\n",
    "    datacenterLink = 'https://datacentral.uberinternal.com/queryrunner/queries/{}/overview'.format(uuid)\n",
    "    datacenterLinklog = '<a href={} target=\"_blank\">{}</a>'.format(datacenterLink,datacenterLink)\n",
    "    postLog(datacenterLinklog,'INFO')\n",
    "    \n",
    "    data = cursor.to_pandas()\n",
    "\n",
    "    if not status:\n",
    "        query = f\"\"\"\n",
    "            INSERT INTO launchpad_historical_query_runs_dev (report_id, parameters, uuid)\n",
    "            VALUES ('{report}', '''{parameter_json}''', '{uuid}')\n",
    "        \"\"\"\n",
    "        # query = f\"\"\"\n",
    "        #     INSERT INTO launchpad_historical_query_runs (query_run_id, created_at, report_id, parameters, uuid)\n",
    "        #     VALUES ({getNextID('launchpad_historical_query_runs')}, '{timeIST}', '{report}', '''{parameter_json}''', '{uuid}')\n",
    "        # \"\"\"\n",
    "        runBQuery(query,False)\n",
    "#         runBQuery(query)\n",
    "\n",
    "    postLog('Query execution completed')\n",
    "    \n",
    "    return data"
   ]
  },
  {
   "cell_type": "code",
   "execution_count": 72,
   "id": "9756f37f-92c2-4f9c-ac5b-891d0afe262b",
   "metadata": {},
   "outputs": [
    {
     "data": {
      "text/plain": [
       "{'task_id': 956,\n",
       " 'created_at': Timestamp('2025-01-20 11:12:01'),\n",
       " 'dqr_name': 'Testing',\n",
       " 'run_on': 'kshiva19',\n",
       " 'run_condition': 'Once',\n",
       " 'run_status': '',\n",
       " 'updated_at': Timestamp('2025-01-21 11:32:04'),\n",
       " 'dqr_link': 'None',\n",
       " 'email_address': 'kshiva19@ext.uber.com',\n",
       " 'query_run_condition': None,\n",
       " 'run_id': None,\n",
       " 'dashboard': 'test',\n",
       " 'parameters': {'text1': 'launchpad',\n",
       "  'text2': 'launchpad parameter',\n",
       "  'c_code': 'LTU, ESP, TZA, NIC, MAC, REU, JPN, FRA, PAK, TUR, PRY, TTO, HRV, NGA, MUS, CZE, SVK, HKG, BHR, ZAF, DEU, AUT, VEN, UGA, AUS, BRA, IND, COL, KOR, GHA, BRB, TWN, MEX, HND, LKA, SWE, QAT, BOL, SRB, CIV, GB, FIN, PAN, MAR, DOM, USA, SAU, SGP, ARG, LBN, GBR, GRC, CHE, NLD, BGD, KEN, CRI, ECU, CAN, POL, DNK, PRT, PER, NZL, URY, US, UKR, GLP, HUN, \\\\N, NOR, KWT, SVN, SLV, ITA, GTM, CHL, BEL, IRL, EST, ROU, JOR, EGY, NPL, JAM, ARE',\n",
       "  'c_name': \"OrderUp, Lyft Scooters, Rappi, McDonald's, Rakuten Delivery, ASAP, delivery.com, inDrive, WaitrApp, Ritual, 5cd16a998fa0e3b107bf919b453e4d8e7c2a8865, Walmart, Fasten, Walgreens, Slice, JUMP, OrderIn, Glovo, Order Up, Good Eggs, goPuff, LevelUp, Peapod, My Taxi, Go-Jek, Gorillas, Uber Pass, Domino's Pizza, Juno, Heb, Wawa, iFood, Menulog, DiDi Food, Delivery Hero, Deliveroo, Uber, Starbucks, Ola, Seamless, Bird, Wolt, Lime, Menu, CornerShop, Lyft, Papa John's, Chipotle, ezCater, Zomato, Just Eat, Fresh Direct, Yango, eBay, GrubHub, Instacart, Yandex, Postmates, Bite Squad, KFC, Amazon, kapten, Instacart Canada, Marley Spoon, Beat, Cabify, Bring Me That, Pizza Hut, Drizly, DemaeCan, Gett, CVS, Caviar, Swiggy, Amazon Restaurants, Favor, Kroger, HelloFresh, DoorDash, Skip the Dishes, Chow Now, Uber Eats, Via, Grab, Addison Lee, Foodora, Subway, Dunkin' Donuts, Foodpanda, Eat24, Rite Aid, DiDi, EatStreet, 7-Eleven, Taxify, Costco, Free Now, Yelp, Ride Austin, 99, Waymo, Bolt, Mr. Delivery\"}}"
      ]
     },
     "execution_count": 72,
     "metadata": {},
     "output_type": "execute_result"
    }
   ],
   "source": [
    "requestConfig"
   ]
  },
  {
   "cell_type": "code",
   "execution_count": 73,
   "id": "7609ac02-3e7f-4fbf-ad9c-4041bb153f46",
   "metadata": {},
   "outputs": [],
   "source": [
    "import json\n",
    "from datetime import datetime, timedelta\n",
    "\n",
    "def postLog(logtext, LogType='DEBUG', filePath='', isFile=0):\n",
    "    '''\n",
    "    ['DEBUG','INFO','WARNING','ERROR','CRITICAL']\n",
    "    '''\n",
    "    img_str = None\n",
    "    timeIST = datetime.now() + timedelta(minutes=30, hours=5)\n",
    "    timeIST = timeIST.strftime(\"%Y-%m-%d %H:%M:%S\")\n",
    "    \n",
    "    # Ensure proper formatting if the log is to be saved to a file\n",
    "    if isFile and filePath in ('', None):\n",
    "        print('File Path not found')\n",
    "        return 0\n",
    "    elif isFile:\n",
    "        img_str = 'Null'  # Handle image if required\n",
    "\n",
    "    # Ensure logtext is formatted correctly for SQL\n",
    "    if isinstance(logtext, str):\n",
    "        logtext = logtext.replace('{', '{{').replace('}', '}}')  # Escape curly braces\n",
    "        logtext = logtext.replace('\\n', '<br>').replace('\\\\', '')  # Clean the log text\n",
    "\n",
    "    # Escape single quotes in the logtext for SQL\n",
    "    logtext = logtext.replace(\"'\", \"''\")  \n",
    "    \n",
    "    # Convert datetime fields to string (e.g., MySQL DATETIME format)\n",
    "    created_at_str = requestConfig['created_at'].strftime(\"%Y-%m-%d %H:%M:%S\")\n",
    "    updated_at_str = requestConfig['updated_at'].strftime(\"%Y-%m-%d %H:%M:%S\")\n",
    "    run_id_str = requestConfig['run_id']  # run_id is already a string, no conversion needed\n",
    "\n",
    "    # Construct the SQL query using the correct values from requestConfig\n",
    "    # query = f\"\"\"\n",
    "    # INSERT INTO launchpad_logs (task_id, run_id, logger_type, log, isImg, img)\n",
    "    # VALUES ({requestConfig['task_id']}, '{run_id_str}', '{LogType}', '{logtext}', {isFile}, '{img_str}')\n",
    "    # \"\"\"\n",
    "    query = f\"\"\"\n",
    "    INSERT INTO launchpad_logs_dev (task_id, run_id,logger_type, log, isImg, img)\n",
    "    VALUES ({task_id}, {logger_id}, '{LogType}', '{logtext}', '{isFile}', '{img_str}')\n",
    "    \"\"\"\n",
    "    \n",
    "    # Run the query\n",
    "    runBQuery(query, False)\n",
    "    \n",
    "    return True\n"
   ]
  },
  {
   "cell_type": "code",
   "execution_count": 74,
   "id": "49372d7a",
   "metadata": {},
   "outputs": [
    {
     "name": "stdout",
     "output_type": "stream",
     "text": [
      "Query executed successfully.\n"
     ]
    },
    {
     "data": {
      "text/plain": [
       "True"
      ]
     },
     "execution_count": 74,
     "metadata": {},
     "output_type": "execute_result"
    }
   ],
   "source": [
    "postLog(\"Report Name : \"+str(reportName))"
   ]
  },
  {
   "cell_type": "code",
   "execution_count": 75,
   "id": "c6e604b9-b72a-444c-bee4-3630a182574d",
   "metadata": {},
   "outputs": [
    {
     "name": "stdout",
     "output_type": "stream",
     "text": [
      "Query executed successfully.\n"
     ]
    },
    {
     "data": {
      "text/plain": [
       "True"
      ]
     },
     "execution_count": 75,
     "metadata": {},
     "output_type": "execute_result"
    }
   ],
   "source": [
    "requestConfigs = json.dumps(requestConfig, default=str)\n",
    "\n",
    "postLog(\"requestConfig : \"+requestConfigs,'INFO')"
   ]
  },
  {
   "cell_type": "code",
   "execution_count": 76,
   "id": "fd8521b7-0cfd-410a-898d-b5f1508d1370",
   "metadata": {
    "papermill": {
     "duration": null,
     "end_time": null,
     "exception": null,
     "start_time": null,
     "status": "pending"
    },
    "tags": []
   },
   "outputs": [
    {
     "data": {
      "text/plain": [
       "{'task_id': 956,\n",
       " 'created_at': Timestamp('2025-01-20 11:12:01'),\n",
       " 'dqr_name': 'Testing',\n",
       " 'run_on': 'kshiva19',\n",
       " 'run_condition': 'Once',\n",
       " 'run_status': '',\n",
       " 'updated_at': Timestamp('2025-01-21 11:32:04'),\n",
       " 'dqr_link': 'None',\n",
       " 'email_address': 'kshiva19@ext.uber.com',\n",
       " 'query_run_condition': None,\n",
       " 'run_id': None,\n",
       " 'dashboard': 'test',\n",
       " 'parameters': {'text1': 'launchpad',\n",
       "  'text2': 'launchpad parameter',\n",
       "  'c_code': 'LTU, ESP, TZA, NIC, MAC, REU, JPN, FRA, PAK, TUR, PRY, TTO, HRV, NGA, MUS, CZE, SVK, HKG, BHR, ZAF, DEU, AUT, VEN, UGA, AUS, BRA, IND, COL, KOR, GHA, BRB, TWN, MEX, HND, LKA, SWE, QAT, BOL, SRB, CIV, GB, FIN, PAN, MAR, DOM, USA, SAU, SGP, ARG, LBN, GBR, GRC, CHE, NLD, BGD, KEN, CRI, ECU, CAN, POL, DNK, PRT, PER, NZL, URY, US, UKR, GLP, HUN, \\\\N, NOR, KWT, SVN, SLV, ITA, GTM, CHL, BEL, IRL, EST, ROU, JOR, EGY, NPL, JAM, ARE',\n",
       "  'c_name': \"OrderUp, Lyft Scooters, Rappi, McDonald's, Rakuten Delivery, ASAP, delivery.com, inDrive, WaitrApp, Ritual, 5cd16a998fa0e3b107bf919b453e4d8e7c2a8865, Walmart, Fasten, Walgreens, Slice, JUMP, OrderIn, Glovo, Order Up, Good Eggs, goPuff, LevelUp, Peapod, My Taxi, Go-Jek, Gorillas, Uber Pass, Domino's Pizza, Juno, Heb, Wawa, iFood, Menulog, DiDi Food, Delivery Hero, Deliveroo, Uber, Starbucks, Ola, Seamless, Bird, Wolt, Lime, Menu, CornerShop, Lyft, Papa John's, Chipotle, ezCater, Zomato, Just Eat, Fresh Direct, Yango, eBay, GrubHub, Instacart, Yandex, Postmates, Bite Squad, KFC, Amazon, kapten, Instacart Canada, Marley Spoon, Beat, Cabify, Bring Me That, Pizza Hut, Drizly, DemaeCan, Gett, CVS, Caviar, Swiggy, Amazon Restaurants, Favor, Kroger, HelloFresh, DoorDash, Skip the Dishes, Chow Now, Uber Eats, Via, Grab, Addison Lee, Foodora, Subway, Dunkin' Donuts, Foodpanda, Eat24, Rite Aid, DiDi, EatStreet, 7-Eleven, Taxify, Costco, Free Now, Yelp, Ride Austin, 99, Waymo, Bolt, Mr. Delivery\"}}"
      ]
     },
     "execution_count": 76,
     "metadata": {},
     "output_type": "execute_result"
    }
   ],
   "source": [
    "requestConfig"
   ]
  },
  {
   "cell_type": "code",
   "execution_count": 77,
   "id": "401063f7",
   "metadata": {
    "papermill": {
     "duration": null,
     "end_time": null,
     "exception": null,
     "start_time": null,
     "status": "pending"
    },
    "tags": []
   },
   "outputs": [
    {
     "name": "stdout",
     "output_type": "stream",
     "text": [
      "Query executed successfully.\n",
      "Query executed successfully.\n"
     ]
    }
   ],
   "source": [
    "# defining runIDs\n",
    "postLog('Defining runIDs')\n",
    "\n",
    "# runIDs = str(requestConfig['run_id'])\n",
    "# # print(runIDs)\n",
    "# if runIDs in ('',' ','None',None):\n",
    "#     postLog('No run ID provided')\n",
    "#     runIDs = None\n",
    "# else:\n",
    "#     runIDs = runIDs.split(',')\n",
    "#     runIDs = [i.strip() for i in runIDs]\n",
    "#     postLog('runIDs are '+str(runIDs))\n",
    "\n",
    "runIDs = str(requestConfig['run_id']).strip('\\\"')  # Remove any enclosing quotes\n",
    "# print(runIDs)\n",
    "if runIDs in ('', ' ', 'None', None):\n",
    "    postLog('No run ID provided')\n",
    "    runIDs = None\n",
    "else:\n",
    "    runIDs = runIDs.split(',')\n",
    "    runIDs = [i.strip() for i in runIDs]\n",
    "    postLog('runIDs are ' + str(runIDs))\n"
   ]
  },
  {
   "cell_type": "code",
   "execution_count": 78,
   "id": "cd17e600",
   "metadata": {
    "papermill": {
     "duration": null,
     "end_time": null,
     "exception": null,
     "start_time": null,
     "status": "pending"
    },
    "tags": []
   },
   "outputs": [],
   "source": [
    "launchPadFilePath = os.getcwd()"
   ]
  },
  {
   "cell_type": "code",
   "execution_count": 79,
   "id": "022fe859",
   "metadata": {
    "papermill": {
     "duration": null,
     "end_time": null,
     "exception": null,
     "start_time": null,
     "status": "pending"
    },
    "scrolled": true,
    "tags": []
   },
   "outputs": [
    {
     "name": "stdout",
     "output_type": "stream",
     "text": [
      "Query executed successfully.\n"
     ]
    },
    {
     "data": {
      "text/plain": [
       "True"
      ]
     },
     "execution_count": 79,
     "metadata": {},
     "output_type": "execute_result"
    }
   ],
   "source": [
    "# changing directories to the working report \n",
    "os.chdir(reportConfig['folder'])\n",
    "\n",
    "# postLog(\"chdir : \"+str(reportConfig['folder']))\n",
    "postLog(\"Code Directory : \"+str(os.getcwd()))"
   ]
  },
  {
   "cell_type": "code",
   "execution_count": 80,
   "id": "9eb79040-e343-4651-9654-1e5488472bad",
   "metadata": {},
   "outputs": [
    {
     "name": "stdout",
     "output_type": "stream",
     "text": [
      "The notebook is using the 'python39' kernel.\n"
     ]
    }
   ],
   "source": [
    "import nbformat\n",
    "from pathlib import Path\n",
    "\n",
    "def get_kernel_name(notebook_path):\n",
    "    # Read the notebook\n",
    "    with open(notebook_path) as f:\n",
    "        nb = nbformat.read(f, as_version=4)\n",
    "    \n",
    "    # Get the kernel name from the metadata\n",
    "    kernel_name = nb['metadata']['kernelspec']['name']\n",
    "    return kernel_name\n",
    "\n",
    "# Create the full path to the notebook\n",
    "notebook_path = Path(reportConfig['folder']) / notebook_name\n",
    "\n",
    "# Get the kernel name\n",
    "kernel_name = get_kernel_name(notebook_path)\n",
    "print(f\"The notebook is using the '{kernel_name}' kernel.\")\n"
   ]
  },
  {
   "cell_type": "code",
   "execution_count": 81,
   "id": "f90ffcf1-be47-4f60-a56e-f9227cce9fb8",
   "metadata": {},
   "outputs": [],
   "source": [
    "def log_output(cell_number, output, raw_cell_content):\n",
    "    # Logs the output of a successfully executed cell.\n",
    "    print(f\"Cell {cell_number} Output: {output}\")\n",
    "    postLog(f\"AutoLog Of Cell {cell_number}: {output}\", \"DEBUG\")\n",
    "\n",
    "\n",
    "def log_error(cell_number, error_message, raw_cell_content):\n",
    "    # Logs the error and sends a failure email when a cell fails during execution.\n",
    "    print(f\"Error in Cell {cell_number}: {error_message}\")\n",
    "    postLog(\n",
    "        f\"\"\"The Script has error during execution <br>\n",
    "            Cell Number: {cell_number} <br>\n",
    "            Error: {error_message} <br>\n",
    "            Raw Code Of The Cell : <br>\n",
    "            <p>{raw_cell_content}</p>\"\"\",\n",
    "        \"ERROR\",\n",
    "    )\n",
    "    Fail_mail(\n",
    "        error=f\"\"\"The Script has error during execution <br>\n",
    "                  Cell Number: {cell_number} <br>\n",
    "                  Error: {error_message} <br>\n",
    "                  Raw Code Of The Cell : <br>\n",
    "                  <p>{raw_cell_content}</p>\"\"\",\n",
    "        mailID=requestConfig[\"email_address\"],\n",
    "    )\n",
    "    postDqrScriptFail(task_id, logger_id)"
   ]
  },
  {
   "cell_type": "markdown",
   "id": "9dc6e183-7083-466d-823a-feecca10e09c",
   "metadata": {},
   "source": [
    "## Notebook execution then logs"
   ]
  },
  {
   "cell_type": "code",
   "execution_count": 82,
   "id": "3ed52760-ba49-4f45-a4e7-178a525de54f",
   "metadata": {
    "scrolled": true
   },
   "outputs": [],
   "source": [
    "# import nbformat\n",
    "# from nbclient import NotebookClient\n",
    "# import traceback\n",
    "\n",
    "\n",
    "# def execute_notebook_in_existing_kernel(\n",
    "#     notebook_path, kernel_client=None, parameters=None, kernel_name=\"python3\"\n",
    "# ):\n",
    "#     # Read the notebook\n",
    "#     with open(notebook_path) as f:\n",
    "#         nb = nbformat.read(f, as_version=4)\n",
    "\n",
    "#     # Inject parameters into the first cell, if provided\n",
    "#     if parameters:\n",
    "#         param_cell = nbformat.v4.new_code_cell(\n",
    "#             source=\"\\n\".join([f\"{k} = {v!r}\" for k, v in parameters.items()])\n",
    "#         )\n",
    "#         nb.cells.insert(0, param_cell)\n",
    "#         print(\"Injected parameters into the notebook.\")\n",
    "#     try:\n",
    "#         # Initialize the NotebookClient\n",
    "#         print(f\"Using kernel: {kernel_name}\")\n",
    "#         client = NotebookClient(nb, kernel_name=kernel_name, kernel_client=kernel_client)\n",
    "    \n",
    "#         # Ensure the kernel is ready if using a provided client\n",
    "#         if kernel_client:\n",
    "#             try:\n",
    "#                 kernel_client.wait_for_ready()\n",
    "#                 print(\"Kernel is ready.\")\n",
    "#             except Exception as kernel_error:\n",
    "#                 print(f\"Error while waiting for kernel to be ready: {kernel_error}\")\n",
    "#                 traceback.print_exc()\n",
    "#                 postLog(f\"Error while waiting for kernel to be ready : : {kernel_error}\",'ERROR')\n",
    "#                 Fail_mail(error=f\"Error while waiting for kernel to be ready : : {kernel_error}\", mailID=requestConfig['email_address'],)\n",
    "#                 return  # Exit early if the kernel isn't ready\n",
    "    \n",
    "#         # Execute the notebook\n",
    "#         print(\"Starting notebook execution...\")\n",
    "#         client.execute()\n",
    "#         print(\"Notebook execution completed.\")\n",
    "#     except Exception as e:\n",
    "#         print(f\"An error occurred during notebook execution: {e}\")\n",
    "#         traceback.print_exc()\n",
    "\n",
    "#     # Process cell outputs\n",
    "#     print(\"\\nProcessing cell outputs...\")\n",
    "#     for cell_number, cell in enumerate(nb.cells, start=1):  # Start cell_number from 1\n",
    "#         if cell.cell_type != \"code\":\n",
    "#             continue  # Skip non-code cells\n",
    "\n",
    "#         raw_cell_content = str(cell.source).replace(\"\\n\", \"<br>\")\n",
    "\n",
    "#         try:\n",
    "#             # Process outputs of the cell\n",
    "#             if \"outputs\" in cell:\n",
    "#                 for output in cell.outputs:\n",
    "#                     if \"text\" in output:\n",
    "#                         log_output(cell_number, output[\"text\"], raw_cell_content)\n",
    "#                     elif \"data\" in output and \"text/plain\" in output[\"data\"]:\n",
    "#                         log_output(cell_number, output[\"data\"][\"text/plain\"], raw_cell_content)\n",
    "#                     elif \"ename\" in output and \"evalue\" in output:  # Error in cell execution\n",
    "#                         log_error(cell_number, output[\"evalue\"], raw_cell_content)\n",
    "#                         return  # Stop further logging after an error\n",
    "#             else:\n",
    "#                 print(f\"No output for Cell {cell_number}.\")\n",
    "\n",
    "#         except Exception as processing_error:\n",
    "#             print(f\"Error processing Cell {cell_number}: {processing_error}\")\n",
    "#             traceback.print_exc()\n",
    "#             log_error(cell_number, str(processing_error), raw_cell_content)\n",
    "\n",
    "\n",
    "# kernel_client = None  # Replace with a valid kernel client instance if needed\n",
    "# execute_notebook_in_existing_kernel(notebook_name, kernel_client, parameters=parameters_dict,kernel_name=kernel_name)\n",
    "\n"
   ]
  },
  {
   "cell_type": "code",
   "execution_count": 83,
   "id": "f2f8187d-0042-4514-8866-31dedfff8c88",
   "metadata": {},
   "outputs": [],
   "source": [
    "# import nbformat\n",
    "# from nbclient import NotebookClient\n",
    "# import traceback\n",
    "\n",
    "# def execute_notebook_in_existing_kernel(notebook_path, kernel_client=None, parameters=None,kernel_name='python3'):\n",
    "#     # Read the notebook\n",
    "#     with open(notebook_path) as f:\n",
    "#         nb = nbformat.read(f, as_version=4)\n",
    "\n",
    "#     if parameters:\n",
    "#         # Inject parameters into the first cell if provided\n",
    "#         param_cell = nbformat.v4.new_code_cell(\n",
    "#             source=\"\\n\".join([f\"{k} = {v!r}\" for k, v in parameters.items()])\n",
    "#         )\n",
    "#         nb.cells.insert(0, param_cell)\n",
    "#         print(\"Injected parameters into the notebook.\")\n",
    "#     result = None\n",
    "#     cell_number = 0\n",
    "#     # rawCellContent = None\n",
    "#     try:\n",
    "#         # Initialize the notebook client\n",
    "#         print(kernel_name)\n",
    "#         client = NotebookClient(nb, kernel_name=kernel_name, kernel_client=kernel_client)\n",
    "\n",
    "#         # Ensure the kernel is ready before executing\n",
    "#         if kernel_client:\n",
    "#             kernel_client.wait_for_ready()\n",
    "#             print(\"Kernel is ready.\")\n",
    "\n",
    "#         # # Execute the notebook\n",
    "#         # print(\"Starting notebook execution...\")\n",
    "#         # # client.execute()\n",
    "#         # print(\"Notebook execution completed.\")\n",
    "\n",
    "#         # Display outputs of each cell\n",
    "#         print(\"\\nOutputs from executed notebook cells:\")\n",
    "#         for i, cell in enumerate(nb.cells):\n",
    "#             # print(\"hey this is the cell number\")\n",
    "#             # print(cell_number)\n",
    "#             cell_number = i\n",
    "#             if cell.cell_type == 'code':\n",
    "#                 print(f\"\\nCell {i+1}:\")\n",
    "#                 print(\"\\n\")\n",
    "\n",
    "#                 rawCellContent = str(cell.source).replace('\\n','<br>')\n",
    "\n",
    "    \n",
    "#                 result = ipython.run_cell(cell.source)\n",
    "#                 # postLog(f'AutoLog Of Cell {i} : <p>{op}</p>')\n",
    "#                 # if op.success:\n",
    "#                 #     result = str(op.result).replace('\\n','<br>').replace('\\\\','')\n",
    "#                 #     print(\"hey\")\n",
    "#                 #     postLog(f'AutoLog Of Cell {i} : <p>{result}</p>')\n",
    "                    \n",
    "                    \n",
    "#                 print(\"\\n\")\n",
    "#                 print(\"Cell\")\n",
    "#                 print(cell)\n",
    "#                 print(\"\\n\")\n",
    "\n",
    "#                 if 'outputs' in cell:\n",
    "#                     for output in cell.outputs:\n",
    "#                         print(\"output\\n\")\n",
    "#                         print(output)\n",
    "#                         if 'text' in output:\n",
    "#                             print(output['text'])\n",
    "#                             # postDqrAutoLog(output, i+1, notebook_name, reportConfig,requestConfig,postLog=postLog)\n",
    "#                             postLog(f\"AutoLog Of Cell {i+1} : \"+output['text'],'DEBUG')\n",
    "#                             # postDqrAutoLog_dev(output['text'], i+1, notebook_name, reportConfig,requestConfig,postLog=postLog)\n",
    "                        \n",
    "#                         elif 'data' in output and 'text/plain' in output['data']:\n",
    "#                             print(output['data']['text/plain'])\n",
    "#                             postLog(f\"AutoLog Of Cell {i+1} : \"+output['data']['text/plain'],'DEBUG')\n",
    "#                             # postDqrAutoLog_dev(output['data']['text/plain'], i+1, notebook_name, reportConfig,requestConfig,postLog=postLog)\n",
    "                        \n",
    "#                         elif 'ename' in output and 'evalue' in output:  # For errors\n",
    "#                             print(f\"Error: {output['ename']}: {output['evalue']}\")\n",
    "#                             # postDqrAutoLog(result, i+1, notebook_name, reportConfig,requestConfig,postLog=postLog)\n",
    "#                             postLog(f\"Error: {output['evalue']}\",'ERROR')\n",
    "#                             rawCellContent = str(result.info.raw_cell).replace('\\n','<br>')\n",
    "#                             # Fail_mail(error = f'''The Script has error during execution <br>\n",
    "#                             # Cell Number: {i} of {notebook_name} <br>\n",
    "#                             #     Error: {str(result.error_in_exec)} <br>\n",
    "#                             #     Raw Code Of The Cell : <br>\n",
    "#                             #     <p>{rawCellContent}</p>''', mailID= requestConfig['email_address'])\n",
    "#                             # postDqrScriptFail(task_id, logger_id)\n",
    "                            \n",
    "#                 else:\n",
    "#                     print(\"No output for this cell.\")\n",
    "\n",
    "#     except Exception as e:\n",
    "#         print(f\"An error occurred: {e}\")\n",
    "#         traceback.print_exc()\n",
    "#         rawCellContent = str(nb.cells[cell_number+1]).replace('\\n','<br>')\n",
    "#         postLog(f\"\"\"The Script has error during execution <br>\n",
    "#                             Cell Number: {cell_number+1} of {notebook_name} <br>\n",
    "#                                 Error: {str(e)} <br>\n",
    "#                                 Raw Code Of The Cell : <br>\n",
    "#                                 <p>{rawCellContent}</p>\"\"\", 'ERROR')\n",
    "#         # Fail_mail(error = f'''The Script has error during execution <br>\n",
    "#         #                     Cell Number: {cell_number+1} of {notebook_name} <br>\n",
    "#         #                         Error: {str(e)} <br>\n",
    "#         #                         Raw Code Of The Cell : <br>\n",
    "#         #                         <p>{rawCellContent}</p>''', mailID= requestConfig['email_address'])\n",
    "#         # # Fail_mail(error = f'''The Script has error before execution <br>''', mailID= reportConfig['poc'])\n",
    "#         # postDqrScriptFail(task_id, logger_id)\n",
    "        \n",
    "\n",
    "# # Replace with the path to the notebook you want to execute\n",
    "\n",
    "# kernel_client = None  # Replace with a valid kernel client instance if needed\n",
    "# execute_notebook_in_existing_kernel(notebook_name, kernel_client, parameters=parameters_dict,kernel_name=kernel_name)\n"
   ]
  },
  {
   "cell_type": "code",
   "execution_count": 84,
   "id": "fe12a82c-71d6-425b-8557-1427438b8059",
   "metadata": {},
   "outputs": [],
   "source": [
    "# postDqrScriptFail(task_id, logger_id)"
   ]
  },
  {
   "cell_type": "code",
   "execution_count": null,
   "id": "9381968b-f74a-42a8-9773-e54b92690db2",
   "metadata": {},
   "outputs": [],
   "source": []
  },
  {
   "cell_type": "markdown",
   "id": "927034c6-5f41-4c2c-9bd6-67add75c2ddf",
   "metadata": {},
   "source": [
    "## Original\n"
   ]
  },
  {
   "cell_type": "code",
   "execution_count": 85,
   "id": "d7d95c7d-8d89-4766-a28e-d55ee8fcec40",
   "metadata": {
    "scrolled": true
   },
   "outputs": [
    {
     "name": "stdout",
     "output_type": "stream",
     "text": [
      "Injected parameters into the notebook.\n",
      "python39\n",
      "Starting notebook execution...\n"
     ]
    },
    {
     "name": "stderr",
     "output_type": "stream",
     "text": [
      "[IPKernelApp] WARNING | File not found: '/home/kshiva19/.local/share/jupyter/kernels/dsw_startup.py'\n"
     ]
    },
    {
     "name": "stdout",
     "output_type": "stream",
     "text": [
      "Notebook execution completed.\n",
      "\n",
      "Outputs from executed notebook cells:\n",
      "hey this is the cell number\n",
      "0\n",
      "\n",
      "Cell 1:\n",
      "text1 = 'launchpad'\n",
      "text2 = 'launchpad parameter'\n",
      "c_code = 'LTU, ESP, TZA, NIC, MAC, REU, JPN, FRA, PAK, TUR, PRY, TTO, HRV, NGA, MUS, CZE, SVK, HKG, BHR, ZAF, DEU, AUT, VEN, UGA, AUS, BRA, IND, COL, KOR, GHA, BRB, TWN, MEX, HND, LKA, SWE, QAT, BOL, SRB, CIV, GB, FIN, PAN, MAR, DOM, USA, SAU, SGP, ARG, LBN, GBR, GRC, CHE, NLD, BGD, KEN, CRI, ECU, CAN, POL, DNK, PRT, PER, NZL, URY, US, UKR, GLP, HUN, \\\\N, NOR, KWT, SVN, SLV, ITA, GTM, CHL, BEL, IRL, EST, ROU, JOR, EGY, NPL, JAM, ARE'\n",
      "c_name = \"OrderUp, Lyft Scooters, Rappi, McDonald's, Rakuten Delivery, ASAP, delivery.com, inDrive, WaitrApp, Ritual, 5cd16a998fa0e3b107bf919b453e4d8e7c2a8865, Walmart, Fasten, Walgreens, Slice, JUMP, OrderIn, Glovo, Order Up, Good Eggs, goPuff, LevelUp, Peapod, My Taxi, Go-Jek, Gorillas, Uber Pass, Domino's Pizza, Juno, Heb, Wawa, iFood, Menulog, DiDi Food, Delivery Hero, Deliveroo, Uber, Starbucks, Ola, Seamless, Bird, Wolt, Lime, Menu, CornerShop, Lyft, Papa John's, Chipotle, ezCater, Zomato, Just Eat, Fresh Direct, Yango, eBay, GrubHub, Instacart, Yandex, Postmates, Bite Squad, KFC, Amazon, kapten, Instacart Canada, Marley Spoon, Beat, Cabify, Bring Me That, Pizza Hut, Drizly, DemaeCan, Gett, CVS, Caviar, Swiggy, Amazon Restaurants, Favor, Kroger, HelloFresh, DoorDash, Skip the Dishes, Chow Now, Uber Eats, Via, Grab, Addison Lee, Foodora, Subway, Dunkin' Donuts, Foodpanda, Eat24, Rite Aid, DiDi, EatStreet, 7-Eleven, Taxify, Costco, Free Now, Yelp, Ride Austin, 99, Waymo, Bolt, Mr. Delivery\"\n",
      "hey this is the cell number\n",
      "0\n",
      "\n",
      "Cell 2:\n",
      "import pypostmaster\n",
      "import getpass\n",
      "from queryrunner_client import *\n",
      "from queryrunner_client import QueryRunnerException\n",
      "import numpy as np\n",
      "import pandas as pd\n",
      "from pandas.io import gbq\n",
      "import pytz\n",
      "from datetime import datetime, timedelta, tzinfo\n",
      "import time\n",
      "import warnings\n",
      "import matplotlib.pyplot as plt\n",
      "import seaborn as sns\n",
      "from dateutil.relativedelta import relativedelta\n",
      "import docx\n",
      "from docx import Document\n",
      "from docxtpl import DocxTemplate, InlineImage\n",
      "from docx.shared import Inches\n",
      "import jinja2\n",
      "import math\n",
      "import yaml\n",
      "import os\n",
      "import signal\n",
      "\n",
      "import gspread\n",
      "from oauth2client.service_account import ServiceAccountCredentials\n",
      "from pydrive.auth import GoogleAuth\n",
      "from pydrive.drive import GoogleDrive\n",
      "import uuid\n",
      "import json\n",
      "from google.cloud import bigquery\n",
      "import base64\n",
      "import nbformat\n",
      "from IPython import get_ipython\n",
      "import shutil\n",
      "import subprocess\n",
      "import random\n",
      "from croniter import croniter\n",
      "output\n",
      "\n",
      "{'output_type': 'stream', 'name': 'stderr', 'text': '/dsw/snapshots/3577215c-cc5b-4654-9900-faef6a8514f2/python39/lib/python3.9/site-packages/scipy/__init__.py:155: UserWarning: A NumPy version >=1.18.5 and <1.26.0 is required for this version of SciPy (detected version 1.26.4\\n  warnings.warn(f\"A NumPy version >={np_minversion} and <{np_maxversion}\"\\n'}\n",
      "/dsw/snapshots/3577215c-cc5b-4654-9900-faef6a8514f2/python39/lib/python3.9/site-packages/scipy/__init__.py:155: UserWarning: A NumPy version >=1.18.5 and <1.26.0 is required for this version of SciPy (detected version 1.26.4\n",
      "  warnings.warn(f\"A NumPy version >={np_minversion} and <{np_maxversion}\"\n",
      "\n",
      "Query executed successfully.\n",
      "hey this is the cell number\n",
      "1\n",
      "\n",
      "Cell 3:\n",
      "def getData(report,parameters ={}):\n",
      "    user_email = getpass.getuser()+\"@ext.uber.com\"\n",
      "    qr = Client(user_email=user_email)\n",
      "    cursor = qr.execute_report(report, parameters=parameters, datacenter='phx2')\n",
      "    return cursor.to_pandas()\n",
      "hey this is the cell number\n",
      "2\n",
      "\n",
      "Cell 4:\n",
      "warnings.filterwarnings('ignore')\n",
      "pd.set_option('display.max_rows',100)\n",
      "\n",
      "username = getpass.getuser()\n",
      "user_email = username+\"@ext.uber.com\"\n",
      "hey this is the cell number\n",
      "3\n",
      "hey this is the cell number\n",
      "4\n",
      "\n",
      "Cell 6:\n",
      "# 1. create a two queries, where \n",
      "#     a. which gets the column values into that variable name and that should be printed here \n",
      "# 2. create a parameter for text exec_type in parameter table \n",
      "\n",
      "hey this is the cell number\n",
      "5\n",
      "hey this is the cell number\n",
      "6\n",
      "\n",
      "Cell 8:\n",
      "# query_id = \"onEk0k6nx\"\n",
      "# variable_name = \"c_name\"\n",
      "# short_name = \"c_name\"\n",
      "# column_name = \"competitor_name\"\n",
      "# exec_type = \"qb_report\"\n",
      "hey this is the cell number\n",
      "7\n",
      "\n",
      "Cell 9:\n",
      "print('First Query')\n",
      "# first_query = getData('onEk0k6nx')\n",
      "First Query\n",
      "output\n",
      "\n",
      "{'output_type': 'stream', 'name': 'stdout', 'text': 'First Query\\n'}\n",
      "First Query\n",
      "\n",
      "Query executed successfully.\n",
      "hey this is the cell number\n",
      "8\n",
      "\n",
      "Cell 10:\n",
      "# c_name = ', '.join(first_query['competitor_name'].tolist())\n",
      "\n",
      "hey this is the cell number\n",
      "9\n",
      "\n",
      "Cell 11:\n",
      "print(\"variable came from parameetrs\")\n",
      "print(c_name)\n",
      "variable came from parameetrs\n",
      "OrderUp, Lyft Scooters, Rappi, McDonald's, Rakuten Delivery, ASAP, delivery.com, inDrive, WaitrApp, Ritual, 5cd16a998fa0e3b107bf919b453e4d8e7c2a8865, Walmart, Fasten, Walgreens, Slice, JUMP, OrderIn, Glovo, Order Up, Good Eggs, goPuff, LevelUp, Peapod, My Taxi, Go-Jek, Gorillas, Uber Pass, Domino's Pizza, Juno, Heb, Wawa, iFood, Menulog, DiDi Food, Delivery Hero, Deliveroo, Uber, Starbucks, Ola, Seamless, Bird, Wolt, Lime, Menu, CornerShop, Lyft, Papa John's, Chipotle, ezCater, Zomato, Just Eat, Fresh Direct, Yango, eBay, GrubHub, Instacart, Yandex, Postmates, Bite Squad, KFC, Amazon, kapten, Instacart Canada, Marley Spoon, Beat, Cabify, Bring Me That, Pizza Hut, Drizly, DemaeCan, Gett, CVS, Caviar, Swiggy, Amazon Restaurants, Favor, Kroger, HelloFresh, DoorDash, Skip the Dishes, Chow Now, Uber Eats, Via, Grab, Addison Lee, Foodora, Subway, Dunkin' Donuts, Foodpanda, Eat24, Rite Aid, DiDi, EatStreet, 7-Eleven, Taxify, Costco, Free Now, Yelp, Ride Austin, 99, Waymo, Bolt, Mr. Delivery\n",
      "output\n",
      "\n",
      "{'output_type': 'stream', 'name': 'stdout', 'text': \"variable came from parameetrs\\nOrderUp, Lyft Scooters, Rappi, McDonald's, Rakuten Delivery, ASAP, delivery.com, inDrive, WaitrApp, Ritual, 5cd16a998fa0e3b107bf919b453e4d8e7c2a8865, Walmart, Fasten, Walgreens, Slice, JUMP, OrderIn, Glovo, Order Up, Good Eggs, goPuff, LevelUp, Peapod, My Taxi, Go-Jek, Gorillas, Uber Pass, Domino's Pizza, Juno, Heb, Wawa, iFood, Menulog, DiDi Food, Delivery Hero, Deliveroo, Uber, Starbucks, Ola, Seamless, Bird, Wolt, Lime, Menu, CornerShop, Lyft, Papa John's, Chipotle, ezCater, Zomato, Just Eat, Fresh Direct, Yango, eBay, GrubHub, Instacart, Yandex, Postmates, Bite Squad, KFC, Amazon, kapten, Instacart Canada, Marley Spoon, Beat, Cabify, Bring Me That, Pizza Hut, Drizly, DemaeCan, Gett, CVS, Caviar, Swiggy, Amazon Restaurants, Favor, Kroger, HelloFresh, DoorDash, Skip the Dishes, Chow Now, Uber Eats, Via, Grab, Addison Lee, Foodora, Subway, Dunkin' Donuts, Foodpanda, Eat24, Rite Aid, DiDi, EatStreet, 7-Eleven, Taxify, Costco, Free Now, Yelp, Ride Austin, 99, Waymo, Bolt, Mr. Delivery\\n\"}\n",
      "variable came from parameetrs\n",
      "OrderUp, Lyft Scooters, Rappi, McDonald's, Rakuten Delivery, ASAP, delivery.com, inDrive, WaitrApp, Ritual, 5cd16a998fa0e3b107bf919b453e4d8e7c2a8865, Walmart, Fasten, Walgreens, Slice, JUMP, OrderIn, Glovo, Order Up, Good Eggs, goPuff, LevelUp, Peapod, My Taxi, Go-Jek, Gorillas, Uber Pass, Domino's Pizza, Juno, Heb, Wawa, iFood, Menulog, DiDi Food, Delivery Hero, Deliveroo, Uber, Starbucks, Ola, Seamless, Bird, Wolt, Lime, Menu, CornerShop, Lyft, Papa John's, Chipotle, ezCater, Zomato, Just Eat, Fresh Direct, Yango, eBay, GrubHub, Instacart, Yandex, Postmates, Bite Squad, KFC, Amazon, kapten, Instacart Canada, Marley Spoon, Beat, Cabify, Bring Me That, Pizza Hut, Drizly, DemaeCan, Gett, CVS, Caviar, Swiggy, Amazon Restaurants, Favor, Kroger, HelloFresh, DoorDash, Skip the Dishes, Chow Now, Uber Eats, Via, Grab, Addison Lee, Foodora, Subway, Dunkin' Donuts, Foodpanda, Eat24, Rite Aid, DiDi, EatStreet, 7-Eleven, Taxify, Costco, Free Now, Yelp, Ride Austin, 99, Waymo, Bolt, Mr. Delivery\n",
      "\n",
      "Query executed successfully.\n",
      "hey this is the cell number\n",
      "10\n",
      "hey this is the cell number\n",
      "11\n",
      "\n",
      "Cell 13:\n",
      "# query_id = \"Hh9w3g6hR\"\n",
      "# variable_name = \"c_code\"\n",
      "# short_name = \"c_code\"\n",
      "# column_name = \"country_code\"\n",
      "# exec_type = \"qb_report\"\n",
      "hey this is the cell number\n",
      "12\n",
      "\n",
      "Cell 14:\n",
      "print('Second Query')\n",
      "# second_query = getData('Hh9w3g6hR')\n",
      "Second Query\n",
      "output\n",
      "\n",
      "{'output_type': 'stream', 'name': 'stdout', 'text': 'Second Query\\n'}\n",
      "Second Query\n",
      "\n",
      "Query executed successfully.\n",
      "hey this is the cell number\n",
      "13\n",
      "\n",
      "Cell 15:\n",
      "# print(\"hervc bdnsc\")\n",
      "hey this is the cell number\n",
      "14\n",
      "\n",
      "Cell 16:\n",
      "# c_code = ', '.join(second_query['country_code'].tolist())\n",
      "hey this is the cell number\n",
      "15\n",
      "\n",
      "Cell 17:\n",
      "print(\"variable came from parameetrs\")\n",
      "print(c_code)\n",
      "variable came from parameetrs\n",
      "LTU, ESP, TZA, NIC, MAC, REU, JPN, FRA, PAK, TUR, PRY, TTO, HRV, NGA, MUS, CZE, SVK, HKG, BHR, ZAF, DEU, AUT, VEN, UGA, AUS, BRA, IND, COL, KOR, GHA, BRB, TWN, MEX, HND, LKA, SWE, QAT, BOL, SRB, CIV, GB, FIN, PAN, MAR, DOM, USA, SAU, SGP, ARG, LBN, GBR, GRC, CHE, NLD, BGD, KEN, CRI, ECU, CAN, POL, DNK, PRT, PER, NZL, URY, US, UKR, GLP, HUN, \\N, NOR, KWT, SVN, SLV, ITA, GTM, CHL, BEL, IRL, EST, ROU, JOR, EGY, NPL, JAM, ARE\n",
      "output\n",
      "\n",
      "{'output_type': 'stream', 'name': 'stdout', 'text': 'variable came from parameetrs\\nLTU, ESP, TZA, NIC, MAC, REU, JPN, FRA, PAK, TUR, PRY, TTO, HRV, NGA, MUS, CZE, SVK, HKG, BHR, ZAF, DEU, AUT, VEN, UGA, AUS, BRA, IND, COL, KOR, GHA, BRB, TWN, MEX, HND, LKA, SWE, QAT, BOL, SRB, CIV, GB, FIN, PAN, MAR, DOM, USA, SAU, SGP, ARG, LBN, GBR, GRC, CHE, NLD, BGD, KEN, CRI, ECU, CAN, POL, DNK, PRT, PER, NZL, URY, US, UKR, GLP, HUN, \\\\N, NOR, KWT, SVN, SLV, ITA, GTM, CHL, BEL, IRL, EST, ROU, JOR, EGY, NPL, JAM, ARE\\n'}\n",
      "variable came from parameetrs\n",
      "LTU, ESP, TZA, NIC, MAC, REU, JPN, FRA, PAK, TUR, PRY, TTO, HRV, NGA, MUS, CZE, SVK, HKG, BHR, ZAF, DEU, AUT, VEN, UGA, AUS, BRA, IND, COL, KOR, GHA, BRB, TWN, MEX, HND, LKA, SWE, QAT, BOL, SRB, CIV, GB, FIN, PAN, MAR, DOM, USA, SAU, SGP, ARG, LBN, GBR, GRC, CHE, NLD, BGD, KEN, CRI, ECU, CAN, POL, DNK, PRT, PER, NZL, URY, US, UKR, GLP, HUN, \\N, NOR, KWT, SVN, SLV, ITA, GTM, CHL, BEL, IRL, EST, ROU, JOR, EGY, NPL, JAM, ARE\n",
      "\n",
      "Query executed successfully.\n",
      "hey this is the cell number\n",
      "16\n",
      "hey this is the cell number\n",
      "17\n",
      "\n",
      "Cell 19:\n",
      "# # query_id = \"None\"\n",
      "# variable_name = \"text1\"\n",
      "# short_name = \"text1\"\n",
      "# column_name = \"None\"\n",
      "# exec_type = \"text\"\n",
      "hey this is the cell number\n",
      "18\n",
      "\n",
      "Cell 20:\n",
      "# text1 = \"launchpad\"\n",
      "hey this is the cell number\n",
      "19\n",
      "\n",
      "Cell 21:\n",
      "print(text1)\n",
      "launchpad\n",
      "output\n",
      "\n",
      "{'output_type': 'stream', 'name': 'stdout', 'text': 'launchpad\\n'}\n",
      "launchpad\n",
      "\n",
      "Query executed successfully.\n",
      "hey this is the cell number\n",
      "20\n",
      "\n",
      "Cell 22:\n",
      "# sjhcvj\n",
      "hey this is the cell number\n",
      "21\n",
      "\n",
      "Cell 23:\n",
      "\n",
      "hey this is the cell number\n",
      "22\n",
      "hey this is the cell number\n",
      "23\n",
      "\n",
      "Cell 25:\n",
      "# # query_id = \"None\"\n",
      "# variable_name = \"text2\"\n",
      "# short_name = \"text2\"\n",
      "# column_name = \"None\"\n",
      "# exec_type = \"text\"\n",
      "hey this is the cell number\n",
      "24\n",
      "\n",
      "Cell 26:\n",
      "# text2 = \"launchpad parameter\"\n",
      "hey this is the cell number\n",
      "25\n",
      "\n",
      "Cell 27:\n",
      "text2\n"
     ]
    },
    {
     "data": {
      "text/plain": [
       "'launchpad parameter'"
      ]
     },
     "execution_count": 85,
     "metadata": {},
     "output_type": "execute_result"
    },
    {
     "name": "stdout",
     "output_type": "stream",
     "text": [
      "output\n",
      "\n",
      "{'output_type': 'execute_result', 'metadata': {}, 'data': {'text/plain': \"'launchpad parameter'\"}, 'execution_count': 21}\n",
      "'launchpad parameter'\n",
      "Query executed successfully.\n",
      "hey this is the cell number\n",
      "26\n",
      "\n",
      "Cell 28:\n",
      "from datetime import datetime\n",
      "\n",
      "# Get today's date and current time\n",
      "now = datetime.now()\n",
      "\n",
      "print(now)\n",
      "\n",
      "2025-01-21 06:02:18.234854\n",
      "output\n",
      "\n",
      "{'output_type': 'stream', 'name': 'stdout', 'text': '2025-01-21 06:02:13.623847\\n'}\n",
      "2025-01-21 06:02:13.623847\n",
      "\n",
      "Query executed successfully.\n",
      "hey this is the cell number\n",
      "27\n",
      "\n",
      "Cell 29:\n",
      "\n"
     ]
    },
    {
     "name": "stdout",
     "output_type": "stream",
     "text": [
      "output\n",
      "\n",
      "{'output_type': 'execute_result', 'metadata': {}, 'data': {'text/plain': \"'launchpad parameter'\"}, 'execution_count': 21}\n",
      "'launchpad parameter'\n",
      "Query executed successfully.\n",
      "hey this is the cell number\n",
      "26\n",
      "\n",
      "Cell 28:\n",
      "from datetime import datetime\n",
      "\n",
      "# Get today's date and current time\n",
      "now = datetime.now()\n",
      "\n",
      "print(now)\n",
      "\n",
      "2025-01-20 05:35:55.403876\n",
      "output\n",
      "\n",
      "{'output_type': 'stream', 'name': 'stdout', 'text': '2025-01-20 05:35:50.750995\\n'}\n",
      "2025-01-20 05:35:50.750995\n",
      "\n",
      "Query executed successfully.\n",
      "hey this is the cell number\n",
      "27\n",
      "\n",
      "Cell 29:\n",
      "\n"
     ]
    }
   ],
   "source": [
    "import nbformat\n",
    "from nbclient import NotebookClient\n",
    "import traceback\n",
    "\n",
    "def execute_notebook_in_existing_kernel(notebook_path, kernel_client=None, parameters=None,kernel_name='python3'):\n",
    "    # Read the notebook\n",
    "    with open(notebook_path) as f:\n",
    "        nb = nbformat.read(f, as_version=4)\n",
    "\n",
    "    if parameters:\n",
    "        # Inject parameters into the first cell if provided\n",
    "        param_cell = nbformat.v4.new_code_cell(\n",
    "            source=\"\\n\".join([f\"{k} = {v!r}\" for k, v in parameters.items()])\n",
    "        )\n",
    "        nb.cells.insert(0, param_cell)\n",
    "        print(\"Injected parameters into the notebook.\")\n",
    "    result = None\n",
    "    cell_number = 0\n",
    "    # rawCellContent = None\n",
    "    try:\n",
    "        # Initialize the notebook client\n",
    "        print(kernel_name)\n",
    "        client = NotebookClient(nb, kernel_name=kernel_name, kernel_client=kernel_client)\n",
    "\n",
    "        # Ensure the kernel is ready before executing\n",
    "        if kernel_client:\n",
    "            kernel_client.wait_for_ready()\n",
    "            print(\"Kernel is ready.\")\n",
    "\n",
    "        # Execute the notebook\n",
    "        print(\"Starting notebook execution...\")\n",
    "        client.execute()\n",
    "        print(\"Notebook execution completed.\")\n",
    "\n",
    "        # Display outputs of each cell\n",
    "        print(\"\\nOutputs from executed notebook cells:\")\n",
    "        for i, cell in enumerate(nb.cells):\n",
    "            print(\"hey this is the cell number\")\n",
    "            print(cell_number)\n",
    "            cell_number = i\n",
    "            if cell.cell_type == 'code':\n",
    "                print(f\"\\nCell {i+1}:\")\n",
    "                print(cell.source)\n",
    "                rawCellContent = str(cell.source).replace('\\n','<br>')\n",
    "                result = ipython.run_cell(cell.source)\n",
    "                \n",
    "                # postDqrAutoLog(cellOutput, cell_index+1, notebook_name, reportConfig,requestConfig,postLog=postLog)\n",
    "                # if cellOutput!='':\n",
    "                #     if not cellOutput.success:\n",
    "                #         postDqrScriptFail(task_id, logger_id)\n",
    "                #         break\n",
    "\n",
    "                if 'outputs' in cell:\n",
    "                    for output in cell.outputs:\n",
    "                        print(\"output\\n\")\n",
    "                        print(output)\n",
    "                        if 'text' in output:\n",
    "                            print(output['text'])\n",
    "                            # postDqrAutoLog(output, i+1, notebook_name, reportConfig,requestConfig,postLog=postLog)\n",
    "                            postLog(f\"AutoLog Of Cell {i+1} : \"+output['text'],'DEBUG')\n",
    "                            # postDqrAutoLog_dev(output['text'], i+1, notebook_name, reportConfig,requestConfig,postLog=postLog)\n",
    "                        \n",
    "                        elif 'data' in output and 'text/plain' in output['data']:\n",
    "                            print(output['data']['text/plain'])\n",
    "                            postLog(f\"AutoLog Of Cell {i+1} : \"+output['data']['text/plain'],'DEBUG')\n",
    "                            # postDqrAutoLog_dev(output['data']['text/plain'], i+1, notebook_name, reportConfig,requestConfig,postLog=postLog)\n",
    "                        \n",
    "                        elif 'ename' in output and 'evalue' in output:  # For errors\n",
    "                            print(f\"Error: {output['ename']}: {output['evalue']}\")\n",
    "                            # postDqrAutoLog(result, i+1, notebook_name, reportConfig,requestConfig,postLog=postLog)\n",
    "                            postLog(f\"Error: {output['evalue']}\",'ERROR')\n",
    "                            rawCellContent = str(result.info.raw_cell).replace('\\n','<br>')\n",
    "                            Fail_mail(error = f'''The Script has error during execution <br>\n",
    "                            Cell Number: {i} of {notebook_name} <br>\n",
    "                                Error: {str(result.error_in_exec)} <br>\n",
    "                                Raw Code Of The Cell : <br>\n",
    "                                <p>{rawCellContent}</p>''', mailID= requestConfig['email_address'])\n",
    "                            # postDqrScriptFail(task_id, logger_id)\n",
    "                            \n",
    "                else:\n",
    "                    print(\"No output for this cell.\")\n",
    "\n",
    "    except Exception as e:\n",
    "        print(f\"An error occurred: {e}\")\n",
    "        traceback.print_exc()\n",
    "        rawCellContent = str(nb.cells[cell_number+1]).replace('\\n','<br>')\n",
    "        postLog(f\"\"\"The Script has error during execution <br>\n",
    "                            Cell Number: {cell_number+1} of {notebook_name} <br>\n",
    "                                Error: {str(e)} <br>\n",
    "                                Raw Code Of The Cell : <br>\n",
    "                                <p>{rawCellContent}</p>\"\"\", 'ERROR')\n",
    "        Fail_mail(error = f'''The Script has error during execution <br>\n",
    "                            Cell Number: {cell_number+1} of {notebook_name} <br>\n",
    "                                Error: {str(e)} <br>\n",
    "                                Raw Code Of The Cell : <br>\n",
    "                                <p>{rawCellContent}</p>''', mailID= requestConfig['email_address'])\n",
    "        # # Fail_mail(error = f'''The Script has error before execution <br>''', mailID= reportConfig['poc'])\n",
    "        # postDqrScriptFail(task_id, logger_id)\n",
    "        \n",
    "\n",
    "# Replace with the path to the notebook you want to execute\n",
    "\n",
    "kernel_client = None  # Replace with a valid kernel client instance if needed\n",
    "execute_notebook_in_existing_kernel(notebook_name, kernel_client, parameters=parameters_dict,kernel_name=kernel_name)\n"
   ]
  },
  {
   "cell_type": "code",
   "execution_count": 86,
   "id": "2910388b-f7c3-47a5-946c-1e69149a77de",
   "metadata": {
    "papermill": {
     "duration": null,
     "end_time": null,
     "exception": null,
     "start_time": null,
     "status": "pending"
    },
    "scrolled": true,
    "tags": []
   },
   "outputs": [],
   "source": [
    "# ## Running the code one cell at a time.\n",
    "# nb = nbformat.read(open(notebook_name), as_version=4)\n",
    "# for cell_index in range(len(nb['cells'])):\n",
    "#     # print(cell_index)\n",
    "#     cellOutput = executeNotebookCell(notebook_name,cell_index)\n",
    "#     postDqrAutoLog(cellOutput, cell_index+1, notebook_name, reportConfig,requestConfig,postLog=postLog)\n",
    "#     if cellOutput!='':\n",
    "#         if not cellOutput.success:\n",
    "#             postDqrScriptFail(task_id, logger_id)\n",
    "#             break"
   ]
  },
  {
   "cell_type": "code",
   "execution_count": 87,
   "id": "8af15244",
   "metadata": {
    "papermill": {
     "duration": null,
     "end_time": null,
     "exception": null,
     "start_time": null,
     "status": "pending"
    },
    "tags": []
   },
   "outputs": [
    {
     "data": {
      "text/plain": [
       "'../testing/'"
      ]
     },
     "execution_count": 87,
     "metadata": {},
     "output_type": "execute_result"
    }
   ],
   "source": [
    "reportConfig['folder']"
   ]
  },
  {
   "cell_type": "code",
   "execution_count": 88,
   "id": "5eaa0011",
   "metadata": {
    "papermill": {
     "duration": null,
     "end_time": null,
     "exception": null,
     "start_time": null,
     "status": "pending"
    },
    "tags": []
   },
   "outputs": [
    {
     "data": {
      "text/plain": [
       "{'CodeFile': 'testing.ipynb',\n",
       " 'folder': '../testing/',\n",
       " 'poc': ['kshiva19@ext.uber.com'],\n",
       " 'reporting': 'W1',\n",
       " 'isDocOutput': False,\n",
       " 'maxRunTimeInM': 60}"
      ]
     },
     "execution_count": 88,
     "metadata": {},
     "output_type": "execute_result"
    }
   ],
   "source": [
    "reportConfig"
   ]
  },
  {
   "cell_type": "code",
   "execution_count": 89,
   "id": "e7d0bfa4",
   "metadata": {
    "papermill": {
     "duration": null,
     "end_time": null,
     "exception": null,
     "start_time": null,
     "status": "pending"
    },
    "tags": []
   },
   "outputs": [],
   "source": [
    "if reportConfig['isDocOutput']:\n",
    "    print(dqr)"
   ]
  },
  {
   "cell_type": "code",
   "execution_count": 90,
   "id": "15295048-3a34-40ae-898e-783640e612f3",
   "metadata": {
    "papermill": {
     "duration": null,
     "end_time": null,
     "exception": null,
     "start_time": null,
     "status": "pending"
    },
    "tags": []
   },
   "outputs": [],
   "source": [
    "# copy the dqr to Launchpad\n",
    "if reportConfig['isDocOutput']:\n",
    "    shutil.copy(dqr, launchPadFilePath+'/dqr')"
   ]
  },
  {
   "cell_type": "code",
   "execution_count": 91,
   "id": "8f1f5ff9",
   "metadata": {
    "papermill": {
     "duration": null,
     "end_time": null,
     "exception": null,
     "start_time": null,
     "status": "pending"
    },
    "tags": []
   },
   "outputs": [],
   "source": [
    "# changing back the working directories to Launchpad \n",
    "os.chdir(launchPadFilePath)\n",
    "if reportConfig['isDocOutput']:\n",
    "    print(dqr)  \n",
    "# postLog(\"chdir : \"+str(((reportConfig['folder'].count('/')-1)*'../')+'Launch pad/'))\n",
    "# postLog(\"getcwd : \"+str(os.getcwd()))"
   ]
  },
  {
   "cell_type": "code",
   "execution_count": 92,
   "id": "9e4eeee7",
   "metadata": {
    "papermill": {
     "duration": null,
     "end_time": null,
     "exception": null,
     "start_time": null,
     "status": "pending"
    },
    "tags": []
   },
   "outputs": [],
   "source": [
    "# Uploading the report to the desire google drive directory\n",
    "# uploadFilePath = reportConfig['folder']+dqr\n",
    "if reportConfig['isDocOutput']:\n",
    "    try:\n",
    "        fileName = dqr.split('/')[-1]\n",
    "        uploadFilePath = 'dqr/'+fileName\n",
    "        fileSize = os.path.getsize(uploadFilePath)\n",
    "        if fileSize > 5242880:\n",
    "            convert = False \n",
    "        else:\n",
    "            convert = True\n",
    "\n",
    "        postLog(\"uploadFile  : \"+str(fileName))\n",
    "\n",
    "\n",
    "        folderId = reportConfig['drive']\n",
    "\n",
    "        postLog(\"fileName  : \"+str(fileName))\n",
    "        postLog(\"folderId  : \"+str(folderId))\n",
    "\n",
    "\n",
    "        status, filesID, link = uploadFileToDrive(uploadFilePath=uploadFilePath,fileName=fileName,folderId=folderId,convert=convert, drive=driveAccess)\n",
    "\n",
    "        status, filesID, link\n",
    "\n",
    "        postLog(\"status  : \"+str(status))\n",
    "        postLog(\"filesID  : \"+str(filesID))\n",
    "        postLog(\"link  : \"+str(link))\n",
    "    except Exception as e:\n",
    "        Fail_mail(error = f'''Error: {e}<br>\n",
    "                            Task ID: {task_id}<br>\n",
    "                            ''', mailID= 'mnizam1@ext.uber.com')\n",
    "        postDqrScriptFail(task_id, logger_id)\n",
    "        \n",
    "else:\n",
    "    link=None\n",
    "    "
   ]
  },
  {
   "cell_type": "code",
   "execution_count": 93,
   "id": "c385a857-d95e-4184-a8be-6cb0e1aedb20",
   "metadata": {},
   "outputs": [
    {
     "name": "stdout",
     "output_type": "stream",
     "text": [
      "None\n"
     ]
    }
   ],
   "source": [
    "print(link)"
   ]
  },
  {
   "cell_type": "code",
   "execution_count": 94,
   "id": "20d3aadf-54f7-4936-89d5-a76f00a293ea",
   "metadata": {
    "papermill": {
     "duration": null,
     "end_time": null,
     "exception": null,
     "start_time": null,
     "status": "pending"
    },
    "tags": []
   },
   "outputs": [
    {
     "data": {
      "text/plain": [
       "{'task_id': 956,\n",
       " 'created_at': Timestamp('2025-01-20 11:12:01'),\n",
       " 'dqr_name': 'Testing',\n",
       " 'run_on': 'kshiva19',\n",
       " 'run_condition': 'Once',\n",
       " 'run_status': '',\n",
       " 'updated_at': Timestamp('2025-01-21 11:32:04'),\n",
       " 'dqr_link': 'None',\n",
       " 'email_address': 'kshiva19@ext.uber.com',\n",
       " 'query_run_condition': None,\n",
       " 'run_id': None,\n",
       " 'dashboard': 'test',\n",
       " 'parameters': {'text1': 'launchpad',\n",
       "  'text2': 'launchpad parameter',\n",
       "  'c_code': 'LTU, ESP, TZA, NIC, MAC, REU, JPN, FRA, PAK, TUR, PRY, TTO, HRV, NGA, MUS, CZE, SVK, HKG, BHR, ZAF, DEU, AUT, VEN, UGA, AUS, BRA, IND, COL, KOR, GHA, BRB, TWN, MEX, HND, LKA, SWE, QAT, BOL, SRB, CIV, GB, FIN, PAN, MAR, DOM, USA, SAU, SGP, ARG, LBN, GBR, GRC, CHE, NLD, BGD, KEN, CRI, ECU, CAN, POL, DNK, PRT, PER, NZL, URY, US, UKR, GLP, HUN, \\\\N, NOR, KWT, SVN, SLV, ITA, GTM, CHL, BEL, IRL, EST, ROU, JOR, EGY, NPL, JAM, ARE',\n",
       "  'c_name': \"OrderUp, Lyft Scooters, Rappi, McDonald's, Rakuten Delivery, ASAP, delivery.com, inDrive, WaitrApp, Ritual, 5cd16a998fa0e3b107bf919b453e4d8e7c2a8865, Walmart, Fasten, Walgreens, Slice, JUMP, OrderIn, Glovo, Order Up, Good Eggs, goPuff, LevelUp, Peapod, My Taxi, Go-Jek, Gorillas, Uber Pass, Domino's Pizza, Juno, Heb, Wawa, iFood, Menulog, DiDi Food, Delivery Hero, Deliveroo, Uber, Starbucks, Ola, Seamless, Bird, Wolt, Lime, Menu, CornerShop, Lyft, Papa John's, Chipotle, ezCater, Zomato, Just Eat, Fresh Direct, Yango, eBay, GrubHub, Instacart, Yandex, Postmates, Bite Squad, KFC, Amazon, kapten, Instacart Canada, Marley Spoon, Beat, Cabify, Bring Me That, Pizza Hut, Drizly, DemaeCan, Gett, CVS, Caviar, Swiggy, Amazon Restaurants, Favor, Kroger, HelloFresh, DoorDash, Skip the Dishes, Chow Now, Uber Eats, Via, Grab, Addison Lee, Foodora, Subway, Dunkin' Donuts, Foodpanda, Eat24, Rite Aid, DiDi, EatStreet, 7-Eleven, Taxify, Costco, Free Now, Yelp, Ride Austin, 99, Waymo, Bolt, Mr. Delivery\"}}"
      ]
     },
     "execution_count": 94,
     "metadata": {},
     "output_type": "execute_result"
    }
   ],
   "source": [
    "requestConfig"
   ]
  },
  {
   "cell_type": "code",
   "execution_count": 95,
   "id": "8c0b1190",
   "metadata": {
    "papermill": {
     "duration": null,
     "end_time": null,
     "exception": null,
     "start_time": null,
     "status": "pending"
    },
    "tags": []
   },
   "outputs": [
    {
     "name": "stdout",
     "output_type": "stream",
     "text": [
      "Query executed successfully.\n",
      "Query executed successfully.\n",
      "Query executed successfully.\n",
      "Query executed successfully.\n"
     ]
    },
    {
     "data": {
      "text/plain": [
       "True"
      ]
     },
     "execution_count": 95,
     "metadata": {},
     "output_type": "execute_result"
    }
   ],
   "source": [
    "# updating the completed sheet in the Launchpad sheet\n",
    "postLog(\"updating Completed DB\")\n",
    "status = postDqrCompleted(requestConfig,link, logger_id)\n",
    "postLog(\"status  : \"+str(status))"
   ]
  },
  {
   "cell_type": "code",
   "execution_count": 96,
   "id": "cb7bac53-14b3-4209-9134-0cd5ac20fad3",
   "metadata": {
    "papermill": {
     "duration": null,
     "end_time": null,
     "exception": null,
     "start_time": null,
     "status": "pending"
    },
    "tags": []
   },
   "outputs": [],
   "source": [
    "if reportConfig['isDocOutput']:\n",
    "    print(uploadFilePath)"
   ]
  },
  {
   "cell_type": "code",
   "execution_count": 97,
   "id": "97a4396d-78e5-4df4-8e51-75ae6c938963",
   "metadata": {},
   "outputs": [
    {
     "data": {
      "text/plain": [
       "{'task_id': 956,\n",
       " 'created_at': Timestamp('2025-01-20 11:12:01'),\n",
       " 'dqr_name': 'Testing',\n",
       " 'run_on': 'kshiva19',\n",
       " 'run_condition': 'Once',\n",
       " 'run_status': '',\n",
       " 'updated_at': Timestamp('2025-01-21 11:32:04'),\n",
       " 'dqr_link': 'None',\n",
       " 'email_address': 'kshiva19@ext.uber.com',\n",
       " 'query_run_condition': None,\n",
       " 'run_id': None,\n",
       " 'dashboard': 'test',\n",
       " 'parameters': {'text1': 'launchpad',\n",
       "  'text2': 'launchpad parameter',\n",
       "  'c_code': 'LTU, ESP, TZA, NIC, MAC, REU, JPN, FRA, PAK, TUR, PRY, TTO, HRV, NGA, MUS, CZE, SVK, HKG, BHR, ZAF, DEU, AUT, VEN, UGA, AUS, BRA, IND, COL, KOR, GHA, BRB, TWN, MEX, HND, LKA, SWE, QAT, BOL, SRB, CIV, GB, FIN, PAN, MAR, DOM, USA, SAU, SGP, ARG, LBN, GBR, GRC, CHE, NLD, BGD, KEN, CRI, ECU, CAN, POL, DNK, PRT, PER, NZL, URY, US, UKR, GLP, HUN, \\\\N, NOR, KWT, SVN, SLV, ITA, GTM, CHL, BEL, IRL, EST, ROU, JOR, EGY, NPL, JAM, ARE',\n",
       "  'c_name': \"OrderUp, Lyft Scooters, Rappi, McDonald's, Rakuten Delivery, ASAP, delivery.com, inDrive, WaitrApp, Ritual, 5cd16a998fa0e3b107bf919b453e4d8e7c2a8865, Walmart, Fasten, Walgreens, Slice, JUMP, OrderIn, Glovo, Order Up, Good Eggs, goPuff, LevelUp, Peapod, My Taxi, Go-Jek, Gorillas, Uber Pass, Domino's Pizza, Juno, Heb, Wawa, iFood, Menulog, DiDi Food, Delivery Hero, Deliveroo, Uber, Starbucks, Ola, Seamless, Bird, Wolt, Lime, Menu, CornerShop, Lyft, Papa John's, Chipotle, ezCater, Zomato, Just Eat, Fresh Direct, Yango, eBay, GrubHub, Instacart, Yandex, Postmates, Bite Squad, KFC, Amazon, kapten, Instacart Canada, Marley Spoon, Beat, Cabify, Bring Me That, Pizza Hut, Drizly, DemaeCan, Gett, CVS, Caviar, Swiggy, Amazon Restaurants, Favor, Kroger, HelloFresh, DoorDash, Skip the Dishes, Chow Now, Uber Eats, Via, Grab, Addison Lee, Foodora, Subway, Dunkin' Donuts, Foodpanda, Eat24, Rite Aid, DiDi, EatStreet, 7-Eleven, Taxify, Costco, Free Now, Yelp, Ride Austin, 99, Waymo, Bolt, Mr. Delivery\"}}"
      ]
     },
     "execution_count": 97,
     "metadata": {},
     "output_type": "execute_result"
    }
   ],
   "source": [
    "requestConfig"
   ]
  },
  {
   "cell_type": "code",
   "execution_count": 98,
   "id": "91a86cd5",
   "metadata": {
    "papermill": {
     "duration": null,
     "end_time": null,
     "exception": null,
     "start_time": null,
     "status": "pending"
    },
    "tags": []
   },
   "outputs": [
    {
     "name": "stdout",
     "output_type": "stream",
     "text": [
      "Query executed successfully.\n",
      "Query executed successfully.\n"
     ]
    },
    {
     "data": {
      "text/plain": [
       "True"
      ]
     },
     "execution_count": 98,
     "metadata": {},
     "output_type": "execute_result"
    }
   ],
   "source": [
    "### sending the DQR to the required stakeholders\n",
    "postLog(\"sending Mail\")\n",
    "if reportConfig['isDocOutput']:\n",
    "    status = sendDqrMail(uploadFilePath, requestConfig, reportConfig, link,runConfig)  \n",
    "else:\n",
    "    status = sendDqrMail_completion(requestConfig, reportConfig,runConfig) \n",
    "#     status = completed_mail(user_email)\n",
    "    \n",
    "status_json = json.dumps(status)\n",
    "postLog(\"status  : \"+str(status_json))"
   ]
  },
  {
   "cell_type": "code",
   "execution_count": 99,
   "id": "e52a2be6",
   "metadata": {
    "papermill": {
     "duration": null,
     "end_time": null,
     "exception": null,
     "start_time": null,
     "status": "pending"
    },
    "tags": []
   },
   "outputs": [
    {
     "name": "stdout",
     "output_type": "stream",
     "text": [
      "Query executed successfully.\n"
     ]
    },
    {
     "data": {
      "text/plain": [
       "True"
      ]
     },
     "execution_count": 99,
     "metadata": {},
     "output_type": "execute_result"
    }
   ],
   "source": [
    "postLog(\"Completed Successfully\")\n",
    "# deleteSheetRows('DQR Requests Form',rowNumber)\n",
    "# remove the dqr file "
   ]
  },
  {
   "cell_type": "code",
   "execution_count": 100,
   "id": "b9fb2ced-8095-425f-87c3-ac4639ebd286",
   "metadata": {
    "papermill": {
     "duration": null,
     "end_time": null,
     "exception": null,
     "start_time": null,
     "status": "pending"
    },
    "tags": []
   },
   "outputs": [],
   "source": [
    "comment= f'''Automated update : by {username} for then report of {reportName} and Task id {task_id}'''"
   ]
  },
  {
   "cell_type": "code",
   "execution_count": 101,
   "id": "6134b9d0-013d-48a4-85b6-ee1a60dc515b",
   "metadata": {},
   "outputs": [
    {
     "name": "stdout",
     "output_type": "stream",
     "text": [
      "Adding 7 files smaller than 100MB.\n",
      "Added batch 1: 7 files.\n",
      "Executing: git commit -m \"Automated update : by kshiva19 for then report of Testing and Task id 956\"\n",
      "Output: [main 933e91d] Automated update : by kshiva19 for then report of Testing and Task id 956\n",
      " 7 files changed, 768 insertions(+), 262 deletions(-)\n",
      " create mode 100644 LaunchPad/.ipynb_checkpoints/ConfigAutoGitDemon-checkpoint.ipynb\n",
      " create mode 100644 LaunchPad/.ipynb_checkpoints/autoGit Testing-checkpoint.ipynb\n",
      " create mode 100644 LaunchPad/.ipynb_checkpoints/settings-checkpoint.yaml\n",
      " create mode 100644 LaunchPad/encrypted_git_token.txt\n",
      " create mode 100644 LaunchPad/secret.key\n",
      "\n",
      "Output from 'git commit -m \"Automated update : by kshiva19 for then report of Testing and Task id 956\"': [main 933e91d] Automated update : by kshiva19 for then report of Testing and Task id 956\n",
      " 7 files changed, 768 insertions(+), 262 deletions(-)\n",
      " create mode 100644 LaunchPad/.ipynb_checkpoints/ConfigAutoGitDemon-checkpoint.ipynb\n",
      " create mode 100644 LaunchPad/.ipynb_checkpoints/autoGit Testing-checkpoint.ipynb\n",
      " create mode 100644 LaunchPad/.ipynb_checkpoints/settings-checkpoint.yaml\n",
      " create mode 100644 LaunchPad/encrypted_git_token.txt\n",
      " create mode 100644 LaunchPad/secret.key\n",
      "Executing: git pull --strategy=ours origin main\n",
      "Output: Already up to date.\n",
      "\n",
      "Non-error message from 'git pull --strategy=ours origin main': Already up to date.\n",
      "Warning: Permanently added the RSA host key for IP address '140.82.114.3' to the list of known hosts.\n",
      "From github.com:NiharikaPenmetsa/testlpdec\n",
      " * branch            main       -> FETCH_HEAD\n",
      "Executing: git push --force-with-lease origin main\n",
      "Non-error message from 'git push --force-with-lease origin main': To github.com:NiharikaPenmetsa/testlpdec.git\n",
      "   f9655a8..933e91d  main -> main\n"
     ]
    }
   ],
   "source": [
    "autoGit('push', comment=comment)"
   ]
  },
  {
   "cell_type": "code",
   "execution_count": 102,
   "id": "48b5c130-8d09-43c7-9481-e69f0706bc33",
   "metadata": {
    "papermill": {
     "duration": null,
     "end_time": null,
     "exception": null,
     "start_time": null,
     "status": "pending"
    },
    "tags": []
   },
   "outputs": [],
   "source": [
    "if reportConfig['isDocOutput']:\n",
    "    os.remove(uploadFilePath)"
   ]
  },
  {
   "cell_type": "code",
   "execution_count": null,
   "id": "63747be6-8816-41a6-a3aa-dafdf35e9c28",
   "metadata": {},
   "outputs": [],
   "source": []
  },
  {
   "cell_type": "code",
   "execution_count": 53,
   "id": "dabb0464-f190-4e58-8e2d-e39777c5dd8b",
   "metadata": {},
   "outputs": [],
   "source": [
    "# parameters = {'run_id':'value','get':'value'}\n",
    "# for key in parameters:\n",
    "#     exec(f'{key}=parameters[\"{key}\"]')"
   ]
  },
  {
   "cell_type": "code",
   "execution_count": null,
   "id": "e4676b90-4d86-4366-91b6-2514cafee5db",
   "metadata": {},
   "outputs": [],
   "source": []
  },
  {
   "cell_type": "code",
   "execution_count": null,
   "id": "ec8bc982-dd89-42e2-9f1b-c120a7816ea6",
   "metadata": {},
   "outputs": [],
   "source": []
  },
  {
   "cell_type": "code",
   "execution_count": null,
   "id": "92c4e622-6d8a-4718-a31e-ec316830653d",
   "metadata": {},
   "outputs": [],
   "source": []
  },
  {
   "cell_type": "code",
   "execution_count": null,
   "id": "f2712033-2561-4919-90c1-4552efc50eb9",
   "metadata": {},
   "outputs": [],
   "source": []
  },
  {
   "cell_type": "code",
   "execution_count": null,
   "id": "988e8c14-9543-4f29-9b6e-97cb80160010",
   "metadata": {},
   "outputs": [],
   "source": []
  }
 ],
 "metadata": {
  "kernelspec": {
   "display_name": "01. Python 3.10 (General DS)",
   "language": "python",
   "name": "python310"
  },
  "language_info": {
   "codemirror_mode": {
    "name": "ipython",
    "version": 3
   },
   "file_extension": ".py",
   "mimetype": "text/x-python",
   "name": "python",
   "nbconvert_exporter": "python",
   "pygments_lexer": "ipython3",
   "version": "3.10.8"
  },
  "papermill": {
   "default_parameters": {},
   "duration": 8.241591,
   "end_time": "2024-07-24T09:23:15.849929",
   "environment_variables": {},
   "exception": true,
   "input_path": "DqrDemon.ipynb",
   "output_path": "DqrDemon.ipynb",
   "parameters": {},
   "start_time": "2024-07-24T09:23:07.608338",
   "version": "2.6.0"
  }
 },
 "nbformat": 4,
 "nbformat_minor": 5
}
