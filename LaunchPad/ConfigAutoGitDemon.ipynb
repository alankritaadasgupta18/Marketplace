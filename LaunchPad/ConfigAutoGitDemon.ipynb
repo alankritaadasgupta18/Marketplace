{
 "cells": [
  {
   "cell_type": "code",
   "execution_count": 1,
   "id": "ff402e13-9017-4de8-b822-dbe31015f9de",
   "metadata": {
    "scrolled": true
   },
   "outputs": [],
   "source": [
    "from cryptography.fernet import Fernet\n",
    "import subprocess\n",
    "import os\n",
    "import requests\n",
    "\n",
    "import getpass\n",
    "username = getpass.getuser()"
   ]
  },
  {
   "cell_type": "code",
   "execution_count": 2,
   "id": "7cff4290-e246-44b2-9d56-e49b66281472",
   "metadata": {},
   "outputs": [],
   "source": [
    "def generate_key():\n",
    "    # Generate a key\n",
    "    key = Fernet.generate_key()\n",
    "    # Save the key to a file\n",
    "    with open(\"secret.key\", \"wb\") as key_file:\n",
    "        key_file.write(key)\n",
    "\n",
    "def load_key():\n",
    "    # Load the key from the current directory\n",
    "    return open(\"secret.key\", \"rb\").read()\n",
    "\n",
    "def encrypt_token(token):\n",
    "    key = load_key()\n",
    "    f = Fernet(key)\n",
    "    encrypted_token = f.encrypt(token.encode())\n",
    "    with open(\"encrypted_git_token.txt\", \"wb\") as encrypted_file:\n",
    "        encrypted_file.write(encrypted_token)"
   ]
  },
  {
   "cell_type": "code",
   "execution_count": 3,
   "id": "c5ffd9ce-860a-4466-8bb1-a6e4a82c948d",
   "metadata": {},
   "outputs": [],
   "source": [
    "# token = ''\n",
    "# generate_key()\n",
    "# encrypt_token(token)"
   ]
  },
  {
   "cell_type": "code",
   "execution_count": 4,
   "id": "ffc7528a-c541-4d7b-9158-d5df35edc4d9",
   "metadata": {},
   "outputs": [],
   "source": [
    "from cryptography.fernet import Fernet\n",
    "import os\n",
    "\n",
    "def load_key():\n",
    "    # Load the key from the current directory\n",
    "    return open(\"secret.key\", \"rb\").read()\n",
    "\n",
    "def decrypt_token():\n",
    "    key = load_key()\n",
    "    f = Fernet(key)\n",
    "    with open(\"encrypted_git_token.txt\", \"rb\") as encrypted_file:\n",
    "        encrypted_token = encrypted_file.read()\n",
    "    return f.decrypt(encrypted_token).decode()\n",
    "\n",
    "# Example usage\n",
    "token = decrypt_token()\n",
    "if not token:\n",
    "    raise ValueError(\"Failed to decrypt the token\")\n"
   ]
  },
  {
   "cell_type": "code",
   "execution_count": 5,
   "id": "f7eb5a70-262d-4cf2-9cd6-857d3d732873",
   "metadata": {},
   "outputs": [],
   "source": [
    "def generate_ssh_key(email, key_path):\n",
    "    os.makedirs(os.path.dirname(key_path), exist_ok=True)\n",
    "    subprocess.run(['ssh-keygen', '-t', 'rsa', '-b', '4096', '-C', email, '-f', key_path, '-N', ''])\n",
    "\n",
    "def read_public_key(key_path):\n",
    "    with open(f\"{key_path}.pub\", 'r') as file:\n",
    "        public_key = file.read()\n",
    "    return public_key\n",
    "\n",
    "def add_ssh_key_to_github(token, title, key):\n",
    "    url = \"https://api.github.com/user/keys\"\n",
    "    headers = {\n",
    "        \"Authorization\": f\"token {token}\",\n",
    "        \"Accept\": \"application/vnd.github.v3+json\"\n",
    "    }\n",
    "    data = {\n",
    "        \"title\": title,\n",
    "        \"key\": key\n",
    "    }\n",
    "    response = requests.post(url, headers=headers, json=data)\n",
    "    return response.status_code, response.json()\n",
    "\n",
    "# # Example usage\n",
    "# email = 'your_email@example.com'\n",
    "# key_path = os.path.expanduser('~/.ssh/id_rsa')\n",
    "# token = \"your_github_token\"\n",
    "# title = \"My SSH Key\"\n",
    "\n",
    "# generate_ssh_key(email, key_path)\n",
    "# public_key = read_public_key(key_path)\n",
    "# status_code, response = add_ssh_key_to_github(token, title, public_key)\n",
    "\n",
    "# print(status_code, response)\n"
   ]
  },
  {
   "cell_type": "code",
   "execution_count": 6,
   "id": "4c282457-64c2-46ec-b39b-9e6224a91cd2",
   "metadata": {},
   "outputs": [],
   "source": [
    "# Example usage\n",
    "email = ''\n",
    "try:\n",
    "    email = os.getenv('USER_EMAIL_ID')\n",
    "except:\n",
    "    email = username+\"@ext.uber.com\"\n",
    "key_path = os.path.expanduser('~/.ssh/id_rsa')\n",
    "token = decrypt_token()\n",
    "title = \"LP SSH Key\""
   ]
  },
  {
   "cell_type": "code",
   "execution_count": 7,
   "id": "6f51c3da-1e6d-45de-be40-16f7b4862444",
   "metadata": {},
   "outputs": [
    {
     "name": "stdout",
     "output_type": "stream",
     "text": [
      "Generating public/private rsa key pair.\n",
      "Your identification has been saved in /home/mnizam1/.ssh/id_rsa.\n",
      "Your public key has been saved in /home/mnizam1/.ssh/id_rsa.pub.\n",
      "The key fingerprint is:\n",
      "SHA256:k+j8/a3tZ88nSl/QI0mCEhF8pD6rhn9w8nHQVvu8z10 mnizam1@ext.uber.com\n",
      "The key's randomart image is:\n",
      "+---[RSA 4096]----+\n",
      "|      .++.       |\n",
      "|       .o...     |\n",
      "|       oo.....   |\n",
      "|      .o.+ .o .. |\n",
      "|      .oS   oo...|\n",
      "|     = ooo   o...|\n",
      "|    . B.o   . . E|\n",
      "|   . ..+ . . =oo*|\n",
      "|    oo. . ..++***|\n",
      "+----[SHA256]-----+\n"
     ]
    }
   ],
   "source": [
    "generate_ssh_key(email, key_path)"
   ]
  },
  {
   "cell_type": "code",
   "execution_count": 8,
   "id": "c5a710ea-420d-4ed7-aaa2-f61a276b80f8",
   "metadata": {},
   "outputs": [
    {
     "data": {
      "text/plain": [
       "'ssh-rsa AAAAB3NzaC1yc2EAAAADAQABAAACAQDUfH40miksNzrioRUT2jTz4DVaMV4Xbe0XbA+eXCH8ASmnptyh8dPyRkUCn9xSjQalpSzD5eczyM5mfcASMJ5EjpaIVlCmCPL/2D14hz33sOhH1rhaQajNNSIVnS+bprFDz/qybzxZK+15LbFijmJn8nw9+R30HoVrDc8bHaGQvdQ7P0sgswfPFkWersSudzjJwO1ebGg2qHiEeXbKyAgjkDnbJMgFEAJG6495cGweu708KkVVqrzQ+RkQzbA28hvBiBnSFCY/8X5btTQVUiRj5+etB16YH0BpI5nDQEpP0eqlMdlRURsvkDjgSXkw+rxwzZXpoEjwCC44Hiujah6CvREFWXDB8MMrA6zjii1f8WYprFy+U8TaVfra16KVvM3GEcIPhxVuwxBzj9l9FI2p4uAw6vC4j8iNi23a/i/wHk/6DWbU+5RrP7I5MEUULyHAnOYGqNTZAH5JGyUoOF5UCHQV2hnyieYPDQLZ1E5V1eq+XZ3Rh/LAR6qvT/O/uFPcOJwVVtb5gaa1DP9qtix+AC6VmfJ56GqhO/odpoUVRaGc0vBwnk0Lyd9yszQzyhxtUW1HECD0T9R8ltYQFXGMawaDp/zVWz8KHodw+Ap4hy6BvVhRuaSB90mO3IRlnBRxQ7rkfzk0B2ZS2Sd3h4pBrC5XNzbPjn6ZA6ZN2kbvxw== mnizam1@ext.uber.com\\n'"
      ]
     },
     "execution_count": 8,
     "metadata": {},
     "output_type": "execute_result"
    }
   ],
   "source": [
    "public_key = read_public_key(key_path)\n",
    "public_key"
   ]
  },
  {
   "cell_type": "code",
   "execution_count": 9,
   "id": "e018ff0b-cd81-44b2-946b-a7c88bfb51fe",
   "metadata": {},
   "outputs": [
    {
     "data": {
      "text/plain": [
       "(201,\n",
       " {'id': 111489645,\n",
       "  'key': 'ssh-rsa AAAAB3NzaC1yc2EAAAADAQABAAACAQDUfH40miksNzrioRUT2jTz4DVaMV4Xbe0XbA+eXCH8ASmnptyh8dPyRkUCn9xSjQalpSzD5eczyM5mfcASMJ5EjpaIVlCmCPL/2D14hz33sOhH1rhaQajNNSIVnS+bprFDz/qybzxZK+15LbFijmJn8nw9+R30HoVrDc8bHaGQvdQ7P0sgswfPFkWersSudzjJwO1ebGg2qHiEeXbKyAgjkDnbJMgFEAJG6495cGweu708KkVVqrzQ+RkQzbA28hvBiBnSFCY/8X5btTQVUiRj5+etB16YH0BpI5nDQEpP0eqlMdlRURsvkDjgSXkw+rxwzZXpoEjwCC44Hiujah6CvREFWXDB8MMrA6zjii1f8WYprFy+U8TaVfra16KVvM3GEcIPhxVuwxBzj9l9FI2p4uAw6vC4j8iNi23a/i/wHk/6DWbU+5RrP7I5MEUULyHAnOYGqNTZAH5JGyUoOF5UCHQV2hnyieYPDQLZ1E5V1eq+XZ3Rh/LAR6qvT/O/uFPcOJwVVtb5gaa1DP9qtix+AC6VmfJ56GqhO/odpoUVRaGc0vBwnk0Lyd9yszQzyhxtUW1HECD0T9R8ltYQFXGMawaDp/zVWz8KHodw+Ap4hy6BvVhRuaSB90mO3IRlnBRxQ7rkfzk0B2ZS2Sd3h4pBrC5XNzbPjn6ZA6ZN2kbvxw==',\n",
       "  'url': 'https://api.github.com/user/keys/111489645',\n",
       "  'title': 'LP SSH Key',\n",
       "  'verified': True,\n",
       "  'created_at': '2024-11-08T01:52:30Z',\n",
       "  'read_only': False})"
      ]
     },
     "execution_count": 9,
     "metadata": {},
     "output_type": "execute_result"
    }
   ],
   "source": [
    "status_code, response = add_ssh_key_to_github(token, title, public_key)\n",
    "status_code, response"
   ]
  },
  {
   "cell_type": "code",
   "execution_count": null,
   "id": "10e180c8-c2d3-40d9-9c46-c071b7719b67",
   "metadata": {},
   "outputs": [],
   "source": []
  },
  {
   "cell_type": "code",
   "execution_count": null,
   "id": "85a026d6-f8fd-40a7-a90c-7293f0702994",
   "metadata": {},
   "outputs": [],
   "source": []
  },
  {
   "cell_type": "code",
   "execution_count": null,
   "id": "b11991f5-7cf8-4186-bef4-55531ace5ec4",
   "metadata": {},
   "outputs": [],
   "source": []
  },
  {
   "cell_type": "code",
   "execution_count": null,
   "id": "fd4befb5-1405-4157-b2ea-2c142ec3490a",
   "metadata": {},
   "outputs": [],
   "source": []
  },
  {
   "cell_type": "code",
   "execution_count": null,
   "id": "90e8d93d-0370-4c85-b470-fdf9c3d55db6",
   "metadata": {},
   "outputs": [],
   "source": []
  },
  {
   "cell_type": "code",
   "execution_count": null,
   "id": "da588efc-898d-4bb4-9869-e7158d08109a",
   "metadata": {},
   "outputs": [],
   "source": []
  }
 ],
 "metadata": {
  "kernelspec": {
   "display_name": "01. Python 3.10 (General DS)",
   "language": "python",
   "name": "python310"
  },
  "language_info": {
   "codemirror_mode": {
    "name": "ipython",
    "version": 3
   },
   "file_extension": ".py",
   "mimetype": "text/x-python",
   "name": "python",
   "nbconvert_exporter": "python",
   "pygments_lexer": "ipython3",
   "version": "3.10.8"
  }
 },
 "nbformat": 4,
 "nbformat_minor": 5
}
