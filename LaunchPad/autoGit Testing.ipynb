{
 "cells": [
  {
   "cell_type": "code",
   "execution_count": 6,
   "id": "dc19b0fe-b313-4cd1-8f67-8e2bb998ecb9",
   "metadata": {},
   "outputs": [],
   "source": [
    "import pypostmaster\n",
    "import getpass\n",
    "from queryrunner_client import *\n",
    "from queryrunner_client import QueryRunnerException\n",
    "import numpy as np\n",
    "import pandas as pd\n",
    "from pandas.io import gbq\n",
    "import pytz\n",
    "from datetime import datetime, timedelta, tzinfo\n",
    "import time\n",
    "import warnings\n",
    "import matplotlib.pyplot as plt\n",
    "import seaborn as sns\n",
    "from dateutil.relativedelta import relativedelta\n",
    "import docx\n",
    "from docx import Document\n",
    "from docxtpl import DocxTemplate, InlineImage\n",
    "from docx.shared import Inches\n",
    "import jinja2\n",
    "import math\n",
    "import yaml\n",
    "import os\n",
    "import signal\n",
    "\n",
    "import gspread\n",
    "from oauth2client.service_account import ServiceAccountCredentials\n",
    "from pydrive.auth import GoogleAuth\n",
    "from pydrive.drive import GoogleDrive\n",
    "import uuid\n",
    "import json\n",
    "from google.cloud import bigquery\n",
    "import base64\n",
    "import nbformat\n",
    "from IPython import get_ipython\n",
    "import shutil\n",
    "import subprocess\n",
    "import random\n",
    "from croniter import croniter"
   ]
  },
  {
   "cell_type": "code",
   "execution_count": 7,
   "id": "1e26fc5f-86c9-4d97-8363-f3ca6fd48f79",
   "metadata": {},
   "outputs": [],
   "source": [
    "import os\n",
    "from LP_helper import autoGit"
   ]
  },
  {
   "cell_type": "code",
   "execution_count": 8,
   "id": "12ca748d-b845-40b2-a89b-b160ada2ab5a",
   "metadata": {},
   "outputs": [],
   "source": [
    "comment = 'Manual push'"
   ]
  },
  {
   "cell_type": "code",
   "execution_count": 9,
   "id": "13dd35c4-1ecb-4ae0-ab2e-4ec2be4c8304",
   "metadata": {},
   "outputs": [
    {
     "name": "stdout",
     "output_type": "stream",
     "text": [
      "Could not access file /nfs/nfs_dsw_phx2_prod/mnizam1/LaunchPad_TaskHandler/Launch pad/dqr/[2024-11-11] Frince Rides DQ Checks.docx: [Errno 2] No such file or directory: '/nfs/nfs_dsw_phx2_prod/mnizam1/LaunchPad_TaskHandler/Launch pad/dqr/[2024-11-11] Frince Rides DQ Checks.docx'\n",
      "Adding 7 files smaller than 100MB.\n",
      "Added batch 1: 7 files.\n",
      "Executing: git commit -m \"Manual push\"\n",
      "Output: [main 9edc0924] Manual push\n",
      " 7 files changed, 440 insertions(+), 609 deletions(-)\n",
      "\n",
      "Output from 'git commit -m \"Manual push\"': [main 9edc0924] Manual push\n",
      " 7 files changed, 440 insertions(+), 609 deletions(-)\n",
      "Executing: git pull --strategy=ours origin main\n",
      "Output: Already up to date.\n",
      "\n",
      "Non-error message from 'git pull --strategy=ours origin main': Already up to date.\n",
      "From github.com:mnizam1/LaunchPad_TaskHandler\n",
      " * branch              main       -> FETCH_HEAD\n",
      "Executing: git push --force-with-lease origin main\n",
      "Non-error message from 'git push --force-with-lease origin main': To github.com:mnizam1/LaunchPad_TaskHandler.git\n",
      "   cb115a97..9edc0924  main -> main\n",
      "Repository is in an inconsistent state.\n",
      "Push successful!\n"
     ]
    }
   ],
   "source": [
    "autoGit('push', comment=comment)"
   ]
  },
  {
   "cell_type": "code",
   "execution_count": 5,
   "id": "6b82cfeb-f169-4ff4-8b18-26526f70d824",
   "metadata": {},
   "outputs": [
    {
     "name": "stdout",
     "output_type": "stream",
     "text": [
      "Executing: git fetch origin\n",
      "Executing: git merge --strategy=recursive -X theirs origin/main\n",
      "Output: Already up to date.\n",
      "\n",
      "Non-error message from 'git merge --strategy=recursive -X theirs origin/main': Already up to date.\n",
      "Repository is in an inconsistent state.\n",
      "Pull successful!\n"
     ]
    }
   ],
   "source": [
    "autoGit('pull')"
   ]
  },
  {
   "cell_type": "code",
   "execution_count": 6,
   "id": "c04fa778-246c-41f0-8033-aa60e1267bb3",
   "metadata": {},
   "outputs": [],
   "source": [
    "# def runTComand(query, isListFormat=False, cwd=None, returncode=False):\n",
    "#     if not isListFormat:\n",
    "#         query = [query]\n",
    "\n",
    "#     if cwd:\n",
    "#         result = subprocess.run(query, capture_output=True, text=True, shell=True, cwd=cwd)\n",
    "#     else:\n",
    "#         result = subprocess.run(query, capture_output=True, text=True, shell=True, check=True)\n",
    "#     # print(result.stdout)\n",
    "#     # print(result.stderr)\n",
    "#     if returncode:\n",
    "#         return result.stdout, result.stderr, result.returncode\n",
    "#     else:\n",
    "#         return result.stdout, result.stderr"
   ]
  },
  {
   "cell_type": "code",
   "execution_count": 7,
   "id": "ab7a6877-1177-4901-9e72-4f354c1abde5",
   "metadata": {},
   "outputs": [],
   "source": [
    "# def get_modified_and_untracked_files(repo_root):\n",
    "#     # Run 'git status --porcelain -z'\n",
    "#     stdout, stderr, returncode = runTComand('git status --porcelain -z', cwd=repo_root, returncode=True)\n",
    "#     if returncode != 0:\n",
    "#         error_message = stderr.strip() if stderr else stdout.strip()\n",
    "#         # Fail_mail(f\"Error getting git status: {error_message}\", mailID='123@example.com')\n",
    "#         return [], []\n",
    "    \n",
    "#     modified_files = []\n",
    "#     untracked_files = []\n",
    "    \n",
    "#     entries = stdout.strip('\\0').split('\\0')\n",
    "#     for entry in entries:\n",
    "#         if not entry:\n",
    "#             continue\n",
    "#         status_code = entry[:2]\n",
    "#         file_path = entry[3:]\n",
    "        \n",
    "#         absolute_path = os.path.join(repo_root, file_path)\n",
    "#         relative_path = os.path.relpath(absolute_path, repo_root)\n",
    "        \n",
    "#         # Skip files in .git directory\n",
    "#         if '.git' in relative_path.split(os.path.sep):\n",
    "#             continue\n",
    "        \n",
    "#         if status_code.strip() in ['M', 'MM', 'AM', 'A', 'D', 'R', 'C']:\n",
    "#             # Modified files\n",
    "#             modified_files.append(relative_path)\n",
    "#         elif status_code.strip() == '??':\n",
    "#             # Untracked files\n",
    "#             untracked_files.append(relative_path)\n",
    "#         # Handle other status codes if needed\n",
    "    \n",
    "#     return modified_files, untracked_files\n"
   ]
  },
  {
   "cell_type": "code",
   "execution_count": 8,
   "id": "7421d83d-13d9-4946-b620-184399f34a4d",
   "metadata": {},
   "outputs": [],
   "source": [
    "# import re\n",
    "\n",
    "# def getModifiedAndUntrackedFilesGit(repo_root):\n",
    "#     import re\n",
    "#     # Run 'git status --porcelain'\n",
    "#     stdout, stderr, returncode = runTComand('git status --porcelain', cwd=repo_root, returncode=True)\n",
    "#     if returncode != 0:\n",
    "#         error_message = stderr.strip() if stderr else stdout.strip()\n",
    "#         # Fail_mail(f\"Error getting git status: {error_message}\", mailID='123@example.com')\n",
    "#         return [], []\n",
    "    \n",
    "#     modified_files = []\n",
    "#     untracked_files = []\n",
    "    \n",
    "#     # Regex pattern to match the status code and file path\n",
    "#     pattern = re.compile(r'^(\\s?[MADRCU?!]{1,2})\\s+(.*)$')\n",
    "    \n",
    "#     for line in stdout.strip().split('\\n'):\n",
    "#         if not line:\n",
    "#             continue\n",
    "#         match = pattern.match(line)\n",
    "#         if not match:\n",
    "#             continue  # Skip lines that don't match the pattern\n",
    "        \n",
    "#         status_code = match.group(1).strip()\n",
    "#         file_path = match.group(2)\n",
    "        \n",
    "#         # Remove surrounding quotes if present\n",
    "#         file_path = file_path.strip('\"')\n",
    "        \n",
    "#         absolute_path = os.path.join(repo_root, file_path)\n",
    "#         relative_path = os.path.relpath(absolute_path, repo_root)\n",
    "        \n",
    "#         # Skip files in .git directory\n",
    "#         if '.git' in relative_path.split(os.path.sep):\n",
    "#             continue\n",
    "        \n",
    "#         if status_code in ['M', 'MM', 'AM', 'A', 'D', 'R', 'C', 'UU']:\n",
    "#             # Modified files\n",
    "#             modified_files.append(relative_path)\n",
    "#         elif status_code == '??':\n",
    "#             # Untracked files\n",
    "#             untracked_files.append(relative_path)\n",
    "#         # Handle other status codes if needed\n",
    "    \n",
    "#     return modified_files, untracked_files\n"
   ]
  },
  {
   "cell_type": "code",
   "execution_count": 9,
   "id": "565bde6a-4469-4079-b119-3c0d55cdb844",
   "metadata": {},
   "outputs": [],
   "source": [
    "# script_dir = os.getcwd()\n",
    "# repo_root = os.path.abspath(os.path.join(script_dir, '..'))\n",
    "# getModifiedAndUntrackedFilesGit(repo_root)"
   ]
  },
  {
   "cell_type": "code",
   "execution_count": 10,
   "id": "822a6c5d-8546-4c8c-94b3-1226dcf4882f",
   "metadata": {},
   "outputs": [],
   "source": [
    "# modified_files, untracked_files = getModifiedAndUntrackedFilesGit(repo_root)\n",
    "# all_files = modified_files + untracked_files"
   ]
  },
  {
   "cell_type": "code",
   "execution_count": 11,
   "id": "59403ea7-aaa9-428a-b2eb-51c7330b3e85",
   "metadata": {},
   "outputs": [],
   "source": [
    "# all_files"
   ]
  },
  {
   "cell_type": "code",
   "execution_count": 12,
   "id": "f1913690-1bbe-4ad6-a4c0-7613b5da151a",
   "metadata": {},
   "outputs": [],
   "source": [
    "# stdout, stderr, returncode = runTComand('git status --porcelain', cwd=repo_root, returncode=True)"
   ]
  },
  {
   "cell_type": "code",
   "execution_count": 13,
   "id": "761849ba-2193-4e84-9cc0-e5e5d1d8ef94",
   "metadata": {},
   "outputs": [],
   "source": [
    "# stdout.strip().split('\\n')"
   ]
  },
  {
   "cell_type": "code",
   "execution_count": null,
   "id": "f1b87c6c-bbe3-46e3-a678-297c46228eb3",
   "metadata": {},
   "outputs": [],
   "source": []
  }
 ],
 "metadata": {
  "kernelspec": {
   "display_name": "01. Python 3.10 (General DS)",
   "language": "python",
   "name": "python310"
  },
  "language_info": {
   "codemirror_mode": {
    "name": "ipython",
    "version": 3
   },
   "file_extension": ".py",
   "mimetype": "text/x-python",
   "name": "python",
   "nbconvert_exporter": "python",
   "pygments_lexer": "ipython3",
   "version": "3.10.8"
  }
 },
 "nbformat": 4,
 "nbformat_minor": 5
}
