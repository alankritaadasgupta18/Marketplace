{
 "cells": [
  {
   "cell_type": "code",
   "execution_count": 1,
   "id": "b59dbd78",
   "metadata": {},
   "outputs": [
    {
     "name": "stderr",
     "output_type": "stream",
     "text": [
      "01/07/2025 03:18:18 AM \u001b[93m Consumer and user passed, using user for authentication. \u001b[0m\n",
      "01/07/2025 03:18:19 AM \u001b[93m Consumer and user passed, using user for authentication. \u001b[0m\n"
     ]
    }
   ],
   "source": [
    "import pandas as pd\n",
    "import numpy as np\n",
    "import os\n",
    "import glob\n",
    "from querybuilder_client import QuerybuilderClient\n",
    "from queryrunner_client import Client\n",
    "import datetime\n",
    "import base64\n",
    "from IPython.display import HTML\n",
    "import warnings\n",
    "import pygsheets\n",
    "import ast\n",
    "import IPython\n",
    "from numpy import nan\n",
    "warnings.filterwarnings('ignore')\n",
    "\n",
    "from dateutil.parser import parse\n",
    "from time import sleep\n",
    "from datetime import datetime\n",
    "from datetime import timedelta\n",
    "\n",
    "import os\n",
    "from oauth2client.service_account import ServiceAccountCredentials\n",
    "\n",
    "qr = Client(user_email='mrajor@ext.uber.com', consumer_name='marketplace-mobility-ops-analytics')\n",
    "\n",
    "gc = pygsheets.authorize(service_file='meehir.json')\n",
    "\n",
    "wsaccess = pygsheets.authorize(service_file='meehir.json')\n",
    "main_sheet = wsaccess.open_by_key('13annBgtL_ig4SQXS1YjuexUWdHid_d307SRS9ZEwHjQ')\n",
    "details = main_sheet.worksheet_by_title('Automation')\n",
    "qr = Client(user_email='mrajor@ext.uber.com', consumer_name='marketplace-mobility-ops-analytics')"
   ]
  },
  {
   "cell_type": "code",
   "execution_count": 2,
   "id": "40d08f15",
   "metadata": {},
   "outputs": [
    {
     "data": {
      "text/plain": [
       "<Worksheet 'Automation' index:25>"
      ]
     },
     "execution_count": 2,
     "metadata": {},
     "output_type": "execute_result"
    }
   ],
   "source": [
    "details"
   ]
  },
  {
   "cell_type": "code",
   "execution_count": 3,
   "id": "7fa5dcd9",
   "metadata": {},
   "outputs": [],
   "source": [
    "df=details.get_as_df()"
   ]
  },
  {
   "cell_type": "code",
   "execution_count": 4,
   "id": "3cea4b6d",
   "metadata": {},
   "outputs": [
    {
     "data": {
      "text/html": [
       "<div>\n",
       "<style scoped>\n",
       "    .dataframe tbody tr th:only-of-type {\n",
       "        vertical-align: middle;\n",
       "    }\n",
       "\n",
       "    .dataframe tbody tr th {\n",
       "        vertical-align: top;\n",
       "    }\n",
       "\n",
       "    .dataframe thead th {\n",
       "        text-align: right;\n",
       "    }\n",
       "</style>\n",
       "<table border=\"1\" class=\"dataframe\">\n",
       "  <thead>\n",
       "    <tr style=\"text-align: right;\">\n",
       "      <th></th>\n",
       "      <th>tab_name</th>\n",
       "      <th>sheet link in which data needs to get pasted</th>\n",
       "      <th>query key</th>\n",
       "      <th>query_link</th>\n",
       "    </tr>\n",
       "  </thead>\n",
       "  <tbody>\n",
       "    <tr>\n",
       "      <th>0</th>\n",
       "      <td>RD-Bike_non_d</td>\n",
       "      <td>https://docs.google.com/spreadsheets/d/13annBg...</td>\n",
       "      <td>9Edqt2ONp</td>\n",
       "      <td>https://querybuilder-ea.uberinternal.com/r/9Ed...</td>\n",
       "    </tr>\n",
       "    <tr>\n",
       "      <th>1</th>\n",
       "      <td>RD-Bike_disc_d</td>\n",
       "      <td>https://docs.google.com/spreadsheets/d/13annBg...</td>\n",
       "      <td>uxxdz8lBB</td>\n",
       "      <td>https://querybuilder-ea.uberinternal.com/r/uxx...</td>\n",
       "    </tr>\n",
       "    <tr>\n",
       "      <th>2</th>\n",
       "      <td>RD-Bikelite_disc_d</td>\n",
       "      <td>https://docs.google.com/spreadsheets/d/13annBg...</td>\n",
       "      <td>z3UOie5yf</td>\n",
       "      <td>https://querybuilder-ea.uberinternal.com/r/z3U...</td>\n",
       "    </tr>\n",
       "    <tr>\n",
       "      <th>3</th>\n",
       "      <td>RD-Bikelite_non_d</td>\n",
       "      <td>https://docs.google.com/spreadsheets/d/13annBg...</td>\n",
       "      <td>Ds6cschll</td>\n",
       "      <td>https://querybuilder-ea.uberinternal.com/r/Ds6...</td>\n",
       "    </tr>\n",
       "  </tbody>\n",
       "</table>\n",
       "</div>"
      ],
      "text/plain": [
       "             tab_name       sheet link in which data needs to get pasted  \\\n",
       "0       RD-Bike_non_d  https://docs.google.com/spreadsheets/d/13annBg...   \n",
       "1      RD-Bike_disc_d  https://docs.google.com/spreadsheets/d/13annBg...   \n",
       "2  RD-Bikelite_disc_d  https://docs.google.com/spreadsheets/d/13annBg...   \n",
       "3   RD-Bikelite_non_d  https://docs.google.com/spreadsheets/d/13annBg...   \n",
       "\n",
       "   query key                                         query_link  \n",
       "0  9Edqt2ONp  https://querybuilder-ea.uberinternal.com/r/9Ed...  \n",
       "1  uxxdz8lBB  https://querybuilder-ea.uberinternal.com/r/uxx...  \n",
       "2  z3UOie5yf  https://querybuilder-ea.uberinternal.com/r/z3U...  \n",
       "3  Ds6cschll  https://querybuilder-ea.uberinternal.com/r/Ds6...  "
      ]
     },
     "execution_count": 4,
     "metadata": {},
     "output_type": "execute_result"
    }
   ],
   "source": [
    "df"
   ]
  },
  {
   "cell_type": "code",
   "execution_count": 5,
   "id": "549f8e3b",
   "metadata": {},
   "outputs": [
    {
     "name": "stdout",
     "output_type": "stream",
     "text": [
      "2\n",
      "1\n"
     ]
    }
   ],
   "source": [
    "from datetime import datetime, timedelta\n",
    "# Calculate the start and end dates\n",
    "start = 2  # Yesterday's ago   #tried for 1 day ago on 24th dec asked by varsha, but data is not coming, getting data at 11:30\n",
    "end = 1  # today's date  \n",
    "print(start)\n",
    "print(end)"
   ]
  },
  {
   "cell_type": "code",
   "execution_count": 6,
   "id": "91b86b25",
   "metadata": {
    "scrolled": true
   },
   "outputs": [
    {
     "name": "stderr",
     "output_type": "stream",
     "text": [
      "01/07/2025 03:18:19 AM \u001b[93m Fetching metadata for Report 9Edqt2ONp \u001b[0m\n",
      "2025-01-07 03:18:19,705 querybuilder_client INFO \u001b[93m Fetching metadata for Report 9Edqt2ONp \u001b[0m\n",
      "01/07/2025 03:18:19 AM \u001b[92m Loaded object metadata. \u001b[0m\n",
      "2025-01-07 03:18:19,759 querybuilder_client INFO \u001b[92m Loaded object metadata. \u001b[0m\n",
      "01/07/2025 03:18:19 AM \u001b[93m Templating query for report 9Edqt2ONp \u001b[0m\n",
      "2025-01-07 03:18:19,761 querybuilder_client INFO \u001b[93m Templating query for report 9Edqt2ONp \u001b[0m\n",
      "01/07/2025 03:18:19 AM \u001b[92m Templated query successfully. \u001b[0m\n",
      "2025-01-07 03:18:19,827 querybuilder_client INFO \u001b[92m Templated query successfully. \u001b[0m\n",
      "01/07/2025 03:18:19 AM Send tier_metadata {'report_id': '9Edqt2ONp'} to Queryrunner V2.\n",
      "01/07/2025 03:18:20 AM \u001b[93m [Polling] 8bf65f70-212f-452e-855d-6a934972832c \u001b[0m\n",
      "01/07/2025 03:18:20 AM \u001b[93m [Status] created \u001b[0m\n",
      "01/07/2025 03:18:21 AM \u001b[93m [Status] started validation \u001b[0m\n",
      "01/07/2025 03:18:37 AM \u001b[93m [Status] started auth check \u001b[0m\n",
      "01/07/2025 03:18:47 AM \u001b[93m [Status] started waiting to execute \u001b[0m\n",
      "01/07/2025 03:21:43 AM \u001b[93m [Status] started execution \u001b[0m\n"
     ]
    },
    {
     "name": "stdout",
     "output_type": "stream",
     "text": [
      "Data uploaded\n"
     ]
    },
    {
     "name": "stderr",
     "output_type": "stream",
     "text": [
      "01/07/2025 03:31:24 AM \u001b[93m [Polling] 52e42395-ca52-4001-9bf9-4ce6f1ca67c2 \u001b[0m\n",
      "01/07/2025 03:31:24 AM \u001b[93m [Status] created \u001b[0m\n",
      "01/07/2025 03:31:25 AM \u001b[93m [Status] started validation \u001b[0m\n",
      "01/07/2025 03:31:51 AM \u001b[93m [Status] started waiting to execute \u001b[0m\n",
      "01/07/2025 03:32:27 AM \u001b[93m [Status] started execution \u001b[0m\n",
      "01/07/2025 03:39:23 AM \u001b[93m [Status] completed success \u001b[0m\n",
      "01/07/2025 03:39:23 AM \u001b[92m [Query Success] completed success \u001b[0m\n"
     ]
    },
    {
     "name": "stdout",
     "output_type": "stream",
     "text": [
      "RD-Bike_disc_d\n"
     ]
    },
    {
     "name": "stderr",
     "output_type": "stream",
     "text": [
      "01/07/2025 03:39:26 AM \u001b[93m Fetching metadata for Report z3UOie5yf \u001b[0m\n",
      "2025-01-07 03:39:26,599 querybuilder_client INFO \u001b[93m Fetching metadata for Report z3UOie5yf \u001b[0m\n",
      "01/07/2025 03:39:26 AM \u001b[92m Loaded object metadata. \u001b[0m\n",
      "2025-01-07 03:39:26,649 querybuilder_client INFO \u001b[92m Loaded object metadata. \u001b[0m\n",
      "01/07/2025 03:39:26 AM \u001b[93m Templating query for report z3UOie5yf \u001b[0m\n",
      "2025-01-07 03:39:26,651 querybuilder_client INFO \u001b[93m Templating query for report z3UOie5yf \u001b[0m\n",
      "01/07/2025 03:39:26 AM \u001b[92m Templated query successfully. \u001b[0m\n",
      "2025-01-07 03:39:26,736 querybuilder_client INFO \u001b[92m Templated query successfully. \u001b[0m\n",
      "01/07/2025 03:39:26 AM Send tier_metadata {'report_id': 'z3UOie5yf'} to Queryrunner V2.\n"
     ]
    },
    {
     "name": "stdout",
     "output_type": "stream",
     "text": [
      "Data uploaded\n"
     ]
    },
    {
     "name": "stderr",
     "output_type": "stream",
     "text": [
      "01/07/2025 03:39:26 AM \u001b[93m [Polling] d10b3be3-fc9f-4010-81d3-3f8a1840b6f3 \u001b[0m\n",
      "01/07/2025 03:39:26 AM \u001b[93m [Status] created \u001b[0m\n",
      "01/07/2025 03:39:27 AM \u001b[93m [Status] started validation \u001b[0m\n",
      "01/07/2025 03:39:54 AM \u001b[93m [Status] started auth check \u001b[0m\n",
      "01/07/2025 03:40:04 AM \u001b[93m [Status] started execution \u001b[0m\n",
      "01/07/2025 03:43:30 AM \u001b[93m [Status] completed success \u001b[0m\n",
      "01/07/2025 03:43:30 AM \u001b[92m [Query Success] completed success \u001b[0m\n"
     ]
    },
    {
     "name": "stdout",
     "output_type": "stream",
     "text": [
      "RD-Bikelite_disc_d\n"
     ]
    },
    {
     "name": "stderr",
     "output_type": "stream",
     "text": [
      "01/07/2025 03:43:33 AM \u001b[93m Fetching metadata for Report Ds6cschll \u001b[0m\n",
      "2025-01-07 03:43:33,017 querybuilder_client INFO \u001b[93m Fetching metadata for Report Ds6cschll \u001b[0m\n",
      "01/07/2025 03:43:33 AM \u001b[92m Loaded object metadata. \u001b[0m\n",
      "2025-01-07 03:43:33,160 querybuilder_client INFO \u001b[92m Loaded object metadata. \u001b[0m\n",
      "01/07/2025 03:43:33 AM \u001b[93m Templating query for report Ds6cschll \u001b[0m\n",
      "2025-01-07 03:43:33,162 querybuilder_client INFO \u001b[93m Templating query for report Ds6cschll \u001b[0m\n"
     ]
    },
    {
     "name": "stdout",
     "output_type": "stream",
     "text": [
      "Data uploaded\n"
     ]
    },
    {
     "name": "stderr",
     "output_type": "stream",
     "text": [
      "01/07/2025 03:43:33 AM \u001b[92m Templated query successfully. \u001b[0m\n",
      "2025-01-07 03:43:33,222 querybuilder_client INFO \u001b[92m Templated query successfully. \u001b[0m\n",
      "01/07/2025 03:43:33 AM Send tier_metadata {'report_id': 'Ds6cschll'} to Queryrunner V2.\n",
      "01/07/2025 03:43:33 AM \u001b[93m [Polling] 12834383-ccfa-46fa-8972-93e3d7b171ec \u001b[0m\n",
      "01/07/2025 03:43:33 AM \u001b[93m [Status] created \u001b[0m\n",
      "01/07/2025 03:43:34 AM \u001b[93m [Status] started validation \u001b[0m\n",
      "01/07/2025 03:43:50 AM \u001b[93m [Status] started auth check \u001b[0m\n",
      "01/07/2025 03:44:00 AM \u001b[93m [Status] started execution \u001b[0m\n",
      "01/07/2025 03:49:57 AM \u001b[93m [Status] completed success \u001b[0m\n",
      "01/07/2025 03:49:57 AM \u001b[92m [Query Success] completed success \u001b[0m\n"
     ]
    },
    {
     "name": "stdout",
     "output_type": "stream",
     "text": [
      "RD-Bikelite_non_d\n",
      "Data uploaded\n"
     ]
    }
   ],
   "source": [
    "for i in range(0, len(df)):\n",
    "    try:\n",
    "        # Fetch the report data\n",
    "        try:\n",
    "            try:\n",
    "                df_to_be_appended = qr.execute_report(df.iloc[i, 2], parameters={\"start\": start, \"end\": end}, datacenter='phx2').to_pandas()\n",
    "                print(df.iloc[i, 0])\n",
    "            except:\n",
    "                df_to_be_appended = qr.execute_report(df.iloc[i, 2], parameters={\"start\": start, \"end\": end}, datacenter='dca1').to_pandas()\n",
    "                print('query failed, running in dca1')\n",
    "        except Exception as e:\n",
    "            print(f\"Failed to get data for {df.iloc[i, 0]}: {e}\")\n",
    "            continue\n",
    "\n",
    "        # Append data to the existing sheet\n",
    "        try:\n",
    "            sheet_url = df.iloc[i, 1]\n",
    "            sheet_title = df.iloc[i, 0]\n",
    "            wks = gc.open_by_url(sheet_url).worksheet_by_title(sheet_title)\n",
    "\n",
    "            # Determine the last row with data and append new data\n",
    "            last_row = len(wks.get_col(1, include_tailing_empty=False)) + 1\n",
    "            wks.add_rows(df_to_be_appended.shape[0])\n",
    "            wks.set_dataframe(df_to_be_appended, start='A{}'.format(last_row), copy_head=False)\n",
    "            print('Data uploaded')\n",
    "        except Exception as e:\n",
    "            print(f\"Failed to update sheet {df.iloc[i, 0]}: {e}\")\n",
    "            continue\n",
    "\n",
    "    except Exception as e:\n",
    "        print(f\"Failed to process index {i}: {e}\")\n",
    "        continue"
   ]
  },
  {
   "cell_type": "code",
   "execution_count": null,
   "id": "9dba853a",
   "metadata": {},
   "outputs": [],
   "source": []
  }
 ],
 "metadata": {
  "kernelspec": {
   "display_name": "04. Python 3.6 (General DS)",
   "language": "python",
   "name": "python3"
  },
  "language_info": {
   "codemirror_mode": {
    "name": "ipython",
    "version": 3
   },
   "file_extension": ".py",
   "mimetype": "text/x-python",
   "name": "python",
   "nbconvert_exporter": "python",
   "pygments_lexer": "ipython3",
   "version": "3.6.4"
  }
 },
 "nbformat": 4,
 "nbformat_minor": 5
}
