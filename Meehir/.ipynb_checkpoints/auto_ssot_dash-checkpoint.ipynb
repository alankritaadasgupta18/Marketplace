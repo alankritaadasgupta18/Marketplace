{
 "cells": [
  {
   "cell_type": "code",
   "execution_count": 1,
   "id": "b1550164",
   "metadata": {},
   "outputs": [
    {
     "name": "stderr",
     "output_type": "stream",
     "text": [
      "12/06/2024 10:58:34 AM \u001b[93m Consumer and user passed, using user for authentication. \u001b[0m\n",
      "12/06/2024 10:58:35 AM \u001b[93m Consumer and user passed, using user for authentication. \u001b[0m\n"
     ]
    }
   ],
   "source": [
    "import pandas as pd\n",
    "import numpy as np\n",
    "import os\n",
    "import glob\n",
    "from querybuilder_client import QuerybuilderClient\n",
    "from queryrunner_client import Client\n",
    "import datetime\n",
    "import base64\n",
    "from IPython.display import HTML\n",
    "import warnings\n",
    "import pygsheets\n",
    "import ast\n",
    "import IPython\n",
    "from numpy import nan\n",
    "import json\n",
    "\n",
    "warnings.filterwarnings('ignore')\n",
    "\n",
    "from dateutil.parser import parse\n",
    "from time import sleep\n",
    "from datetime import datetime\n",
    "from datetime import timedelta\n",
    "\n",
    "import os\n",
    "from oauth2client.service_account import ServiceAccountCredentials\n",
    "\n",
    "qr = Client(user_email='mrajor@ext.uber.com', consumer_name='marketplace-mobility-ops-analytics')\n",
    "\n",
    "gc = pygsheets.authorize(service_file='meehir.json')\n",
    "\n",
    "wsaccess = pygsheets.authorize(service_file='meehir.json')\n",
    "main_sheet = wsaccess.open_by_key('1Yrzxjg2FI2bDYV7_pAwvBAdCF2GeN-8OQtBu8qE1GDg')\n",
    "details = main_sheet.worksheet_by_title('npi_auto_ssot')\n",
    "qr = Client(user_email='mrajor@ext.uber.com', consumer_name='marketplace-mobility-ops-analytics')"
   ]
  },
  {
   "cell_type": "code",
   "execution_count": 2,
   "id": "fa31d2ce",
   "metadata": {},
   "outputs": [
    {
     "data": {
      "text/html": [
       "<div>\n",
       "<style scoped>\n",
       "    .dataframe tbody tr th:only-of-type {\n",
       "        vertical-align: middle;\n",
       "    }\n",
       "\n",
       "    .dataframe tbody tr th {\n",
       "        vertical-align: top;\n",
       "    }\n",
       "\n",
       "    .dataframe thead th {\n",
       "        text-align: right;\n",
       "    }\n",
       "</style>\n",
       "<table border=\"1\" class=\"dataframe\">\n",
       "  <thead>\n",
       "    <tr style=\"text-align: right;\">\n",
       "      <th></th>\n",
       "      <th>Report</th>\n",
       "      <th>Car</th>\n",
       "      <th>Query</th>\n",
       "      <th>tab_name</th>\n",
       "      <th>sheets</th>\n",
       "    </tr>\n",
       "  </thead>\n",
       "  <tbody>\n",
       "    <tr>\n",
       "      <th>0</th>\n",
       "      <td>HhuBony83</td>\n",
       "      <td>auto rapidp</td>\n",
       "      <td>https://querybuilder-ea.uberinternal.com/r/Hhu...</td>\n",
       "      <td>raw_rapido_daily_discounted</td>\n",
       "      <td>https://docs.google.com/spreadsheets/d/1wvbIKt...</td>\n",
       "    </tr>\n",
       "    <tr>\n",
       "      <th>1</th>\n",
       "      <td>s8TBaw9Np</td>\n",
       "      <td>auto ola</td>\n",
       "      <td>https://querybuilder-ea.uberinternal.com/r/s8T...</td>\n",
       "      <td>raw_ola_daily</td>\n",
       "      <td>https://docs.google.com/spreadsheets/d/1wvbIKt...</td>\n",
       "    </tr>\n",
       "  </tbody>\n",
       "</table>\n",
       "</div>"
      ],
      "text/plain": [
       "      Report          Car                                              Query  \\\n",
       "0  HhuBony83  auto rapidp  https://querybuilder-ea.uberinternal.com/r/Hhu...   \n",
       "1  s8TBaw9Np     auto ola  https://querybuilder-ea.uberinternal.com/r/s8T...   \n",
       "\n",
       "                      tab_name  \\\n",
       "0  raw_rapido_daily_discounted   \n",
       "1                raw_ola_daily   \n",
       "\n",
       "                                              sheets  \n",
       "0  https://docs.google.com/spreadsheets/d/1wvbIKt...  \n",
       "1  https://docs.google.com/spreadsheets/d/1wvbIKt...  "
      ]
     },
     "execution_count": 2,
     "metadata": {},
     "output_type": "execute_result"
    }
   ],
   "source": [
    "report_sheet=details.get_as_df()\n",
    "report_sheet"
   ]
  },
  {
   "cell_type": "code",
   "execution_count": 3,
   "id": "30d33076",
   "metadata": {
    "scrolled": true
   },
   "outputs": [
    {
     "name": "stderr",
     "output_type": "stream",
     "text": [
      "11/11/2024 08:48:45 PM \u001b[93m Fetching metadata for Report HhuBony83 \u001b[0m\n",
      "2024-11-11 20:48:45,332 querybuilder_client INFO \u001b[93m Fetching metadata for Report HhuBony83 \u001b[0m\n",
      "11/11/2024 08:48:45 PM \u001b[92m Loaded object metadata. \u001b[0m\n",
      "2024-11-11 20:48:45,377 querybuilder_client INFO \u001b[92m Loaded object metadata. \u001b[0m\n",
      "11/11/2024 08:48:45 PM \u001b[93m Templating query for report HhuBony83 \u001b[0m\n",
      "2024-11-11 20:48:45,378 querybuilder_client INFO \u001b[93m Templating query for report HhuBony83 \u001b[0m\n",
      "11/11/2024 08:48:45 PM \u001b[92m Templated query successfully. \u001b[0m\n",
      "2024-11-11 20:48:45,440 querybuilder_client INFO \u001b[92m Templated query successfully. \u001b[0m\n",
      "11/11/2024 08:48:45 PM Send tier_metadata {'report_id': 'HhuBony83'} to Queryrunner V2.\n",
      "11/11/2024 08:48:45 PM \u001b[93m [Polling] 39d5eaad-b55b-4bfe-914f-52ec59db0721 \u001b[0m\n",
      "11/11/2024 08:48:45 PM \u001b[93m [Status] created \u001b[0m\n",
      "11/11/2024 08:48:46 PM \u001b[93m [Status] started validation \u001b[0m\n",
      "11/11/2024 08:49:02 PM \u001b[93m [Status] started auth check \u001b[0m\n",
      "11/11/2024 08:49:12 PM \u001b[93m [Status] started execution \u001b[0m\n",
      "11/11/2024 08:58:10 PM \u001b[93m [Status] completed success \u001b[0m\n",
      "11/11/2024 08:58:10 PM \u001b[92m [Query Success] completed success \u001b[0m\n"
     ]
    },
    {
     "name": "stdout",
     "output_type": "stream",
     "text": [
      "auto rapidp\n"
     ]
    },
    {
     "name": "stderr",
     "output_type": "stream",
     "text": [
      "11/11/2024 08:59:56 PM \u001b[93m Fetching metadata for Report s8TBaw9Np \u001b[0m\n",
      "2024-11-11 20:59:56,339 querybuilder_client INFO \u001b[93m Fetching metadata for Report s8TBaw9Np \u001b[0m\n",
      "11/11/2024 08:59:56 PM \u001b[92m Loaded object metadata. \u001b[0m\n",
      "2024-11-11 20:59:56,417 querybuilder_client INFO \u001b[92m Loaded object metadata. \u001b[0m\n",
      "11/11/2024 08:59:56 PM \u001b[93m Templating query for report s8TBaw9Np \u001b[0m\n",
      "2024-11-11 20:59:56,419 querybuilder_client INFO \u001b[93m Templating query for report s8TBaw9Np \u001b[0m\n",
      "11/11/2024 08:59:56 PM \u001b[92m Templated query successfully. \u001b[0m\n",
      "2024-11-11 20:59:56,499 querybuilder_client INFO \u001b[92m Templated query successfully. \u001b[0m\n",
      "11/11/2024 08:59:56 PM Send tier_metadata {'report_id': 's8TBaw9Np'} to Queryrunner V2.\n"
     ]
    },
    {
     "name": "stdout",
     "output_type": "stream",
     "text": [
      "data uploaded\n"
     ]
    },
    {
     "name": "stderr",
     "output_type": "stream",
     "text": [
      "11/11/2024 08:59:56 PM \u001b[93m [Polling] bf4620ff-c46a-4533-b6a6-055270fd978e \u001b[0m\n",
      "11/11/2024 08:59:56 PM \u001b[93m [Status] created \u001b[0m\n",
      "11/11/2024 08:59:57 PM \u001b[93m [Status] started validation \u001b[0m\n",
      "11/11/2024 09:00:13 PM \u001b[93m [Status] started auth check \u001b[0m\n",
      "11/11/2024 09:00:23 PM \u001b[93m [Status] started execution \u001b[0m\n",
      "11/11/2024 09:26:24 PM \u001b[93m [Status] completed success \u001b[0m\n",
      "11/11/2024 09:26:24 PM \u001b[92m [Query Success] completed success \u001b[0m\n"
     ]
    },
    {
     "name": "stdout",
     "output_type": "stream",
     "text": [
      "auto ola\n"
     ]
    }
   ],
   "source": [
    "for i in range(0,2):\n",
    "    df=report_sheet\n",
    "    try:\n",
    "        try:\n",
    "            try:\n",
    "                df_to_be_appended = qr.execute_report(df.iloc[i,0],parameters={\"start\":\"15\",\"end\":\"1\"},datacenter='phx2').to_pandas()\n",
    "                print(df.iloc[i,1])\n",
    "            except:\n",
    "                df_to_be_appended = qr.execute_report(df.iloc[i,0],parameters={\"start\":\"15\",\"end\":\"1\"},datacenter='dac1').to_pandas()\n",
    "                print('query failed, running in dca1')\n",
    "        except:\n",
    "            print(\"query run failed\")\n",
    "            continue\n",
    "        wks = gc.open_by_url(df.iloc[i,4]).worksheet_by_title(df.iloc[i,3])\n",
    "        wks.clear()\n",
    "        wks.set_dataframe(df_to_be_appended,start='A{}'.format(1))\n",
    "        print('data uploaded')\n",
    "    except:\n",
    "        continue"
   ]
  },
  {
   "cell_type": "code",
   "execution_count": null,
   "id": "a2150587",
   "metadata": {},
   "outputs": [],
   "source": []
  },
  {
   "cell_type": "code",
   "execution_count": null,
   "id": "6b845344",
   "metadata": {},
   "outputs": [],
   "source": []
  }
 ],
 "metadata": {
  "kernelspec": {
   "display_name": "04. Python 3.6 (General DS)",
   "language": "python",
   "name": "python3"
  },
  "language_info": {
   "codemirror_mode": {
    "name": "ipython",
    "version": 3
   },
   "file_extension": ".py",
   "mimetype": "text/x-python",
   "name": "python",
   "nbconvert_exporter": "python",
   "pygments_lexer": "ipython3",
   "version": "3.6.4"
  }
 },
 "nbformat": 4,
 "nbformat_minor": 5
}
