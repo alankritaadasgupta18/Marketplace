{
 "cells": [
  {
   "cell_type": "code",
   "execution_count": null,
   "id": "b59dbd78",
   "metadata": {},
   "outputs": [],
   "source": [
    "import pandas as pd\n",
    "import numpy as np\n",
    "import os\n",
    "import glob\n",
    "from querybuilder_client import QuerybuilderClient\n",
    "from queryrunner_client import Client\n",
    "import datetime\n",
    "import base64\n",
    "from IPython.display import HTML\n",
    "import warnings\n",
    "import pygsheets\n",
    "import ast\n",
    "import IPython\n",
    "from numpy import nan\n",
    "warnings.filterwarnings('ignore')\n",
    "\n",
    "from dateutil.parser import parse\n",
    "from time import sleep\n",
    "from datetime import datetime\n",
    "from datetime import timedelta\n",
    "\n",
    "import os\n",
    "from oauth2client.service_account import ServiceAccountCredentials\n",
    "\n",
    "qr = Client(user_email='mrajor@ext.uber.com', consumer_name='marketplace-mobility-ops-analytics')\n",
    "\n",
    "gc = pygsheets.authorize(service_file='meehir.json')\n",
    "\n",
    "wsaccess = pygsheets.authorize(service_file='meehir.json')\n",
    "main_sheet = wsaccess.open_by_key('1FFq1VdTlRoxc4Tydo3_i7F9jSrtohfKiObbP4gns-C0')\n",
    "details = main_sheet.worksheet_by_title('Automation')\n",
    "qr = Client(user_email='mrajor@ext.uber.com', consumer_name='marketplace-mobility-ops-analytics')"
   ]
  },
  {
   "cell_type": "code",
   "execution_count": 2,
   "id": "40d08f15",
   "metadata": {},
   "outputs": [
    {
     "data": {
      "text/plain": [
       "<Worksheet 'Automation' index:17>"
      ]
     },
     "execution_count": 2,
     "metadata": {},
     "output_type": "execute_result"
    }
   ],
   "source": [
    "details"
   ]
  },
  {
   "cell_type": "code",
   "execution_count": 3,
   "id": "7fa5dcd9",
   "metadata": {},
   "outputs": [],
   "source": [
    "df=details.get_as_df()"
   ]
  },
  {
   "cell_type": "code",
   "execution_count": 4,
   "id": "3cea4b6d",
   "metadata": {},
   "outputs": [
    {
     "data": {
      "text/html": [
       "<div>\n",
       "<style scoped>\n",
       "    .dataframe tbody tr th:only-of-type {\n",
       "        vertical-align: middle;\n",
       "    }\n",
       "\n",
       "    .dataframe tbody tr th {\n",
       "        vertical-align: top;\n",
       "    }\n",
       "\n",
       "    .dataframe thead th {\n",
       "        text-align: right;\n",
       "    }\n",
       "</style>\n",
       "<table border=\"1\" class=\"dataframe\">\n",
       "  <thead>\n",
       "    <tr style=\"text-align: right;\">\n",
       "      <th></th>\n",
       "      <th>tab_name</th>\n",
       "      <th>sheet link in which data needs to get pasted</th>\n",
       "      <th>query key</th>\n",
       "      <th>query_link</th>\n",
       "    </tr>\n",
       "  </thead>\n",
       "  <tbody>\n",
       "    <tr>\n",
       "      <th>0</th>\n",
       "      <td>Raw_1</td>\n",
       "      <td>https://docs.google.com/spreadsheets/d/1FFq1Vd...</td>\n",
       "      <td>2FS1YLjTP</td>\n",
       "      <td>https://querybuilder.uberinternal.com/r/2FS1YL...</td>\n",
       "    </tr>\n",
       "  </tbody>\n",
       "</table>\n",
       "</div>"
      ],
      "text/plain": [
       "  tab_name       sheet link in which data needs to get pasted  query key  \\\n",
       "0    Raw_1  https://docs.google.com/spreadsheets/d/1FFq1Vd...  2FS1YLjTP   \n",
       "\n",
       "                                          query_link  \n",
       "0  https://querybuilder.uberinternal.com/r/2FS1YL...  "
      ]
     },
     "execution_count": 4,
     "metadata": {},
     "output_type": "execute_result"
    }
   ],
   "source": [
    "df"
   ]
  },
  {
   "cell_type": "code",
   "execution_count": 5,
   "id": "549f8e3b",
   "metadata": {},
   "outputs": [
    {
     "name": "stdout",
     "output_type": "stream",
     "text": [
      "2024-12-02\n",
      "2024-12-09\n"
     ]
    }
   ],
   "source": [
    "from datetime import datetime, timedelta\n",
    "# Calculate the start and end dates\n",
    "today = datetime.now()\n",
    "week_start = (today - timedelta(days=8)).strftime('%Y-%m-%d')  # 8 days ago\n",
    "week_end = (today - timedelta(days=1)).strftime('%Y-%m-%d')   # Yesterday's date\n",
    "print(week_start)\n",
    "print(week_end)"
   ]
  },
  {
   "cell_type": "code",
   "execution_count": 6,
   "id": "91b86b25",
   "metadata": {
    "scrolled": true
   },
   "outputs": [
    {
     "name": "stderr",
     "output_type": "stream",
     "text": [
      "10/17/2024 01:12:00 PM \u001b[93m Fetching metadata for Report 2FS1YLjTP \u001b[0m\n",
      "2024-10-17 13:12:00,064 querybuilder_client INFO \u001b[93m Fetching metadata for Report 2FS1YLjTP \u001b[0m\n",
      "10/17/2024 01:12:00 PM \u001b[92m Loaded object metadata. \u001b[0m\n",
      "2024-10-17 13:12:00,104 querybuilder_client INFO \u001b[92m Loaded object metadata. \u001b[0m\n",
      "10/17/2024 01:12:00 PM \u001b[93m Templating query for report 2FS1YLjTP \u001b[0m\n",
      "2024-10-17 13:12:00,105 querybuilder_client INFO \u001b[93m Templating query for report 2FS1YLjTP \u001b[0m\n",
      "10/17/2024 01:12:00 PM \u001b[92m Templated query successfully. \u001b[0m\n",
      "2024-10-17 13:12:00,158 querybuilder_client INFO \u001b[92m Templated query successfully. \u001b[0m\n",
      "10/17/2024 01:12:00 PM Send tier_metadata {'report_id': '2FS1YLjTP'} to Queryrunner V2.\n",
      "10/17/2024 01:12:00 PM \u001b[93m [Polling] a79b0f52-b890-4c6c-8504-c6624ccb161b \u001b[0m\n",
      "10/17/2024 01:12:00 PM \u001b[93m [Status] created \u001b[0m\n",
      "10/17/2024 01:12:01 PM \u001b[93m [Status] started validation \u001b[0m\n",
      "10/17/2024 01:12:17 PM \u001b[93m [Status] started execution \u001b[0m\n",
      "10/17/2024 01:17:13 PM \u001b[93m [Status] completed success \u001b[0m\n",
      "10/17/2024 01:17:13 PM \u001b[92m [Query Success] completed success \u001b[0m\n"
     ]
    },
    {
     "name": "stdout",
     "output_type": "stream",
     "text": [
      "Raw_1\n",
      "Data uploaded\n"
     ]
    }
   ],
   "source": [
    "for i in range(0, len(df)):\n",
    "    try:\n",
    "        # Fetch the report data\n",
    "        try:\n",
    "            try:\n",
    "                df_to_be_appended = qr.execute_report(df.iloc[i, 2], parameters={\"week_start\": week_start, \"week_end\": week_end}, datacenter='phx2').to_pandas()\n",
    "                print(df.iloc[i, 0])\n",
    "            except:\n",
    "                df_to_be_appended = qr.execute_report(df.iloc[i, 2], parameters={\"week_start\": week_start, \"week_end\": week_end}, datacenter='dca1').to_pandas()\n",
    "                print('query failed, running in dca1')\n",
    "        except Exception as e:\n",
    "            print(f\"Failed to get data for {df.iloc[i, 0]}: {e}\")\n",
    "            continue\n",
    "\n",
    "        # Append data to the existing sheet\n",
    "        try:\n",
    "            sheet_url = df.iloc[i, 1]\n",
    "            sheet_title = df.iloc[i, 0]\n",
    "            wks = gc.open_by_url(sheet_url).worksheet_by_title(sheet_title)\n",
    "\n",
    "            # Determine the last row with data and append new data\n",
    "            last_row = len(wks.get_col(1, include_tailing_empty=False)) + 1\n",
    "            wks.add_rows(df_to_be_appended.shape[0])\n",
    "            wks.set_dataframe(df_to_be_appended, start='A{}'.format(last_row), copy_head=False)\n",
    "            print('Data uploaded')\n",
    "        except Exception as e:\n",
    "            print(f\"Failed to update sheet {df.iloc[i, 0]}: {e}\")\n",
    "            continue\n",
    "\n",
    "    except Exception as e:\n",
    "        print(f\"Failed to process index {i}: {e}\")\n",
    "        continue"
   ]
  },
  {
   "cell_type": "code",
   "execution_count": null,
   "id": "9dba853a",
   "metadata": {},
   "outputs": [],
   "source": []
  }
 ],
 "metadata": {
  "kernelspec": {
   "display_name": "04. Python 3.6 (General DS)",
   "language": "python",
   "name": "python3"
  },
  "language_info": {
   "codemirror_mode": {
    "name": "ipython",
    "version": 3
   },
   "file_extension": ".py",
   "mimetype": "text/x-python",
   "name": "python",
   "nbconvert_exporter": "python",
   "pygments_lexer": "ipython3",
   "version": "3.6.4"
  }
 },
 "nbformat": 4,
 "nbformat_minor": 5
}
